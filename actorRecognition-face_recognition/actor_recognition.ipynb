{
 "cells": [
  {
   "cell_type": "code",
   "execution_count": 1,
   "id": "0cc66a79-5647-483a-8928-92e5532d91b4",
   "metadata": {},
   "outputs": [],
   "source": [
    "import face_recognition, cv2, numpy as np, os, faiss, pickle\n",
    "from tqdm.notebook import tqdm"
   ]
  },
  {
   "cell_type": "code",
   "execution_count": 3,
   "id": "56c78c13-998c-4f4e-afed-68e2b501fbbc",
   "metadata": {
    "scrolled": true
   },
   "outputs": [
    {
     "data": {
      "application/vnd.jupyter.widget-view+json": {
       "model_id": "40a185e8631245b4aa9287e5670422b8",
       "version_major": 2,
       "version_minor": 0
      },
      "text/plain": [
       "Folders:   0%|          | 0/135 [00:00<?, ?it/s]"
      ]
     },
     "metadata": {},
     "output_type": "display_data"
    },
    {
     "data": {
      "application/vnd.jupyter.widget-view+json": {
       "model_id": "60571ed0168a435d8fe19189512fd2ef",
       "version_major": 2,
       "version_minor": 0
      },
      "text/plain": [
       "Images:   0%|          | 0/43 [00:00<?, ?it/s]"
      ]
     },
     "metadata": {},
     "output_type": "display_data"
    },
    {
     "name": "stdout",
     "output_type": "stream",
     "text": [
      "abhay_deol\n",
      "abhay_deol\n",
      "abhay_deol\n",
      "abhay_deol\n",
      "abhay_deol\n",
      "abhay_deol\n",
      "abhay_deol\n",
      "abhay_deol\n",
      "abhay_deol\n",
      "abhay_deol\n",
      "abhay_deol\n",
      "abhay_deol\n",
      "abhay_deol\n",
      "abhay_deol\n",
      "abhay_deol\n",
      "abhay_deol\n",
      "abhay_deol\n",
      "abhay_deol\n",
      "abhay_deol\n",
      "abhay_deol\n",
      "abhay_deol\n",
      "abhay_deol\n",
      "abhay_deol\n",
      "abhay_deol\n",
      "abhay_deol\n",
      "abhay_deol\n",
      "abhay_deol\n",
      "abhay_deol\n"
     ]
    },
    {
     "data": {
      "application/vnd.jupyter.widget-view+json": {
       "model_id": "68ca21cd33b64842b51f0e9daa4ec4b5",
       "version_major": 2,
       "version_minor": 0
      },
      "text/plain": [
       "Images:   0%|          | 0/48 [00:00<?, ?it/s]"
      ]
     },
     "metadata": {},
     "output_type": "display_data"
    },
    {
     "name": "stdout",
     "output_type": "stream",
     "text": [
      "adil_hussain\n",
      "adil_hussain\n",
      "adil_hussain\n",
      "adil_hussain\n",
      "adil_hussain\n",
      "adil_hussain\n",
      "adil_hussain\n",
      "adil_hussain\n",
      "adil_hussain\n",
      "adil_hussain\n",
      "adil_hussain\n",
      "adil_hussain\n",
      "adil_hussain\n",
      "adil_hussain\n",
      "adil_hussain\n",
      "adil_hussain\n",
      "adil_hussain\n",
      "adil_hussain\n",
      "adil_hussain\n",
      "adil_hussain\n",
      "adil_hussain\n",
      "adil_hussain\n",
      "adil_hussain\n",
      "adil_hussain\n",
      "adil_hussain\n",
      "adil_hussain\n",
      "adil_hussain\n",
      "adil_hussain\n",
      "adil_hussain\n",
      "adil_hussain\n",
      "adil_hussain\n",
      "adil_hussain\n",
      "adil_hussain\n",
      "adil_hussain\n",
      "adil_hussain\n",
      "adil_hussain\n",
      "adil_hussain\n"
     ]
    },
    {
     "data": {
      "application/vnd.jupyter.widget-view+json": {
       "model_id": "33e4812da30943d092fcd35c6b5891c7",
       "version_major": 2,
       "version_minor": 0
      },
      "text/plain": [
       "Images:   0%|          | 0/43 [00:00<?, ?it/s]"
      ]
     },
     "metadata": {},
     "output_type": "display_data"
    },
    {
     "name": "stdout",
     "output_type": "stream",
     "text": [
      "ajay_devgn\n",
      "ajay_devgn\n",
      "ajay_devgn\n",
      "ajay_devgn\n",
      "ajay_devgn\n",
      "ajay_devgn\n",
      "ajay_devgn\n",
      "ajay_devgn\n",
      "ajay_devgn\n",
      "ajay_devgn\n",
      "ajay_devgn\n",
      "ajay_devgn\n",
      "ajay_devgn\n",
      "ajay_devgn\n",
      "ajay_devgn\n",
      "ajay_devgn\n",
      "ajay_devgn\n",
      "ajay_devgn\n",
      "ajay_devgn\n",
      "ajay_devgn\n",
      "ajay_devgn\n"
     ]
    },
    {
     "data": {
      "application/vnd.jupyter.widget-view+json": {
       "model_id": "a0a93e86587d4027a111031aa6bca8b9",
       "version_major": 2,
       "version_minor": 0
      },
      "text/plain": [
       "Images:   0%|          | 0/45 [00:00<?, ?it/s]"
      ]
     },
     "metadata": {},
     "output_type": "display_data"
    },
    {
     "name": "stdout",
     "output_type": "stream",
     "text": [
      "akshaye_khanna\n",
      "akshaye_khanna\n",
      "akshaye_khanna\n",
      "akshaye_khanna\n",
      "akshaye_khanna\n",
      "akshaye_khanna\n",
      "akshaye_khanna\n",
      "akshaye_khanna\n",
      "akshaye_khanna\n",
      "akshaye_khanna\n",
      "akshaye_khanna\n",
      "akshaye_khanna\n",
      "akshaye_khanna\n",
      "akshaye_khanna\n",
      "akshaye_khanna\n",
      "akshaye_khanna\n",
      "akshaye_khanna\n",
      "akshaye_khanna\n",
      "akshaye_khanna\n",
      "akshaye_khanna\n",
      "akshaye_khanna\n",
      "akshaye_khanna\n",
      "akshaye_khanna\n",
      "akshaye_khanna\n",
      "akshaye_khanna\n",
      "akshaye_khanna\n",
      "akshaye_khanna\n",
      "akshaye_khanna\n",
      "akshaye_khanna\n",
      "akshaye_khanna\n",
      "akshaye_khanna\n"
     ]
    },
    {
     "data": {
      "application/vnd.jupyter.widget-view+json": {
       "model_id": "2566bada0b1d4c0b818202a76d4f4d37",
       "version_major": 2,
       "version_minor": 0
      },
      "text/plain": [
       "Images:   0%|          | 0/48 [00:00<?, ?it/s]"
      ]
     },
     "metadata": {},
     "output_type": "display_data"
    },
    {
     "name": "stdout",
     "output_type": "stream",
     "text": [
      "akshay_kumar\n",
      "akshay_kumar\n",
      "akshay_kumar\n",
      "akshay_kumar\n",
      "akshay_kumar\n",
      "akshay_kumar\n",
      "akshay_kumar\n",
      "akshay_kumar\n",
      "akshay_kumar\n",
      "akshay_kumar\n",
      "akshay_kumar\n",
      "akshay_kumar\n",
      "akshay_kumar\n",
      "akshay_kumar\n",
      "akshay_kumar\n",
      "akshay_kumar\n",
      "akshay_kumar\n",
      "akshay_kumar\n",
      "akshay_kumar\n",
      "akshay_kumar\n",
      "akshay_kumar\n",
      "akshay_kumar\n",
      "akshay_kumar\n",
      "akshay_kumar\n",
      "akshay_kumar\n",
      "akshay_kumar\n",
      "akshay_kumar\n",
      "akshay_kumar\n",
      "akshay_kumar\n",
      "akshay_kumar\n",
      "akshay_kumar\n",
      "akshay_kumar\n",
      "akshay_kumar\n",
      "akshay_kumar\n",
      "akshay_kumar\n",
      "akshay_kumar\n",
      "akshay_kumar\n",
      "akshay_kumar\n"
     ]
    },
    {
     "data": {
      "application/vnd.jupyter.widget-view+json": {
       "model_id": "68e3dea1e3ba4ac0932aa131a7dd3a69",
       "version_major": 2,
       "version_minor": 0
      },
      "text/plain": [
       "Images:   0%|          | 0/44 [00:00<?, ?it/s]"
      ]
     },
     "metadata": {},
     "output_type": "display_data"
    },
    {
     "name": "stdout",
     "output_type": "stream",
     "text": [
      "amitabh_bachchan\n",
      "amitabh_bachchan\n",
      "amitabh_bachchan\n",
      "amitabh_bachchan\n",
      "amitabh_bachchan\n",
      "amitabh_bachchan\n",
      "amitabh_bachchan\n",
      "amitabh_bachchan\n",
      "amitabh_bachchan\n",
      "amitabh_bachchan\n",
      "amitabh_bachchan\n",
      "amitabh_bachchan\n",
      "amitabh_bachchan\n",
      "amitabh_bachchan\n",
      "amitabh_bachchan\n",
      "amitabh_bachchan\n",
      "amitabh_bachchan\n",
      "amitabh_bachchan\n",
      "amitabh_bachchan\n",
      "amitabh_bachchan\n",
      "amitabh_bachchan\n",
      "amitabh_bachchan\n",
      "amitabh_bachchan\n",
      "amitabh_bachchan\n",
      "amitabh_bachchan\n",
      "amitabh_bachchan\n",
      "amitabh_bachchan\n",
      "amitabh_bachchan\n",
      "amitabh_bachchan\n"
     ]
    },
    {
     "data": {
      "application/vnd.jupyter.widget-view+json": {
       "model_id": "8b968a13a13e40be8f64de831cdbc992",
       "version_major": 2,
       "version_minor": 0
      },
      "text/plain": [
       "Images:   0%|          | 0/29 [00:00<?, ?it/s]"
      ]
     },
     "metadata": {},
     "output_type": "display_data"
    },
    {
     "name": "stdout",
     "output_type": "stream",
     "text": [
      "amjad_khan\n",
      "amjad_khan\n",
      "amjad_khan\n",
      "amjad_khan\n",
      "amjad_khan\n",
      "amjad_khan\n",
      "amjad_khan\n",
      "amjad_khan\n",
      "amjad_khan\n",
      "amjad_khan\n",
      "amjad_khan\n",
      "amjad_khan\n",
      "amjad_khan\n",
      "amjad_khan\n"
     ]
    },
    {
     "data": {
      "application/vnd.jupyter.widget-view+json": {
       "model_id": "c6b0a11385f64f7f84c0891de51f94a7",
       "version_major": 2,
       "version_minor": 0
      },
      "text/plain": [
       "Images:   0%|          | 0/41 [00:00<?, ?it/s]"
      ]
     },
     "metadata": {},
     "output_type": "display_data"
    },
    {
     "name": "stdout",
     "output_type": "stream",
     "text": [
      "amole_gupte\n",
      "amole_gupte\n",
      "amole_gupte\n",
      "amole_gupte\n",
      "amole_gupte\n",
      "amole_gupte\n",
      "amole_gupte\n",
      "amole_gupte\n",
      "amole_gupte\n",
      "amole_gupte\n",
      "amole_gupte\n",
      "amole_gupte\n",
      "amole_gupte\n",
      "amole_gupte\n",
      "amole_gupte\n",
      "amole_gupte\n",
      "amole_gupte\n",
      "amole_gupte\n",
      "amole_gupte\n",
      "amole_gupte\n",
      "amole_gupte\n",
      "amole_gupte\n",
      "amole_gupte\n",
      "amole_gupte\n",
      "amole_gupte\n",
      "amole_gupte\n",
      "amole_gupte\n",
      "amole_gupte\n",
      "amole_gupte\n",
      "amole_gupte\n",
      "amole_gupte\n",
      "amole_gupte\n",
      "amole_gupte\n"
     ]
    },
    {
     "data": {
      "application/vnd.jupyter.widget-view+json": {
       "model_id": "945ff91ffdcf42e3a2af8eb8abb9491b",
       "version_major": 2,
       "version_minor": 0
      },
      "text/plain": [
       "Images:   0%|          | 0/34 [00:00<?, ?it/s]"
      ]
     },
     "metadata": {},
     "output_type": "display_data"
    },
    {
     "name": "stdout",
     "output_type": "stream",
     "text": [
      "amol_palekar\n",
      "amol_palekar\n",
      "amol_palekar\n",
      "amol_palekar\n",
      "amol_palekar\n",
      "amol_palekar\n",
      "amol_palekar\n",
      "amol_palekar\n",
      "amol_palekar\n",
      "amol_palekar\n",
      "amol_palekar\n",
      "amol_palekar\n",
      "amol_palekar\n",
      "amol_palekar\n",
      "amol_palekar\n",
      "amol_palekar\n",
      "amol_palekar\n",
      "amol_palekar\n",
      "amol_palekar\n",
      "amol_palekar\n"
     ]
    },
    {
     "data": {
      "application/vnd.jupyter.widget-view+json": {
       "model_id": "a15138299c504811ba79940d26d78fa2",
       "version_major": 2,
       "version_minor": 0
      },
      "text/plain": [
       "Images:   0%|          | 0/41 [00:00<?, ?it/s]"
      ]
     },
     "metadata": {},
     "output_type": "display_data"
    },
    {
     "name": "stdout",
     "output_type": "stream",
     "text": [
      "amrish_puri\n",
      "amrish_puri\n",
      "amrish_puri\n",
      "amrish_puri\n",
      "amrish_puri\n",
      "amrish_puri\n",
      "amrish_puri\n",
      "amrish_puri\n",
      "amrish_puri\n",
      "amrish_puri\n",
      "amrish_puri\n",
      "amrish_puri\n",
      "amrish_puri\n",
      "amrish_puri\n",
      "amrish_puri\n",
      "amrish_puri\n",
      "amrish_puri\n",
      "amrish_puri\n",
      "amrish_puri\n",
      "amrish_puri\n",
      "amrish_puri\n",
      "amrish_puri\n",
      "amrish_puri\n",
      "amrish_puri\n",
      "amrish_puri\n",
      "amrish_puri\n",
      "amrish_puri\n",
      "amrish_puri\n",
      "amrish_puri\n",
      "amrish_puri\n",
      "amrish_puri\n"
     ]
    },
    {
     "data": {
      "application/vnd.jupyter.widget-view+json": {
       "model_id": "bdd69560deb64bc6a25c6d2d65094791",
       "version_major": 2,
       "version_minor": 0
      },
      "text/plain": [
       "Images:   0%|          | 0/37 [00:00<?, ?it/s]"
      ]
     },
     "metadata": {},
     "output_type": "display_data"
    },
    {
     "name": "stdout",
     "output_type": "stream",
     "text": [
      "anil_kapoor\n",
      "anil_kapoor\n",
      "anil_kapoor\n",
      "anil_kapoor\n",
      "anil_kapoor\n",
      "anil_kapoor\n",
      "anil_kapoor\n",
      "anil_kapoor\n",
      "anil_kapoor\n",
      "anil_kapoor\n",
      "anil_kapoor\n",
      "anil_kapoor\n",
      "anil_kapoor\n",
      "anil_kapoor\n",
      "anil_kapoor\n",
      "anil_kapoor\n",
      "anil_kapoor\n",
      "anil_kapoor\n",
      "anil_kapoor\n",
      "anil_kapoor\n",
      "anil_kapoor\n",
      "anil_kapoor\n",
      "anil_kapoor\n",
      "anil_kapoor\n",
      "anil_kapoor\n",
      "anil_kapoor\n"
     ]
    },
    {
     "data": {
      "application/vnd.jupyter.widget-view+json": {
       "model_id": "57c95b0bff4f490f890965c2306ee52a",
       "version_major": 2,
       "version_minor": 0
      },
      "text/plain": [
       "Images:   0%|          | 0/44 [00:00<?, ?it/s]"
      ]
     },
     "metadata": {},
     "output_type": "display_data"
    },
    {
     "name": "stdout",
     "output_type": "stream",
     "text": [
      "annu_kapoor\n",
      "annu_kapoor\n",
      "annu_kapoor\n",
      "annu_kapoor\n",
      "annu_kapoor\n",
      "annu_kapoor\n",
      "annu_kapoor\n",
      "annu_kapoor\n",
      "annu_kapoor\n",
      "annu_kapoor\n",
      "annu_kapoor\n",
      "annu_kapoor\n",
      "annu_kapoor\n",
      "annu_kapoor\n",
      "annu_kapoor\n",
      "annu_kapoor\n",
      "annu_kapoor\n",
      "annu_kapoor\n",
      "annu_kapoor\n",
      "annu_kapoor\n",
      "annu_kapoor\n",
      "annu_kapoor\n",
      "annu_kapoor\n",
      "annu_kapoor\n",
      "annu_kapoor\n",
      "annu_kapoor\n",
      "annu_kapoor\n",
      "annu_kapoor\n",
      "annu_kapoor\n",
      "annu_kapoor\n"
     ]
    },
    {
     "data": {
      "application/vnd.jupyter.widget-view+json": {
       "model_id": "3c9867e3ba094a3aa3b6aa2f6b3c9c53",
       "version_major": 2,
       "version_minor": 0
      },
      "text/plain": [
       "Images:   0%|          | 0/43 [00:00<?, ?it/s]"
      ]
     },
     "metadata": {},
     "output_type": "display_data"
    },
    {
     "name": "stdout",
     "output_type": "stream",
     "text": [
      "anupam_kher\n",
      "anupam_kher\n",
      "anupam_kher\n",
      "anupam_kher\n",
      "anupam_kher\n",
      "anupam_kher\n",
      "anupam_kher\n",
      "anupam_kher\n",
      "anupam_kher\n",
      "anupam_kher\n",
      "anupam_kher\n",
      "anupam_kher\n",
      "anupam_kher\n",
      "anupam_kher\n",
      "anupam_kher\n",
      "anupam_kher\n",
      "anupam_kher\n",
      "anupam_kher\n",
      "anupam_kher\n",
      "anupam_kher\n",
      "anupam_kher\n",
      "anupam_kher\n",
      "anupam_kher\n",
      "anupam_kher\n",
      "anupam_kher\n",
      "anupam_kher\n",
      "anupam_kher\n",
      "anupam_kher\n",
      "anupam_kher\n",
      "anupam_kher\n",
      "anupam_kher\n",
      "anupam_kher\n",
      "anupam_kher\n",
      "anupam_kher\n",
      "anupam_kher\n",
      "anupam_kher\n",
      "anupam_kher\n",
      "anupam_kher\n",
      "anupam_kher\n"
     ]
    },
    {
     "data": {
      "application/vnd.jupyter.widget-view+json": {
       "model_id": "148e484c7c994ea88379ccefbe16c48c",
       "version_major": 2,
       "version_minor": 0
      },
      "text/plain": [
       "Images:   0%|          | 0/39 [00:00<?, ?it/s]"
      ]
     },
     "metadata": {},
     "output_type": "display_data"
    },
    {
     "name": "stdout",
     "output_type": "stream",
     "text": [
      "anushka_shetty\n",
      "anushka_shetty\n",
      "anushka_shetty\n",
      "anushka_shetty\n",
      "anushka_shetty\n",
      "anushka_shetty\n",
      "anushka_shetty\n",
      "anushka_shetty\n",
      "anushka_shetty\n",
      "anushka_shetty\n",
      "anushka_shetty\n",
      "anushka_shetty\n",
      "anushka_shetty\n",
      "anushka_shetty\n",
      "anushka_shetty\n",
      "anushka_shetty\n",
      "anushka_shetty\n",
      "anushka_shetty\n",
      "anushka_shetty\n",
      "anushka_shetty\n",
      "anushka_shetty\n",
      "anushka_shetty\n",
      "anushka_shetty\n",
      "anushka_shetty\n",
      "anushka_shetty\n",
      "anushka_shetty\n",
      "anushka_shetty\n",
      "anushka_shetty\n",
      "anushka_shetty\n",
      "anushka_shetty\n",
      "anushka_shetty\n",
      "anushka_shetty\n",
      "anushka_shetty\n",
      "anushka_shetty\n",
      "anushka_shetty\n",
      "anushka_shetty\n"
     ]
    },
    {
     "data": {
      "application/vnd.jupyter.widget-view+json": {
       "model_id": "e41c8218f72347528eee37c9c586b434",
       "version_major": 2,
       "version_minor": 0
      },
      "text/plain": [
       "Images:   0%|          | 0/43 [00:00<?, ?it/s]"
      ]
     },
     "metadata": {},
     "output_type": "display_data"
    },
    {
     "name": "stdout",
     "output_type": "stream",
     "text": [
      "arshad_warsi\n",
      "arshad_warsi\n",
      "arshad_warsi\n",
      "arshad_warsi\n",
      "arshad_warsi\n",
      "arshad_warsi\n",
      "arshad_warsi\n",
      "arshad_warsi\n",
      "arshad_warsi\n",
      "arshad_warsi\n",
      "arshad_warsi\n",
      "arshad_warsi\n",
      "arshad_warsi\n",
      "arshad_warsi\n",
      "arshad_warsi\n",
      "arshad_warsi\n",
      "arshad_warsi\n",
      "arshad_warsi\n",
      "arshad_warsi\n",
      "arshad_warsi\n",
      "arshad_warsi\n",
      "arshad_warsi\n",
      "arshad_warsi\n",
      "arshad_warsi\n",
      "arshad_warsi\n",
      "arshad_warsi\n",
      "arshad_warsi\n",
      "arshad_warsi\n",
      "arshad_warsi\n",
      "arshad_warsi\n",
      "arshad_warsi\n",
      "arshad_warsi\n",
      "arshad_warsi\n",
      "arshad_warsi\n"
     ]
    },
    {
     "data": {
      "application/vnd.jupyter.widget-view+json": {
       "model_id": "76c38b0349d64282b2a4a1abb95126b9",
       "version_major": 2,
       "version_minor": 0
      },
      "text/plain": [
       "Images:   0%|          | 0/44 [00:00<?, ?it/s]"
      ]
     },
     "metadata": {},
     "output_type": "display_data"
    },
    {
     "name": "stdout",
     "output_type": "stream",
     "text": [
      "aruna_irani\n",
      "aruna_irani\n",
      "aruna_irani\n",
      "aruna_irani\n",
      "aruna_irani\n",
      "aruna_irani\n",
      "aruna_irani\n",
      "aruna_irani\n",
      "aruna_irani\n",
      "aruna_irani\n",
      "aruna_irani\n",
      "aruna_irani\n",
      "aruna_irani\n",
      "aruna_irani\n",
      "aruna_irani\n",
      "aruna_irani\n",
      "aruna_irani\n",
      "aruna_irani\n",
      "aruna_irani\n",
      "aruna_irani\n",
      "aruna_irani\n",
      "aruna_irani\n",
      "aruna_irani\n",
      "aruna_irani\n",
      "aruna_irani\n",
      "aruna_irani\n",
      "aruna_irani\n",
      "aruna_irani\n",
      "aruna_irani\n",
      "aruna_irani\n",
      "aruna_irani\n",
      "aruna_irani\n",
      "aruna_irani\n",
      "aruna_irani\n"
     ]
    },
    {
     "data": {
      "application/vnd.jupyter.widget-view+json": {
       "model_id": "4e616a7643e146e1baf3cd534c7ee15a",
       "version_major": 2,
       "version_minor": 0
      },
      "text/plain": [
       "Images:   0%|          | 0/48 [00:00<?, ?it/s]"
      ]
     },
     "metadata": {},
     "output_type": "display_data"
    },
    {
     "name": "stdout",
     "output_type": "stream",
     "text": [
      "ashish_vidyarthi\n",
      "ashish_vidyarthi\n",
      "ashish_vidyarthi\n",
      "ashish_vidyarthi\n",
      "ashish_vidyarthi\n",
      "ashish_vidyarthi\n",
      "ashish_vidyarthi\n",
      "ashish_vidyarthi\n",
      "ashish_vidyarthi\n",
      "ashish_vidyarthi\n",
      "ashish_vidyarthi\n",
      "ashish_vidyarthi\n",
      "ashish_vidyarthi\n",
      "ashish_vidyarthi\n",
      "ashish_vidyarthi\n",
      "ashish_vidyarthi\n",
      "ashish_vidyarthi\n",
      "ashish_vidyarthi\n",
      "ashish_vidyarthi\n",
      "ashish_vidyarthi\n",
      "ashish_vidyarthi\n",
      "ashish_vidyarthi\n",
      "ashish_vidyarthi\n",
      "ashish_vidyarthi\n",
      "ashish_vidyarthi\n",
      "ashish_vidyarthi\n",
      "ashish_vidyarthi\n",
      "ashish_vidyarthi\n",
      "ashish_vidyarthi\n"
     ]
    },
    {
     "data": {
      "application/vnd.jupyter.widget-view+json": {
       "model_id": "c2611ca2a96f41528163807c33e95c9b",
       "version_major": 2,
       "version_minor": 0
      },
      "text/plain": [
       "Images:   0%|          | 0/36 [00:00<?, ?it/s]"
      ]
     },
     "metadata": {},
     "output_type": "display_data"
    },
    {
     "name": "stdout",
     "output_type": "stream",
     "text": [
      "asrani\n",
      "asrani\n",
      "asrani\n",
      "asrani\n",
      "asrani\n",
      "asrani\n",
      "asrani\n",
      "asrani\n",
      "asrani\n",
      "asrani\n",
      "asrani\n",
      "asrani\n",
      "asrani\n",
      "asrani\n",
      "asrani\n",
      "asrani\n",
      "asrani\n",
      "asrani\n",
      "asrani\n",
      "asrani\n",
      "asrani\n",
      "asrani\n",
      "asrani\n",
      "asrani\n"
     ]
    },
    {
     "data": {
      "application/vnd.jupyter.widget-view+json": {
       "model_id": "25a1267a632344c9998f5593d87191e0",
       "version_major": 2,
       "version_minor": 0
      },
      "text/plain": [
       "Images:   0%|          | 0/44 [00:00<?, ?it/s]"
      ]
     },
     "metadata": {},
     "output_type": "display_data"
    },
    {
     "name": "stdout",
     "output_type": "stream",
     "text": [
      "atul_kulkarni\n",
      "atul_kulkarni\n",
      "atul_kulkarni\n",
      "atul_kulkarni\n",
      "atul_kulkarni\n",
      "atul_kulkarni\n",
      "atul_kulkarni\n",
      "atul_kulkarni\n",
      "atul_kulkarni\n",
      "atul_kulkarni\n",
      "atul_kulkarni\n",
      "atul_kulkarni\n",
      "atul_kulkarni\n",
      "atul_kulkarni\n",
      "atul_kulkarni\n",
      "atul_kulkarni\n",
      "atul_kulkarni\n",
      "atul_kulkarni\n",
      "atul_kulkarni\n",
      "atul_kulkarni\n",
      "atul_kulkarni\n",
      "atul_kulkarni\n",
      "atul_kulkarni\n",
      "atul_kulkarni\n",
      "atul_kulkarni\n",
      "atul_kulkarni\n",
      "atul_kulkarni\n",
      "atul_kulkarni\n",
      "atul_kulkarni\n",
      "atul_kulkarni\n",
      "atul_kulkarni\n",
      "atul_kulkarni\n",
      "atul_kulkarni\n",
      "atul_kulkarni\n",
      "atul_kulkarni\n"
     ]
    },
    {
     "data": {
      "application/vnd.jupyter.widget-view+json": {
       "model_id": "6c90e87cab014db789762a81d604f29d",
       "version_major": 2,
       "version_minor": 0
      },
      "text/plain": [
       "Images:   0%|          | 0/46 [00:00<?, ?it/s]"
      ]
     },
     "metadata": {},
     "output_type": "display_data"
    },
    {
     "name": "stdout",
     "output_type": "stream",
     "text": [
      "ayushmann_khurrana\n",
      "ayushmann_khurrana\n",
      "ayushmann_khurrana\n",
      "ayushmann_khurrana\n",
      "ayushmann_khurrana\n",
      "ayushmann_khurrana\n",
      "ayushmann_khurrana\n",
      "ayushmann_khurrana\n",
      "ayushmann_khurrana\n",
      "ayushmann_khurrana\n",
      "ayushmann_khurrana\n",
      "ayushmann_khurrana\n",
      "ayushmann_khurrana\n",
      "ayushmann_khurrana\n",
      "ayushmann_khurrana\n",
      "ayushmann_khurrana\n",
      "ayushmann_khurrana\n",
      "ayushmann_khurrana\n",
      "ayushmann_khurrana\n",
      "ayushmann_khurrana\n",
      "ayushmann_khurrana\n",
      "ayushmann_khurrana\n",
      "ayushmann_khurrana\n",
      "ayushmann_khurrana\n",
      "ayushmann_khurrana\n",
      "ayushmann_khurrana\n",
      "ayushmann_khurrana\n",
      "ayushmann_khurrana\n",
      "ayushmann_khurrana\n",
      "ayushmann_khurrana\n",
      "ayushmann_khurrana\n",
      "ayushmann_khurrana\n",
      "ayushmann_khurrana\n",
      "ayushmann_khurrana\n",
      "ayushmann_khurrana\n"
     ]
    },
    {
     "data": {
      "application/vnd.jupyter.widget-view+json": {
       "model_id": "f4c0846fc9a74ab79275434c1a314580",
       "version_major": 2,
       "version_minor": 0
      },
      "text/plain": [
       "Images:   0%|          | 0/46 [00:00<?, ?it/s]"
      ]
     },
     "metadata": {},
     "output_type": "display_data"
    },
    {
     "name": "stdout",
     "output_type": "stream",
     "text": [
      "boman_irani\n",
      "boman_irani\n",
      "boman_irani\n",
      "boman_irani\n",
      "boman_irani\n",
      "boman_irani\n",
      "boman_irani\n",
      "boman_irani\n",
      "boman_irani\n",
      "boman_irani\n",
      "boman_irani\n",
      "boman_irani\n",
      "boman_irani\n",
      "boman_irani\n",
      "boman_irani\n",
      "boman_irani\n",
      "boman_irani\n",
      "boman_irani\n",
      "boman_irani\n",
      "boman_irani\n",
      "boman_irani\n",
      "boman_irani\n",
      "boman_irani\n",
      "boman_irani\n",
      "boman_irani\n",
      "boman_irani\n",
      "boman_irani\n",
      "boman_irani\n",
      "boman_irani\n",
      "boman_irani\n",
      "boman_irani\n",
      "boman_irani\n",
      "boman_irani\n",
      "boman_irani\n"
     ]
    },
    {
     "data": {
      "application/vnd.jupyter.widget-view+json": {
       "model_id": "5264b22b65c2410eb1978a05c8a96ebe",
       "version_major": 2,
       "version_minor": 0
      },
      "text/plain": [
       "Images:   0%|          | 0/45 [00:00<?, ?it/s]"
      ]
     },
     "metadata": {},
     "output_type": "display_data"
    },
    {
     "name": "stdout",
     "output_type": "stream",
     "text": [
      "chiranjeevi\n",
      "chiranjeevi\n",
      "chiranjeevi\n",
      "chiranjeevi\n",
      "chiranjeevi\n",
      "chiranjeevi\n",
      "chiranjeevi\n",
      "chiranjeevi\n",
      "chiranjeevi\n",
      "chiranjeevi\n",
      "chiranjeevi\n",
      "chiranjeevi\n",
      "chiranjeevi\n",
      "chiranjeevi\n",
      "chiranjeevi\n",
      "chiranjeevi\n",
      "chiranjeevi\n",
      "chiranjeevi\n",
      "chiranjeevi\n",
      "chiranjeevi\n",
      "chiranjeevi\n",
      "chiranjeevi\n",
      "chiranjeevi\n",
      "chiranjeevi\n",
      "chiranjeevi\n",
      "chiranjeevi\n",
      "chiranjeevi\n",
      "chiranjeevi\n",
      "chiranjeevi\n",
      "chiranjeevi\n"
     ]
    },
    {
     "data": {
      "application/vnd.jupyter.widget-view+json": {
       "model_id": "58eaf1a35a6a4b03959ca4e384ab9ca2",
       "version_major": 2,
       "version_minor": 0
      },
      "text/plain": [
       "Images:   0%|          | 0/38 [00:00<?, ?it/s]"
      ]
     },
     "metadata": {},
     "output_type": "display_data"
    },
    {
     "name": "stdout",
     "output_type": "stream",
     "text": [
      "chunky_panday\n",
      "chunky_panday\n",
      "chunky_panday\n",
      "chunky_panday\n",
      "chunky_panday\n",
      "chunky_panday\n",
      "chunky_panday\n",
      "chunky_panday\n",
      "chunky_panday\n",
      "chunky_panday\n",
      "chunky_panday\n",
      "chunky_panday\n",
      "chunky_panday\n",
      "chunky_panday\n",
      "chunky_panday\n",
      "chunky_panday\n",
      "chunky_panday\n",
      "chunky_panday\n",
      "chunky_panday\n",
      "chunky_panday\n",
      "chunky_panday\n",
      "chunky_panday\n"
     ]
    },
    {
     "data": {
      "application/vnd.jupyter.widget-view+json": {
       "model_id": "02cafc60569042639d2c2f1d3fdd9599",
       "version_major": 2,
       "version_minor": 0
      },
      "text/plain": [
       "Images:   0%|          | 0/47 [00:00<?, ?it/s]"
      ]
     },
     "metadata": {},
     "output_type": "display_data"
    },
    {
     "name": "stdout",
     "output_type": "stream",
     "text": [
      "danny_denzongpa\n",
      "danny_denzongpa\n",
      "danny_denzongpa\n",
      "danny_denzongpa\n",
      "danny_denzongpa\n",
      "danny_denzongpa\n",
      "danny_denzongpa\n",
      "danny_denzongpa\n",
      "danny_denzongpa\n",
      "danny_denzongpa\n",
      "danny_denzongpa\n",
      "danny_denzongpa\n",
      "danny_denzongpa\n",
      "danny_denzongpa\n",
      "danny_denzongpa\n",
      "danny_denzongpa\n",
      "danny_denzongpa\n",
      "danny_denzongpa\n",
      "danny_denzongpa\n",
      "danny_denzongpa\n",
      "danny_denzongpa\n",
      "danny_denzongpa\n",
      "danny_denzongpa\n",
      "danny_denzongpa\n",
      "danny_denzongpa\n",
      "danny_denzongpa\n",
      "danny_denzongpa\n",
      "danny_denzongpa\n",
      "danny_denzongpa\n",
      "danny_denzongpa\n",
      "danny_denzongpa\n",
      "danny_denzongpa\n",
      "danny_denzongpa\n",
      "danny_denzongpa\n",
      "danny_denzongpa\n",
      "danny_denzongpa\n"
     ]
    },
    {
     "data": {
      "application/vnd.jupyter.widget-view+json": {
       "model_id": "df5f29b49feb4b41999627de43f7f5a7",
       "version_major": 2,
       "version_minor": 0
      },
      "text/plain": [
       "Images:   0%|          | 0/42 [00:00<?, ?it/s]"
      ]
     },
     "metadata": {},
     "output_type": "display_data"
    },
    {
     "name": "stdout",
     "output_type": "stream",
     "text": [
      "darsheel_safary\n",
      "darsheel_safary\n",
      "darsheel_safary\n",
      "darsheel_safary\n",
      "darsheel_safary\n",
      "darsheel_safary\n",
      "darsheel_safary\n",
      "darsheel_safary\n",
      "darsheel_safary\n",
      "darsheel_safary\n",
      "darsheel_safary\n",
      "darsheel_safary\n",
      "darsheel_safary\n",
      "darsheel_safary\n",
      "darsheel_safary\n",
      "darsheel_safary\n",
      "darsheel_safary\n",
      "darsheel_safary\n",
      "darsheel_safary\n",
      "darsheel_safary\n",
      "darsheel_safary\n",
      "darsheel_safary\n",
      "darsheel_safary\n",
      "darsheel_safary\n",
      "darsheel_safary\n",
      "darsheel_safary\n",
      "darsheel_safary\n",
      "darsheel_safary\n",
      "darsheel_safary\n",
      "darsheel_safary\n",
      "darsheel_safary\n",
      "darsheel_safary\n"
     ]
    },
    {
     "data": {
      "application/vnd.jupyter.widget-view+json": {
       "model_id": "48a23e036f9b4d89a719aafec9eed17b",
       "version_major": 2,
       "version_minor": 0
      },
      "text/plain": [
       "Images:   0%|          | 0/42 [00:00<?, ?it/s]"
      ]
     },
     "metadata": {},
     "output_type": "display_data"
    },
    {
     "name": "stdout",
     "output_type": "stream",
     "text": [
      "deepika_padukone\n",
      "deepika_padukone\n",
      "deepika_padukone\n",
      "deepika_padukone\n",
      "deepika_padukone\n",
      "deepika_padukone\n",
      "deepika_padukone\n",
      "deepika_padukone\n",
      "deepika_padukone\n",
      "deepika_padukone\n",
      "deepika_padukone\n",
      "deepika_padukone\n",
      "deepika_padukone\n",
      "deepika_padukone\n",
      "deepika_padukone\n",
      "deepika_padukone\n",
      "deepika_padukone\n",
      "deepika_padukone\n",
      "deepika_padukone\n",
      "deepika_padukone\n",
      "deepika_padukone\n",
      "deepika_padukone\n",
      "deepika_padukone\n",
      "deepika_padukone\n",
      "deepika_padukone\n",
      "deepika_padukone\n",
      "deepika_padukone\n",
      "deepika_padukone\n",
      "deepika_padukone\n",
      "deepika_padukone\n",
      "deepika_padukone\n",
      "deepika_padukone\n",
      "deepika_padukone\n",
      "deepika_padukone\n"
     ]
    },
    {
     "data": {
      "application/vnd.jupyter.widget-view+json": {
       "model_id": "dce01577ec2449dca1b3ed139b8513f1",
       "version_major": 2,
       "version_minor": 0
      },
      "text/plain": [
       "Images:   0%|          | 0/48 [00:00<?, ?it/s]"
      ]
     },
     "metadata": {},
     "output_type": "display_data"
    },
    {
     "name": "stdout",
     "output_type": "stream",
     "text": [
      "deepti_naval\n",
      "deepti_naval\n",
      "deepti_naval\n",
      "deepti_naval\n",
      "deepti_naval\n",
      "deepti_naval\n",
      "deepti_naval\n",
      "deepti_naval\n",
      "deepti_naval\n",
      "deepti_naval\n",
      "deepti_naval\n",
      "deepti_naval\n",
      "deepti_naval\n",
      "deepti_naval\n",
      "deepti_naval\n",
      "deepti_naval\n",
      "deepti_naval\n",
      "deepti_naval\n",
      "deepti_naval\n",
      "deepti_naval\n",
      "deepti_naval\n",
      "deepti_naval\n",
      "deepti_naval\n",
      "deepti_naval\n",
      "deepti_naval\n",
      "deepti_naval\n",
      "deepti_naval\n",
      "deepti_naval\n",
      "deepti_naval\n",
      "deepti_naval\n",
      "deepti_naval\n",
      "deepti_naval\n",
      "deepti_naval\n",
      "deepti_naval\n",
      "deepti_naval\n",
      "deepti_naval\n",
      "deepti_naval\n",
      "deepti_naval\n",
      "deepti_naval\n",
      "deepti_naval\n",
      "deepti_naval\n",
      "deepti_naval\n",
      "deepti_naval\n",
      "deepti_naval\n",
      "deepti_naval\n"
     ]
    },
    {
     "data": {
      "application/vnd.jupyter.widget-view+json": {
       "model_id": "13c40a6f047d45058fb38282ea291390",
       "version_major": 2,
       "version_minor": 0
      },
      "text/plain": [
       "Images:   0%|          | 0/46 [00:00<?, ?it/s]"
      ]
     },
     "metadata": {},
     "output_type": "display_data"
    },
    {
     "name": "stdout",
     "output_type": "stream",
     "text": [
      "dev_anand\n",
      "dev_anand\n",
      "dev_anand\n",
      "dev_anand\n",
      "dev_anand\n",
      "dev_anand\n",
      "dev_anand\n",
      "dev_anand\n",
      "dev_anand\n",
      "dev_anand\n",
      "dev_anand\n",
      "dev_anand\n",
      "dev_anand\n",
      "dev_anand\n",
      "dev_anand\n",
      "dev_anand\n",
      "dev_anand\n",
      "dev_anand\n",
      "dev_anand\n",
      "dev_anand\n",
      "dev_anand\n",
      "dev_anand\n",
      "dev_anand\n",
      "dev_anand\n",
      "dev_anand\n",
      "dev_anand\n",
      "dev_anand\n",
      "dev_anand\n",
      "dev_anand\n",
      "dev_anand\n",
      "dev_anand\n",
      "dev_anand\n",
      "dev_anand\n",
      "dev_anand\n",
      "dev_anand\n",
      "dev_anand\n"
     ]
    },
    {
     "data": {
      "application/vnd.jupyter.widget-view+json": {
       "model_id": "d84912ce7f4a4cda98ce1a4cd369c2aa",
       "version_major": 2,
       "version_minor": 0
      },
      "text/plain": [
       "Images:   0%|          | 0/50 [00:00<?, ?it/s]"
      ]
     },
     "metadata": {},
     "output_type": "display_data"
    },
    {
     "name": "stdout",
     "output_type": "stream",
     "text": [
      "dharmendra\n",
      "dharmendra\n",
      "dharmendra\n",
      "dharmendra\n",
      "dharmendra\n",
      "dharmendra\n",
      "dharmendra\n",
      "dharmendra\n",
      "dharmendra\n",
      "dharmendra\n",
      "dharmendra\n",
      "dharmendra\n",
      "dharmendra\n",
      "dharmendra\n",
      "dharmendra\n",
      "dharmendra\n",
      "dharmendra\n",
      "dharmendra\n",
      "dharmendra\n",
      "dharmendra\n",
      "dharmendra\n",
      "dharmendra\n",
      "dharmendra\n",
      "dharmendra\n",
      "dharmendra\n",
      "dharmendra\n",
      "dharmendra\n",
      "dharmendra\n",
      "dharmendra\n",
      "dharmendra\n",
      "dharmendra\n",
      "dharmendra\n",
      "dharmendra\n",
      "dharmendra\n",
      "dharmendra\n",
      "dharmendra\n",
      "dharmendra\n",
      "dharmendra\n",
      "dharmendra\n",
      "dharmendra\n",
      "dharmendra\n"
     ]
    },
    {
     "data": {
      "application/vnd.jupyter.widget-view+json": {
       "model_id": "dcb6d6285af54001b94e06ef1a6c9bfe",
       "version_major": 2,
       "version_minor": 0
      },
      "text/plain": [
       "Images:   0%|          | 0/43 [00:00<?, ?it/s]"
      ]
     },
     "metadata": {},
     "output_type": "display_data"
    },
    {
     "name": "stdout",
     "output_type": "stream",
     "text": [
      "dilip_kumar\n",
      "dilip_kumar\n",
      "dilip_kumar\n",
      "dilip_kumar\n",
      "dilip_kumar\n",
      "dilip_kumar\n",
      "dilip_kumar\n",
      "dilip_kumar\n",
      "dilip_kumar\n",
      "dilip_kumar\n",
      "dilip_kumar\n",
      "dilip_kumar\n",
      "dilip_kumar\n",
      "dilip_kumar\n",
      "dilip_kumar\n",
      "dilip_kumar\n",
      "dilip_kumar\n",
      "dilip_kumar\n",
      "dilip_kumar\n",
      "dilip_kumar\n",
      "dilip_kumar\n",
      "dilip_kumar\n",
      "dilip_kumar\n",
      "dilip_kumar\n",
      "dilip_kumar\n",
      "dilip_kumar\n",
      "dilip_kumar\n",
      "dilip_kumar\n",
      "dilip_kumar\n",
      "dilip_kumar\n",
      "dilip_kumar\n",
      "dilip_kumar\n",
      "dilip_kumar\n",
      "dilip_kumar\n",
      "dilip_kumar\n",
      "dilip_kumar\n"
     ]
    },
    {
     "data": {
      "application/vnd.jupyter.widget-view+json": {
       "model_id": "7177752acba24b1e918a69d50785fc49",
       "version_major": 2,
       "version_minor": 0
      },
      "text/plain": [
       "Images:   0%|          | 0/40 [00:00<?, ?it/s]"
      ]
     },
     "metadata": {},
     "output_type": "display_data"
    },
    {
     "name": "stdout",
     "output_type": "stream",
     "text": [
      "dimple_kapadia\n",
      "dimple_kapadia\n",
      "dimple_kapadia\n",
      "dimple_kapadia\n",
      "dimple_kapadia\n",
      "dimple_kapadia\n",
      "dimple_kapadia\n",
      "dimple_kapadia\n",
      "dimple_kapadia\n",
      "dimple_kapadia\n",
      "dimple_kapadia\n",
      "dimple_kapadia\n",
      "dimple_kapadia\n",
      "dimple_kapadia\n",
      "dimple_kapadia\n",
      "dimple_kapadia\n",
      "dimple_kapadia\n",
      "dimple_kapadia\n",
      "dimple_kapadia\n",
      "dimple_kapadia\n",
      "dimple_kapadia\n",
      "dimple_kapadia\n",
      "dimple_kapadia\n",
      "dimple_kapadia\n",
      "dimple_kapadia\n",
      "dimple_kapadia\n",
      "dimple_kapadia\n",
      "dimple_kapadia\n",
      "dimple_kapadia\n",
      "dimple_kapadia\n"
     ]
    },
    {
     "data": {
      "application/vnd.jupyter.widget-view+json": {
       "model_id": "488cdb8c92364a0fbd0475c2a902b5e2",
       "version_major": 2,
       "version_minor": 0
      },
      "text/plain": [
       "Images:   0%|          | 0/45 [00:00<?, ?it/s]"
      ]
     },
     "metadata": {},
     "output_type": "display_data"
    },
    {
     "name": "stdout",
     "output_type": "stream",
     "text": [
      "farhan_akhtar\n",
      "farhan_akhtar\n",
      "farhan_akhtar\n",
      "farhan_akhtar\n",
      "farhan_akhtar\n",
      "farhan_akhtar\n",
      "farhan_akhtar\n",
      "farhan_akhtar\n",
      "farhan_akhtar\n",
      "farhan_akhtar\n",
      "farhan_akhtar\n",
      "farhan_akhtar\n",
      "farhan_akhtar\n",
      "farhan_akhtar\n",
      "farhan_akhtar\n",
      "farhan_akhtar\n",
      "farhan_akhtar\n",
      "farhan_akhtar\n",
      "farhan_akhtar\n",
      "farhan_akhtar\n",
      "farhan_akhtar\n",
      "farhan_akhtar\n",
      "farhan_akhtar\n",
      "farhan_akhtar\n",
      "farhan_akhtar\n",
      "farhan_akhtar\n",
      "farhan_akhtar\n",
      "farhan_akhtar\n",
      "farhan_akhtar\n",
      "farhan_akhtar\n",
      "farhan_akhtar\n",
      "farhan_akhtar\n",
      "farhan_akhtar\n"
     ]
    },
    {
     "data": {
      "application/vnd.jupyter.widget-view+json": {
       "model_id": "2610a4a45c894d53948ec0c6c80f3dcb",
       "version_major": 2,
       "version_minor": 0
      },
      "text/plain": [
       "Images:   0%|          | 0/37 [00:00<?, ?it/s]"
      ]
     },
     "metadata": {},
     "output_type": "display_data"
    },
    {
     "name": "stdout",
     "output_type": "stream",
     "text": [
      "farida_jalal\n",
      "farida_jalal\n",
      "farida_jalal\n",
      "farida_jalal\n",
      "farida_jalal\n",
      "farida_jalal\n",
      "farida_jalal\n",
      "farida_jalal\n",
      "farida_jalal\n",
      "farida_jalal\n",
      "farida_jalal\n",
      "farida_jalal\n",
      "farida_jalal\n",
      "farida_jalal\n",
      "farida_jalal\n",
      "farida_jalal\n",
      "farida_jalal\n",
      "farida_jalal\n",
      "farida_jalal\n",
      "farida_jalal\n",
      "farida_jalal\n",
      "farida_jalal\n",
      "farida_jalal\n",
      "farida_jalal\n",
      "farida_jalal\n",
      "farida_jalal\n",
      "farida_jalal\n",
      "farida_jalal\n",
      "farida_jalal\n"
     ]
    },
    {
     "data": {
      "application/vnd.jupyter.widget-view+json": {
       "model_id": "5646e12253cf49e5b898cedca9b7ec69",
       "version_major": 2,
       "version_minor": 0
      },
      "text/plain": [
       "Images:   0%|          | 0/47 [00:00<?, ?it/s]"
      ]
     },
     "metadata": {},
     "output_type": "display_data"
    },
    {
     "name": "stdout",
     "output_type": "stream",
     "text": [
      "farooq_shaikh\n",
      "farooq_shaikh\n",
      "farooq_shaikh\n",
      "farooq_shaikh\n",
      "farooq_shaikh\n",
      "farooq_shaikh\n",
      "farooq_shaikh\n",
      "farooq_shaikh\n",
      "farooq_shaikh\n",
      "farooq_shaikh\n",
      "farooq_shaikh\n",
      "farooq_shaikh\n",
      "farooq_shaikh\n",
      "farooq_shaikh\n",
      "farooq_shaikh\n",
      "farooq_shaikh\n",
      "farooq_shaikh\n",
      "farooq_shaikh\n",
      "farooq_shaikh\n",
      "farooq_shaikh\n",
      "farooq_shaikh\n",
      "farooq_shaikh\n",
      "farooq_shaikh\n",
      "farooq_shaikh\n",
      "farooq_shaikh\n",
      "farooq_shaikh\n",
      "farooq_shaikh\n",
      "farooq_shaikh\n",
      "farooq_shaikh\n",
      "farooq_shaikh\n",
      "farooq_shaikh\n",
      "farooq_shaikh\n",
      "farooq_shaikh\n",
      "farooq_shaikh\n",
      "farooq_shaikh\n",
      "farooq_shaikh\n",
      "farooq_shaikh\n",
      "farooq_shaikh\n",
      "farooq_shaikh\n",
      "farooq_shaikh\n",
      "farooq_shaikh\n"
     ]
    },
    {
     "data": {
      "application/vnd.jupyter.widget-view+json": {
       "model_id": "033c004eeb2e42428d5eba3a885111c9",
       "version_major": 2,
       "version_minor": 0
      },
      "text/plain": [
       "Images:   0%|          | 0/46 [00:00<?, ?it/s]"
      ]
     },
     "metadata": {},
     "output_type": "display_data"
    },
    {
     "name": "stdout",
     "output_type": "stream",
     "text": [
      "girish_karnad\n",
      "girish_karnad\n",
      "girish_karnad\n",
      "girish_karnad\n",
      "girish_karnad\n",
      "girish_karnad\n",
      "girish_karnad\n",
      "girish_karnad\n",
      "girish_karnad\n",
      "girish_karnad\n",
      "girish_karnad\n",
      "girish_karnad\n",
      "girish_karnad\n",
      "girish_karnad\n",
      "girish_karnad\n",
      "girish_karnad\n",
      "girish_karnad\n",
      "girish_karnad\n",
      "girish_karnad\n",
      "girish_karnad\n",
      "girish_karnad\n",
      "girish_karnad\n",
      "girish_karnad\n",
      "girish_karnad\n",
      "girish_karnad\n",
      "girish_karnad\n",
      "girish_karnad\n",
      "girish_karnad\n",
      "girish_karnad\n",
      "girish_karnad\n",
      "girish_karnad\n",
      "girish_karnad\n",
      "girish_karnad\n",
      "girish_karnad\n",
      "girish_karnad\n",
      "girish_karnad\n"
     ]
    },
    {
     "data": {
      "application/vnd.jupyter.widget-view+json": {
       "model_id": "b6956865d4984250a61fd9b8b48ba0a1",
       "version_major": 2,
       "version_minor": 0
      },
      "text/plain": [
       "Images:   0%|          | 0/46 [00:00<?, ?it/s]"
      ]
     },
     "metadata": {},
     "output_type": "display_data"
    },
    {
     "name": "stdout",
     "output_type": "stream",
     "text": [
      "govinda\n",
      "govinda\n",
      "govinda\n",
      "govinda\n",
      "govinda\n",
      "govinda\n",
      "govinda\n",
      "govinda\n",
      "govinda\n",
      "govinda\n",
      "govinda\n",
      "govinda\n",
      "govinda\n",
      "govinda\n",
      "govinda\n",
      "govinda\n",
      "govinda\n",
      "govinda\n",
      "govinda\n",
      "govinda\n",
      "govinda\n",
      "govinda\n",
      "govinda\n",
      "govinda\n",
      "govinda\n",
      "govinda\n",
      "govinda\n",
      "govinda\n",
      "govinda\n",
      "govinda\n",
      "govinda\n",
      "govinda\n",
      "govinda\n",
      "govinda\n",
      "govinda\n",
      "govinda\n",
      "govinda\n",
      "govinda\n",
      "govinda\n",
      "govinda\n",
      "govinda\n",
      "govinda\n"
     ]
    },
    {
     "data": {
      "application/vnd.jupyter.widget-view+json": {
       "model_id": "432e5d0ccd1a46fe9589133f2fb4e855",
       "version_major": 2,
       "version_minor": 0
      },
      "text/plain": [
       "Images:   0%|          | 0/42 [00:00<?, ?it/s]"
      ]
     },
     "metadata": {},
     "output_type": "display_data"
    },
    {
     "name": "stdout",
     "output_type": "stream",
     "text": [
      "gulshan_grover\n",
      "gulshan_grover\n",
      "gulshan_grover\n",
      "gulshan_grover\n",
      "gulshan_grover\n",
      "gulshan_grover\n",
      "gulshan_grover\n",
      "gulshan_grover\n",
      "gulshan_grover\n",
      "gulshan_grover\n",
      "gulshan_grover\n",
      "gulshan_grover\n",
      "gulshan_grover\n",
      "gulshan_grover\n",
      "gulshan_grover\n",
      "gulshan_grover\n",
      "gulshan_grover\n",
      "gulshan_grover\n",
      "gulshan_grover\n",
      "gulshan_grover\n",
      "gulshan_grover\n",
      "gulshan_grover\n",
      "gulshan_grover\n",
      "gulshan_grover\n",
      "gulshan_grover\n",
      "gulshan_grover\n",
      "gulshan_grover\n",
      "gulshan_grover\n"
     ]
    },
    {
     "data": {
      "application/vnd.jupyter.widget-view+json": {
       "model_id": "d3d06648f7ac45f69e8e1e2559ccca4f",
       "version_major": 2,
       "version_minor": 0
      },
      "text/plain": [
       "Images:   0%|          | 0/45 [00:00<?, ?it/s]"
      ]
     },
     "metadata": {},
     "output_type": "display_data"
    },
    {
     "name": "stdout",
     "output_type": "stream",
     "text": [
      "hrithik_roshan\n",
      "hrithik_roshan\n",
      "hrithik_roshan\n",
      "hrithik_roshan\n",
      "hrithik_roshan\n",
      "hrithik_roshan\n",
      "hrithik_roshan\n",
      "hrithik_roshan\n",
      "hrithik_roshan\n",
      "hrithik_roshan\n",
      "hrithik_roshan\n",
      "hrithik_roshan\n",
      "hrithik_roshan\n",
      "hrithik_roshan\n",
      "hrithik_roshan\n",
      "hrithik_roshan\n",
      "hrithik_roshan\n",
      "hrithik_roshan\n",
      "hrithik_roshan\n",
      "hrithik_roshan\n",
      "hrithik_roshan\n",
      "hrithik_roshan\n",
      "hrithik_roshan\n",
      "hrithik_roshan\n",
      "hrithik_roshan\n",
      "hrithik_roshan\n",
      "hrithik_roshan\n",
      "hrithik_roshan\n",
      "hrithik_roshan\n",
      "hrithik_roshan\n",
      "hrithik_roshan\n",
      "hrithik_roshan\n",
      "hrithik_roshan\n",
      "hrithik_roshan\n",
      "hrithik_roshan\n",
      "hrithik_roshan\n"
     ]
    },
    {
     "data": {
      "application/vnd.jupyter.widget-view+json": {
       "model_id": "44abc220fb944ea1a3dae04d6f23f483",
       "version_major": 2,
       "version_minor": 0
      },
      "text/plain": [
       "Images:   0%|          | 0/45 [00:00<?, ?it/s]"
      ]
     },
     "metadata": {},
     "output_type": "display_data"
    },
    {
     "name": "stdout",
     "output_type": "stream",
     "text": [
      "huma_qureshi\n",
      "huma_qureshi\n",
      "huma_qureshi\n",
      "huma_qureshi\n",
      "huma_qureshi\n",
      "huma_qureshi\n",
      "huma_qureshi\n",
      "huma_qureshi\n",
      "huma_qureshi\n",
      "huma_qureshi\n",
      "huma_qureshi\n",
      "huma_qureshi\n",
      "huma_qureshi\n",
      "huma_qureshi\n",
      "huma_qureshi\n",
      "huma_qureshi\n",
      "huma_qureshi\n",
      "huma_qureshi\n",
      "huma_qureshi\n",
      "huma_qureshi\n",
      "huma_qureshi\n",
      "huma_qureshi\n",
      "huma_qureshi\n",
      "huma_qureshi\n",
      "huma_qureshi\n",
      "huma_qureshi\n",
      "huma_qureshi\n",
      "huma_qureshi\n",
      "huma_qureshi\n",
      "huma_qureshi\n",
      "huma_qureshi\n",
      "huma_qureshi\n",
      "huma_qureshi\n",
      "huma_qureshi\n",
      "huma_qureshi\n",
      "huma_qureshi\n",
      "huma_qureshi\n",
      "huma_qureshi\n"
     ]
    },
    {
     "data": {
      "application/vnd.jupyter.widget-view+json": {
       "model_id": "5ff0a1a3db9947d581533da1d696cb61",
       "version_major": 2,
       "version_minor": 0
      },
      "text/plain": [
       "Images:   0%|          | 0/47 [00:00<?, ?it/s]"
      ]
     },
     "metadata": {},
     "output_type": "display_data"
    },
    {
     "name": "stdout",
     "output_type": "stream",
     "text": [
      "irrfan_khan\n",
      "irrfan_khan\n",
      "irrfan_khan\n",
      "irrfan_khan\n",
      "irrfan_khan\n",
      "irrfan_khan\n",
      "irrfan_khan\n",
      "irrfan_khan\n",
      "irrfan_khan\n",
      "irrfan_khan\n",
      "irrfan_khan\n",
      "irrfan_khan\n",
      "irrfan_khan\n",
      "irrfan_khan\n",
      "irrfan_khan\n",
      "irrfan_khan\n",
      "irrfan_khan\n",
      "irrfan_khan\n",
      "irrfan_khan\n",
      "irrfan_khan\n",
      "irrfan_khan\n",
      "irrfan_khan\n",
      "irrfan_khan\n",
      "irrfan_khan\n",
      "irrfan_khan\n",
      "irrfan_khan\n",
      "irrfan_khan\n",
      "irrfan_khan\n",
      "irrfan_khan\n",
      "irrfan_khan\n",
      "irrfan_khan\n",
      "irrfan_khan\n",
      "irrfan_khan\n",
      "irrfan_khan\n",
      "irrfan_khan\n",
      "irrfan_khan\n",
      "irrfan_khan\n",
      "irrfan_khan\n",
      "irrfan_khan\n",
      "irrfan_khan\n",
      "irrfan_khan\n",
      "irrfan_khan\n"
     ]
    },
    {
     "data": {
      "application/vnd.jupyter.widget-view+json": {
       "model_id": "10f39572765746ca8a6e04da06969426",
       "version_major": 2,
       "version_minor": 0
      },
      "text/plain": [
       "Images:   0%|          | 0/38 [00:00<?, ?it/s]"
      ]
     },
     "metadata": {},
     "output_type": "display_data"
    },
    {
     "name": "stdout",
     "output_type": "stream",
     "text": [
      "jaspal_bhatti\n",
      "jaspal_bhatti\n",
      "jaspal_bhatti\n",
      "jaspal_bhatti\n",
      "jaspal_bhatti\n",
      "jaspal_bhatti\n",
      "jaspal_bhatti\n",
      "jaspal_bhatti\n",
      "jaspal_bhatti\n",
      "jaspal_bhatti\n",
      "jaspal_bhatti\n",
      "jaspal_bhatti\n",
      "jaspal_bhatti\n",
      "jaspal_bhatti\n",
      "jaspal_bhatti\n",
      "jaspal_bhatti\n",
      "jaspal_bhatti\n",
      "jaspal_bhatti\n"
     ]
    },
    {
     "data": {
      "application/vnd.jupyter.widget-view+json": {
       "model_id": "ef72c94d4c214ccf81f74aae113919ac",
       "version_major": 2,
       "version_minor": 0
      },
      "text/plain": [
       "Images:   0%|          | 0/46 [00:00<?, ?it/s]"
      ]
     },
     "metadata": {},
     "output_type": "display_data"
    },
    {
     "name": "stdout",
     "output_type": "stream",
     "text": [
      "jeetendra\n",
      "jeetendra\n",
      "jeetendra\n",
      "jeetendra\n",
      "jeetendra\n",
      "jeetendra\n",
      "jeetendra\n",
      "jeetendra\n",
      "jeetendra\n",
      "jeetendra\n",
      "jeetendra\n",
      "jeetendra\n",
      "jeetendra\n",
      "jeetendra\n",
      "jeetendra\n",
      "jeetendra\n",
      "jeetendra\n",
      "jeetendra\n",
      "jeetendra\n",
      "jeetendra\n",
      "jeetendra\n",
      "jeetendra\n",
      "jeetendra\n",
      "jeetendra\n",
      "jeetendra\n",
      "jeetendra\n",
      "jeetendra\n",
      "jeetendra\n",
      "jeetendra\n",
      "jeetendra\n",
      "jeetendra\n",
      "jeetendra\n",
      "jeetendra\n",
      "jeetendra\n",
      "jeetendra\n",
      "jeetendra\n",
      "jeetendra\n",
      "jeetendra\n",
      "jeetendra\n",
      "jeetendra\n",
      "jeetendra\n",
      "jeetendra\n",
      "jeetendra\n",
      "jeetendra\n",
      "jeetendra\n"
     ]
    },
    {
     "data": {
      "application/vnd.jupyter.widget-view+json": {
       "model_id": "0943366e7c40465c83ea3c52fbd9ba68",
       "version_major": 2,
       "version_minor": 0
      },
      "text/plain": [
       "Images:   0%|          | 0/46 [00:00<?, ?it/s]"
      ]
     },
     "metadata": {},
     "output_type": "display_data"
    },
    {
     "name": "stdout",
     "output_type": "stream",
     "text": [
      "jimmy_sheirgill\n",
      "jimmy_sheirgill\n",
      "jimmy_sheirgill\n",
      "jimmy_sheirgill\n",
      "jimmy_sheirgill\n",
      "jimmy_sheirgill\n",
      "jimmy_sheirgill\n",
      "jimmy_sheirgill\n",
      "jimmy_sheirgill\n",
      "jimmy_sheirgill\n",
      "jimmy_sheirgill\n",
      "jimmy_sheirgill\n",
      "jimmy_sheirgill\n",
      "jimmy_sheirgill\n",
      "jimmy_sheirgill\n",
      "jimmy_sheirgill\n",
      "jimmy_sheirgill\n",
      "jimmy_sheirgill\n",
      "jimmy_sheirgill\n",
      "jimmy_sheirgill\n",
      "jimmy_sheirgill\n",
      "jimmy_sheirgill\n",
      "jimmy_sheirgill\n",
      "jimmy_sheirgill\n",
      "jimmy_sheirgill\n",
      "jimmy_sheirgill\n",
      "jimmy_sheirgill\n",
      "jimmy_sheirgill\n",
      "jimmy_sheirgill\n",
      "jimmy_sheirgill\n",
      "jimmy_sheirgill\n",
      "jimmy_sheirgill\n",
      "jimmy_sheirgill\n"
     ]
    },
    {
     "data": {
      "application/vnd.jupyter.widget-view+json": {
       "model_id": "c806a1a504c24f458a8c69d70573a31e",
       "version_major": 2,
       "version_minor": 0
      },
      "text/plain": [
       "Images:   0%|          | 0/47 [00:00<?, ?it/s]"
      ]
     },
     "metadata": {},
     "output_type": "display_data"
    },
    {
     "name": "stdout",
     "output_type": "stream",
     "text": [
      "johnny_lever\n",
      "johnny_lever\n",
      "johnny_lever\n",
      "johnny_lever\n",
      "johnny_lever\n",
      "johnny_lever\n",
      "johnny_lever\n",
      "johnny_lever\n",
      "johnny_lever\n",
      "johnny_lever\n",
      "johnny_lever\n",
      "johnny_lever\n",
      "johnny_lever\n",
      "johnny_lever\n",
      "johnny_lever\n",
      "johnny_lever\n",
      "johnny_lever\n",
      "johnny_lever\n",
      "johnny_lever\n",
      "johnny_lever\n",
      "johnny_lever\n",
      "johnny_lever\n",
      "johnny_lever\n",
      "johnny_lever\n",
      "johnny_lever\n",
      "johnny_lever\n",
      "johnny_lever\n",
      "johnny_lever\n",
      "johnny_lever\n",
      "johnny_lever\n",
      "johnny_lever\n"
     ]
    },
    {
     "data": {
      "application/vnd.jupyter.widget-view+json": {
       "model_id": "035335547ffb43248dfe0bdc30af01a6",
       "version_major": 2,
       "version_minor": 0
      },
      "text/plain": [
       "Images:   0%|          | 0/44 [00:00<?, ?it/s]"
      ]
     },
     "metadata": {},
     "output_type": "display_data"
    },
    {
     "name": "stdout",
     "output_type": "stream",
     "text": [
      "kader_khan\n",
      "kader_khan\n",
      "kader_khan\n",
      "kader_khan\n",
      "kader_khan\n",
      "kader_khan\n",
      "kader_khan\n",
      "kader_khan\n",
      "kader_khan\n",
      "kader_khan\n",
      "kader_khan\n",
      "kader_khan\n",
      "kader_khan\n",
      "kader_khan\n",
      "kader_khan\n",
      "kader_khan\n",
      "kader_khan\n",
      "kader_khan\n",
      "kader_khan\n",
      "kader_khan\n",
      "kader_khan\n",
      "kader_khan\n",
      "kader_khan\n",
      "kader_khan\n",
      "kader_khan\n",
      "kader_khan\n",
      "kader_khan\n",
      "kader_khan\n",
      "kader_khan\n",
      "kader_khan\n",
      "kader_khan\n",
      "kader_khan\n",
      "kader_khan\n"
     ]
    },
    {
     "data": {
      "application/vnd.jupyter.widget-view+json": {
       "model_id": "a3dd05dab3794cb299653b5968836b6e",
       "version_major": 2,
       "version_minor": 0
      },
      "text/plain": [
       "Images:   0%|          | 0/44 [00:00<?, ?it/s]"
      ]
     },
     "metadata": {},
     "output_type": "display_data"
    },
    {
     "name": "stdout",
     "output_type": "stream",
     "text": [
      "kajol\n",
      "kajol\n",
      "kajol\n",
      "kajol\n",
      "kajol\n",
      "kajol\n",
      "kajol\n",
      "kajol\n",
      "kajol\n",
      "kajol\n",
      "kajol\n",
      "kajol\n",
      "kajol\n",
      "kajol\n",
      "kajol\n",
      "kajol\n",
      "kajol\n",
      "kajol\n",
      "kajol\n",
      "kajol\n",
      "kajol\n",
      "kajol\n",
      "kajol\n",
      "kajol\n",
      "kajol\n",
      "kajol\n",
      "kajol\n",
      "kajol\n",
      "kajol\n",
      "kajol\n",
      "kajol\n",
      "kajol\n",
      "kajol\n",
      "kajol\n",
      "kajol\n",
      "kajol\n",
      "kajol\n",
      "kajol\n",
      "kajol\n",
      "kajol\n",
      "kajol\n"
     ]
    },
    {
     "data": {
      "application/vnd.jupyter.widget-view+json": {
       "model_id": "8c7064e78fc64858a5f07e023e4fb0e9",
       "version_major": 2,
       "version_minor": 0
      },
      "text/plain": [
       "Images:   0%|          | 0/48 [00:00<?, ?it/s]"
      ]
     },
     "metadata": {},
     "output_type": "display_data"
    },
    {
     "name": "stdout",
     "output_type": "stream",
     "text": [
      "kalki_koechlin\n",
      "kalki_koechlin\n",
      "kalki_koechlin\n",
      "kalki_koechlin\n",
      "kalki_koechlin\n",
      "kalki_koechlin\n",
      "kalki_koechlin\n",
      "kalki_koechlin\n",
      "kalki_koechlin\n",
      "kalki_koechlin\n",
      "kalki_koechlin\n",
      "kalki_koechlin\n",
      "kalki_koechlin\n",
      "kalki_koechlin\n",
      "kalki_koechlin\n",
      "kalki_koechlin\n",
      "kalki_koechlin\n",
      "kalki_koechlin\n",
      "kalki_koechlin\n",
      "kalki_koechlin\n",
      "kalki_koechlin\n",
      "kalki_koechlin\n",
      "kalki_koechlin\n",
      "kalki_koechlin\n",
      "kalki_koechlin\n",
      "kalki_koechlin\n",
      "kalki_koechlin\n",
      "kalki_koechlin\n",
      "kalki_koechlin\n",
      "kalki_koechlin\n",
      "kalki_koechlin\n",
      "kalki_koechlin\n",
      "kalki_koechlin\n",
      "kalki_koechlin\n",
      "kalki_koechlin\n",
      "kalki_koechlin\n",
      "kalki_koechlin\n",
      "kalki_koechlin\n",
      "kalki_koechlin\n",
      "kalki_koechlin\n",
      "kalki_koechlin\n",
      "kalki_koechlin\n",
      "kalki_koechlin\n",
      "kalki_koechlin\n",
      "kalki_koechlin\n"
     ]
    },
    {
     "data": {
      "application/vnd.jupyter.widget-view+json": {
       "model_id": "1ff8f3c042ac4a208b303fac9f693f07",
       "version_major": 2,
       "version_minor": 0
      },
      "text/plain": [
       "Images:   0%|          | 0/48 [00:00<?, ?it/s]"
      ]
     },
     "metadata": {},
     "output_type": "display_data"
    },
    {
     "name": "stdout",
     "output_type": "stream",
     "text": [
      "kamal_haasan\n",
      "kamal_haasan\n",
      "kamal_haasan\n",
      "kamal_haasan\n",
      "kamal_haasan\n",
      "kamal_haasan\n",
      "kamal_haasan\n",
      "kamal_haasan\n",
      "kamal_haasan\n",
      "kamal_haasan\n",
      "kamal_haasan\n",
      "kamal_haasan\n",
      "kamal_haasan\n",
      "kamal_haasan\n",
      "kamal_haasan\n",
      "kamal_haasan\n",
      "kamal_haasan\n",
      "kamal_haasan\n",
      "kamal_haasan\n",
      "kamal_haasan\n",
      "kamal_haasan\n",
      "kamal_haasan\n",
      "kamal_haasan\n",
      "kamal_haasan\n",
      "kamal_haasan\n",
      "kamal_haasan\n",
      "kamal_haasan\n",
      "kamal_haasan\n",
      "kamal_haasan\n",
      "kamal_haasan\n",
      "kamal_haasan\n",
      "kamal_haasan\n",
      "kamal_haasan\n",
      "kamal_haasan\n",
      "kamal_haasan\n",
      "kamal_haasan\n",
      "kamal_haasan\n",
      "kamal_haasan\n",
      "kamal_haasan\n",
      "kamal_haasan\n"
     ]
    },
    {
     "data": {
      "application/vnd.jupyter.widget-view+json": {
       "model_id": "dcfadec7185e45c1bee34dba98f1f057",
       "version_major": 2,
       "version_minor": 0
      },
      "text/plain": [
       "Images:   0%|          | 0/45 [00:00<?, ?it/s]"
      ]
     },
     "metadata": {},
     "output_type": "display_data"
    },
    {
     "name": "stdout",
     "output_type": "stream",
     "text": [
      "kangana_ranaut\n",
      "kangana_ranaut\n",
      "kangana_ranaut\n",
      "kangana_ranaut\n",
      "kangana_ranaut\n",
      "kangana_ranaut\n",
      "kangana_ranaut\n",
      "kangana_ranaut\n",
      "kangana_ranaut\n",
      "kangana_ranaut\n",
      "kangana_ranaut\n",
      "kangana_ranaut\n",
      "kangana_ranaut\n",
      "kangana_ranaut\n",
      "kangana_ranaut\n",
      "kangana_ranaut\n",
      "kangana_ranaut\n",
      "kangana_ranaut\n",
      "kangana_ranaut\n",
      "kangana_ranaut\n",
      "kangana_ranaut\n",
      "kangana_ranaut\n",
      "kangana_ranaut\n",
      "kangana_ranaut\n",
      "kangana_ranaut\n",
      "kangana_ranaut\n",
      "kangana_ranaut\n",
      "kangana_ranaut\n",
      "kangana_ranaut\n",
      "kangana_ranaut\n",
      "kangana_ranaut\n",
      "kangana_ranaut\n",
      "kangana_ranaut\n",
      "kangana_ranaut\n"
     ]
    },
    {
     "data": {
      "application/vnd.jupyter.widget-view+json": {
       "model_id": "c848e05c35884f90ab3976884cc11f1f",
       "version_major": 2,
       "version_minor": 0
      },
      "text/plain": [
       "Images:   0%|          | 0/45 [00:00<?, ?it/s]"
      ]
     },
     "metadata": {},
     "output_type": "display_data"
    },
    {
     "name": "stdout",
     "output_type": "stream",
     "text": [
      "kay_kay_menon\n",
      "kay_kay_menon\n",
      "kay_kay_menon\n",
      "kay_kay_menon\n",
      "kay_kay_menon\n",
      "kay_kay_menon\n",
      "kay_kay_menon\n",
      "kay_kay_menon\n",
      "kay_kay_menon\n",
      "kay_kay_menon\n",
      "kay_kay_menon\n",
      "kay_kay_menon\n",
      "kay_kay_menon\n",
      "kay_kay_menon\n",
      "kay_kay_menon\n",
      "kay_kay_menon\n",
      "kay_kay_menon\n",
      "kay_kay_menon\n",
      "kay_kay_menon\n",
      "kay_kay_menon\n",
      "kay_kay_menon\n",
      "kay_kay_menon\n",
      "kay_kay_menon\n",
      "kay_kay_menon\n",
      "kay_kay_menon\n",
      "kay_kay_menon\n",
      "kay_kay_menon\n",
      "kay_kay_menon\n",
      "kay_kay_menon\n"
     ]
    },
    {
     "data": {
      "application/vnd.jupyter.widget-view+json": {
       "model_id": "9ad2a0c64b3d48a2825555ff77fc6f58",
       "version_major": 2,
       "version_minor": 0
      },
      "text/plain": [
       "Images:   0%|          | 0/46 [00:00<?, ?it/s]"
      ]
     },
     "metadata": {},
     "output_type": "display_data"
    },
    {
     "name": "stdout",
     "output_type": "stream",
     "text": [
      "konkona_sen_sharma\n",
      "konkona_sen_sharma\n",
      "konkona_sen_sharma\n",
      "konkona_sen_sharma\n",
      "konkona_sen_sharma\n",
      "konkona_sen_sharma\n",
      "konkona_sen_sharma\n",
      "konkona_sen_sharma\n",
      "konkona_sen_sharma\n",
      "konkona_sen_sharma\n",
      "konkona_sen_sharma\n",
      "konkona_sen_sharma\n",
      "konkona_sen_sharma\n",
      "konkona_sen_sharma\n",
      "konkona_sen_sharma\n",
      "konkona_sen_sharma\n",
      "konkona_sen_sharma\n",
      "konkona_sen_sharma\n",
      "konkona_sen_sharma\n",
      "konkona_sen_sharma\n",
      "konkona_sen_sharma\n",
      "konkona_sen_sharma\n",
      "konkona_sen_sharma\n",
      "konkona_sen_sharma\n",
      "konkona_sen_sharma\n",
      "konkona_sen_sharma\n",
      "konkona_sen_sharma\n",
      "konkona_sen_sharma\n",
      "konkona_sen_sharma\n",
      "konkona_sen_sharma\n",
      "konkona_sen_sharma\n",
      "konkona_sen_sharma\n",
      "konkona_sen_sharma\n",
      "konkona_sen_sharma\n",
      "konkona_sen_sharma\n",
      "konkona_sen_sharma\n",
      "konkona_sen_sharma\n",
      "konkona_sen_sharma\n",
      "konkona_sen_sharma\n",
      "konkona_sen_sharma\n",
      "konkona_sen_sharma\n",
      "konkona_sen_sharma\n"
     ]
    },
    {
     "data": {
      "application/vnd.jupyter.widget-view+json": {
       "model_id": "64d83719c7a344968ccfb8764287ff5c",
       "version_major": 2,
       "version_minor": 0
      },
      "text/plain": [
       "Images:   0%|          | 0/46 [00:00<?, ?it/s]"
      ]
     },
     "metadata": {},
     "output_type": "display_data"
    },
    {
     "name": "stdout",
     "output_type": "stream",
     "text": [
      "kulbhushan_kharbanda\n",
      "kulbhushan_kharbanda\n",
      "kulbhushan_kharbanda\n",
      "kulbhushan_kharbanda\n",
      "kulbhushan_kharbanda\n",
      "kulbhushan_kharbanda\n",
      "kulbhushan_kharbanda\n",
      "kulbhushan_kharbanda\n",
      "kulbhushan_kharbanda\n",
      "kulbhushan_kharbanda\n",
      "kulbhushan_kharbanda\n",
      "kulbhushan_kharbanda\n",
      "kulbhushan_kharbanda\n",
      "kulbhushan_kharbanda\n",
      "kulbhushan_kharbanda\n",
      "kulbhushan_kharbanda\n",
      "kulbhushan_kharbanda\n",
      "kulbhushan_kharbanda\n",
      "kulbhushan_kharbanda\n",
      "kulbhushan_kharbanda\n",
      "kulbhushan_kharbanda\n",
      "kulbhushan_kharbanda\n",
      "kulbhushan_kharbanda\n",
      "kulbhushan_kharbanda\n",
      "kulbhushan_kharbanda\n",
      "kulbhushan_kharbanda\n",
      "kulbhushan_kharbanda\n",
      "kulbhushan_kharbanda\n",
      "kulbhushan_kharbanda\n",
      "kulbhushan_kharbanda\n",
      "kulbhushan_kharbanda\n",
      "kulbhushan_kharbanda\n",
      "kulbhushan_kharbanda\n",
      "kulbhushan_kharbanda\n",
      "kulbhushan_kharbanda\n",
      "kulbhushan_kharbanda\n"
     ]
    },
    {
     "data": {
      "application/vnd.jupyter.widget-view+json": {
       "model_id": "1b31fc1fd20a4af3913c25f2cb788e57",
       "version_major": 2,
       "version_minor": 0
      },
      "text/plain": [
       "Images:   0%|          | 0/46 [00:00<?, ?it/s]"
      ]
     },
     "metadata": {},
     "output_type": "display_data"
    },
    {
     "name": "stdout",
     "output_type": "stream",
     "text": [
      "lara_dutta\n",
      "lara_dutta\n",
      "lara_dutta\n",
      "lara_dutta\n",
      "lara_dutta\n",
      "lara_dutta\n",
      "lara_dutta\n",
      "lara_dutta\n",
      "lara_dutta\n",
      "lara_dutta\n",
      "lara_dutta\n",
      "lara_dutta\n",
      "lara_dutta\n",
      "lara_dutta\n",
      "lara_dutta\n",
      "lara_dutta\n",
      "lara_dutta\n",
      "lara_dutta\n",
      "lara_dutta\n",
      "lara_dutta\n",
      "lara_dutta\n",
      "lara_dutta\n",
      "lara_dutta\n",
      "lara_dutta\n",
      "lara_dutta\n",
      "lara_dutta\n",
      "lara_dutta\n",
      "lara_dutta\n",
      "lara_dutta\n",
      "lara_dutta\n",
      "lara_dutta\n",
      "lara_dutta\n",
      "lara_dutta\n",
      "lara_dutta\n",
      "lara_dutta\n",
      "lara_dutta\n",
      "lara_dutta\n",
      "lara_dutta\n",
      "lara_dutta\n",
      "lara_dutta\n"
     ]
    },
    {
     "data": {
      "application/vnd.jupyter.widget-view+json": {
       "model_id": "4fe3f7d979ac44a18e3212f25365bc0b",
       "version_major": 2,
       "version_minor": 0
      },
      "text/plain": [
       "Images:   0%|          | 0/50 [00:00<?, ?it/s]"
      ]
     },
     "metadata": {},
     "output_type": "display_data"
    },
    {
     "name": "stdout",
     "output_type": "stream",
     "text": [
      "madhavan\n",
      "madhavan\n",
      "madhavan\n",
      "madhavan\n",
      "madhavan\n",
      "madhavan\n",
      "madhavan\n",
      "madhavan\n",
      "madhavan\n",
      "madhavan\n",
      "madhavan\n",
      "madhavan\n",
      "madhavan\n",
      "madhavan\n",
      "madhavan\n",
      "madhavan\n",
      "madhavan\n",
      "madhavan\n",
      "madhavan\n",
      "madhavan\n",
      "madhavan\n",
      "madhavan\n",
      "madhavan\n",
      "madhavan\n",
      "madhavan\n",
      "madhavan\n",
      "madhavan\n",
      "madhavan\n",
      "madhavan\n",
      "madhavan\n",
      "madhavan\n",
      "madhavan\n",
      "madhavan\n",
      "madhavan\n",
      "madhavan\n",
      "madhavan\n",
      "madhavan\n",
      "madhavan\n",
      "madhavan\n",
      "madhavan\n",
      "madhavan\n",
      "madhavan\n",
      "madhavan\n"
     ]
    },
    {
     "data": {
      "application/vnd.jupyter.widget-view+json": {
       "model_id": "3230572866234cdfb076516493b72fcb",
       "version_major": 2,
       "version_minor": 0
      },
      "text/plain": [
       "Images:   0%|          | 0/45 [00:00<?, ?it/s]"
      ]
     },
     "metadata": {},
     "output_type": "display_data"
    },
    {
     "name": "stdout",
     "output_type": "stream",
     "text": [
      "madhuri_dixit\n",
      "madhuri_dixit\n",
      "madhuri_dixit\n",
      "madhuri_dixit\n",
      "madhuri_dixit\n",
      "madhuri_dixit\n",
      "madhuri_dixit\n",
      "madhuri_dixit\n",
      "madhuri_dixit\n",
      "madhuri_dixit\n",
      "madhuri_dixit\n",
      "madhuri_dixit\n",
      "madhuri_dixit\n",
      "madhuri_dixit\n",
      "madhuri_dixit\n",
      "madhuri_dixit\n",
      "madhuri_dixit\n",
      "madhuri_dixit\n",
      "madhuri_dixit\n",
      "madhuri_dixit\n",
      "madhuri_dixit\n",
      "madhuri_dixit\n",
      "madhuri_dixit\n",
      "madhuri_dixit\n",
      "madhuri_dixit\n",
      "madhuri_dixit\n",
      "madhuri_dixit\n",
      "madhuri_dixit\n",
      "madhuri_dixit\n",
      "madhuri_dixit\n",
      "madhuri_dixit\n",
      "madhuri_dixit\n",
      "madhuri_dixit\n",
      "madhuri_dixit\n",
      "madhuri_dixit\n",
      "madhuri_dixit\n",
      "madhuri_dixit\n",
      "madhuri_dixit\n",
      "madhuri_dixit\n"
     ]
    },
    {
     "data": {
      "application/vnd.jupyter.widget-view+json": {
       "model_id": "58323d35cdf343428f71348f3305e535",
       "version_major": 2,
       "version_minor": 0
      },
      "text/plain": [
       "Images:   0%|          | 0/46 [00:00<?, ?it/s]"
      ]
     },
     "metadata": {},
     "output_type": "display_data"
    },
    {
     "name": "stdout",
     "output_type": "stream",
     "text": [
      "mammootty\n",
      "mammootty\n",
      "mammootty\n",
      "mammootty\n",
      "mammootty\n",
      "mammootty\n",
      "mammootty\n",
      "mammootty\n",
      "mammootty\n",
      "mammootty\n",
      "mammootty\n",
      "mammootty\n",
      "mammootty\n",
      "mammootty\n",
      "mammootty\n",
      "mammootty\n",
      "mammootty\n",
      "mammootty\n",
      "mammootty\n",
      "mammootty\n",
      "mammootty\n",
      "mammootty\n",
      "mammootty\n",
      "mammootty\n",
      "mammootty\n"
     ]
    },
    {
     "data": {
      "application/vnd.jupyter.widget-view+json": {
       "model_id": "3af432ff3b0a40f186daa4d899918861",
       "version_major": 2,
       "version_minor": 0
      },
      "text/plain": [
       "Images:   0%|          | 0/46 [00:00<?, ?it/s]"
      ]
     },
     "metadata": {},
     "output_type": "display_data"
    },
    {
     "name": "stdout",
     "output_type": "stream",
     "text": [
      "manoj_bajpayee\n",
      "manoj_bajpayee\n",
      "manoj_bajpayee\n",
      "manoj_bajpayee\n",
      "manoj_bajpayee\n",
      "manoj_bajpayee\n",
      "manoj_bajpayee\n",
      "manoj_bajpayee\n",
      "manoj_bajpayee\n",
      "manoj_bajpayee\n",
      "manoj_bajpayee\n",
      "manoj_bajpayee\n",
      "manoj_bajpayee\n",
      "manoj_bajpayee\n",
      "manoj_bajpayee\n",
      "manoj_bajpayee\n",
      "manoj_bajpayee\n",
      "manoj_bajpayee\n",
      "manoj_bajpayee\n",
      "manoj_bajpayee\n",
      "manoj_bajpayee\n",
      "manoj_bajpayee\n",
      "manoj_bajpayee\n",
      "manoj_bajpayee\n",
      "manoj_bajpayee\n",
      "manoj_bajpayee\n",
      "manoj_bajpayee\n",
      "manoj_bajpayee\n",
      "manoj_bajpayee\n",
      "manoj_bajpayee\n",
      "manoj_bajpayee\n",
      "manoj_bajpayee\n",
      "manoj_bajpayee\n"
     ]
    },
    {
     "data": {
      "application/vnd.jupyter.widget-view+json": {
       "model_id": "916a0ab9b90d461ca6f815c4e8db56f5",
       "version_major": 2,
       "version_minor": 0
      },
      "text/plain": [
       "Images:   0%|          | 0/44 [00:00<?, ?it/s]"
      ]
     },
     "metadata": {},
     "output_type": "display_data"
    },
    {
     "name": "stdout",
     "output_type": "stream",
     "text": [
      "manoj_pahwa\n",
      "manoj_pahwa\n",
      "manoj_pahwa\n",
      "manoj_pahwa\n",
      "manoj_pahwa\n",
      "manoj_pahwa\n",
      "manoj_pahwa\n",
      "manoj_pahwa\n",
      "manoj_pahwa\n",
      "manoj_pahwa\n",
      "manoj_pahwa\n",
      "manoj_pahwa\n",
      "manoj_pahwa\n",
      "manoj_pahwa\n",
      "manoj_pahwa\n",
      "manoj_pahwa\n",
      "manoj_pahwa\n",
      "manoj_pahwa\n",
      "manoj_pahwa\n",
      "manoj_pahwa\n",
      "manoj_pahwa\n",
      "manoj_pahwa\n",
      "manoj_pahwa\n",
      "manoj_pahwa\n",
      "manoj_pahwa\n",
      "manoj_pahwa\n",
      "manoj_pahwa\n",
      "manoj_pahwa\n",
      "manoj_pahwa\n",
      "manoj_pahwa\n",
      "manoj_pahwa\n"
     ]
    },
    {
     "data": {
      "application/vnd.jupyter.widget-view+json": {
       "model_id": "1dfbedb6ed5341bc8b8640b029296f99",
       "version_major": 2,
       "version_minor": 0
      },
      "text/plain": [
       "Images:   0%|          | 0/37 [00:00<?, ?it/s]"
      ]
     },
     "metadata": {},
     "output_type": "display_data"
    },
    {
     "name": "stdout",
     "output_type": "stream",
     "text": [
      "mehmood\n",
      "mehmood\n",
      "mehmood\n",
      "mehmood\n",
      "mehmood\n",
      "mehmood\n",
      "mehmood\n",
      "mehmood\n",
      "mehmood\n",
      "mehmood\n",
      "mehmood\n",
      "mehmood\n",
      "mehmood\n",
      "mehmood\n",
      "mehmood\n",
      "mehmood\n",
      "mehmood\n",
      "mehmood\n",
      "mehmood\n",
      "mehmood\n",
      "mehmood\n",
      "mehmood\n",
      "mehmood\n",
      "mehmood\n",
      "mehmood\n",
      "mehmood\n",
      "mehmood\n",
      "mehmood\n",
      "mehmood\n",
      "mehmood\n",
      "mehmood\n"
     ]
    },
    {
     "data": {
      "application/vnd.jupyter.widget-view+json": {
       "model_id": "fd5069d2f1274fb58051c4d43ff40daf",
       "version_major": 2,
       "version_minor": 0
      },
      "text/plain": [
       "Images:   0%|          | 0/41 [00:00<?, ?it/s]"
      ]
     },
     "metadata": {},
     "output_type": "display_data"
    },
    {
     "name": "stdout",
     "output_type": "stream",
     "text": [
      "mita_vashisht\n",
      "mita_vashisht\n",
      "mita_vashisht\n",
      "mita_vashisht\n",
      "mita_vashisht\n",
      "mita_vashisht\n",
      "mita_vashisht\n",
      "mita_vashisht\n",
      "mita_vashisht\n",
      "mita_vashisht\n",
      "mita_vashisht\n",
      "mita_vashisht\n",
      "mita_vashisht\n",
      "mita_vashisht\n",
      "mita_vashisht\n",
      "mita_vashisht\n",
      "mita_vashisht\n",
      "mita_vashisht\n",
      "mita_vashisht\n",
      "mita_vashisht\n",
      "mita_vashisht\n",
      "mita_vashisht\n",
      "mita_vashisht\n",
      "mita_vashisht\n",
      "mita_vashisht\n",
      "mita_vashisht\n",
      "mita_vashisht\n",
      "mita_vashisht\n",
      "mita_vashisht\n",
      "mita_vashisht\n",
      "mita_vashisht\n",
      "mita_vashisht\n",
      "mita_vashisht\n",
      "mita_vashisht\n",
      "mita_vashisht\n"
     ]
    },
    {
     "data": {
      "application/vnd.jupyter.widget-view+json": {
       "model_id": "a0ed7a54efc042239f61ef7b3f94148a",
       "version_major": 2,
       "version_minor": 0
      },
      "text/plain": [
       "Images:   0%|          | 0/46 [00:00<?, ?it/s]"
      ]
     },
     "metadata": {},
     "output_type": "display_data"
    },
    {
     "name": "stdout",
     "output_type": "stream",
     "text": [
      "mithun_chakraborty\n",
      "mithun_chakraborty\n",
      "mithun_chakraborty\n",
      "mithun_chakraborty\n",
      "mithun_chakraborty\n",
      "mithun_chakraborty\n",
      "mithun_chakraborty\n",
      "mithun_chakraborty\n",
      "mithun_chakraborty\n",
      "mithun_chakraborty\n",
      "mithun_chakraborty\n",
      "mithun_chakraborty\n",
      "mithun_chakraborty\n",
      "mithun_chakraborty\n",
      "mithun_chakraborty\n",
      "mithun_chakraborty\n",
      "mithun_chakraborty\n",
      "mithun_chakraborty\n",
      "mithun_chakraborty\n",
      "mithun_chakraborty\n",
      "mithun_chakraborty\n",
      "mithun_chakraborty\n",
      "mithun_chakraborty\n",
      "mithun_chakraborty\n",
      "mithun_chakraborty\n",
      "mithun_chakraborty\n",
      "mithun_chakraborty\n",
      "mithun_chakraborty\n",
      "mithun_chakraborty\n",
      "mithun_chakraborty\n",
      "mithun_chakraborty\n",
      "mithun_chakraborty\n",
      "mithun_chakraborty\n",
      "mithun_chakraborty\n",
      "mithun_chakraborty\n",
      "mithun_chakraborty\n",
      "mithun_chakraborty\n",
      "mithun_chakraborty\n",
      "mithun_chakraborty\n",
      "mithun_chakraborty\n"
     ]
    },
    {
     "data": {
      "application/vnd.jupyter.widget-view+json": {
       "model_id": "0571a7ec9fb8461187a0312dbfdba0f6",
       "version_major": 2,
       "version_minor": 0
      },
      "text/plain": [
       "Images:   0%|          | 0/46 [00:00<?, ?it/s]"
      ]
     },
     "metadata": {},
     "output_type": "display_data"
    },
    {
     "name": "stdout",
     "output_type": "stream",
     "text": [
      "mohanlal\n",
      "mohanlal\n",
      "mohanlal\n",
      "mohanlal\n",
      "mohanlal\n",
      "mohanlal\n",
      "mohanlal\n",
      "mohanlal\n",
      "mohanlal\n",
      "mohanlal\n",
      "mohanlal\n",
      "mohanlal\n",
      "mohanlal\n",
      "mohanlal\n",
      "mohanlal\n",
      "mohanlal\n",
      "mohanlal\n",
      "mohanlal\n",
      "mohanlal\n",
      "mohanlal\n",
      "mohanlal\n",
      "mohanlal\n",
      "mohanlal\n",
      "mohanlal\n",
      "mohanlal\n",
      "mohanlal\n",
      "mohanlal\n",
      "mohanlal\n",
      "mohanlal\n",
      "mohanlal\n",
      "mohanlal\n",
      "mohanlal\n",
      "mohanlal\n",
      "mohanlal\n",
      "mohanlal\n",
      "mohanlal\n"
     ]
    },
    {
     "data": {
      "application/vnd.jupyter.widget-view+json": {
       "model_id": "c857e22e0c6f425db357483d364a589a",
       "version_major": 2,
       "version_minor": 0
      },
      "text/plain": [
       "Images:   0%|          | 0/49 [00:00<?, ?it/s]"
      ]
     },
     "metadata": {},
     "output_type": "display_data"
    },
    {
     "name": "stdout",
     "output_type": "stream",
     "text": [
      "mohnish_bahl\n",
      "mohnish_bahl\n",
      "mohnish_bahl\n",
      "mohnish_bahl\n",
      "mohnish_bahl\n",
      "mohnish_bahl\n",
      "mohnish_bahl\n",
      "mohnish_bahl\n",
      "mohnish_bahl\n",
      "mohnish_bahl\n",
      "mohnish_bahl\n",
      "mohnish_bahl\n",
      "mohnish_bahl\n",
      "mohnish_bahl\n",
      "mohnish_bahl\n",
      "mohnish_bahl\n",
      "mohnish_bahl\n",
      "mohnish_bahl\n",
      "mohnish_bahl\n",
      "mohnish_bahl\n",
      "mohnish_bahl\n",
      "mohnish_bahl\n",
      "mohnish_bahl\n",
      "mohnish_bahl\n",
      "mohnish_bahl\n",
      "mohnish_bahl\n",
      "mohnish_bahl\n",
      "mohnish_bahl\n",
      "mohnish_bahl\n",
      "mohnish_bahl\n",
      "mohnish_bahl\n",
      "mohnish_bahl\n",
      "mohnish_bahl\n",
      "mohnish_bahl\n",
      "mohnish_bahl\n",
      "mohnish_bahl\n",
      "mohnish_bahl\n",
      "mohnish_bahl\n",
      "mohnish_bahl\n",
      "mohnish_bahl\n",
      "mohnish_bahl\n"
     ]
    },
    {
     "data": {
      "application/vnd.jupyter.widget-view+json": {
       "model_id": "6cb74bcb8c2946368c9b778db1328cf0",
       "version_major": 2,
       "version_minor": 0
      },
      "text/plain": [
       "Images:   0%|          | 0/44 [00:00<?, ?it/s]"
      ]
     },
     "metadata": {},
     "output_type": "display_data"
    },
    {
     "name": "stdout",
     "output_type": "stream",
     "text": [
      "mukesh_khanna\n",
      "mukesh_khanna\n",
      "mukesh_khanna\n",
      "mukesh_khanna\n",
      "mukesh_khanna\n",
      "mukesh_khanna\n",
      "mukesh_khanna\n",
      "mukesh_khanna\n",
      "mukesh_khanna\n",
      "mukesh_khanna\n",
      "mukesh_khanna\n",
      "mukesh_khanna\n",
      "mukesh_khanna\n",
      "mukesh_khanna\n",
      "mukesh_khanna\n",
      "mukesh_khanna\n",
      "mukesh_khanna\n",
      "mukesh_khanna\n",
      "mukesh_khanna\n",
      "mukesh_khanna\n",
      "mukesh_khanna\n",
      "mukesh_khanna\n",
      "mukesh_khanna\n",
      "mukesh_khanna\n",
      "mukesh_khanna\n",
      "mukesh_khanna\n",
      "mukesh_khanna\n",
      "mukesh_khanna\n",
      "mukesh_khanna\n"
     ]
    },
    {
     "data": {
      "application/vnd.jupyter.widget-view+json": {
       "model_id": "970b25ae4f324332871d42014c12bf27",
       "version_major": 2,
       "version_minor": 0
      },
      "text/plain": [
       "Images:   0%|          | 0/46 [00:00<?, ?it/s]"
      ]
     },
     "metadata": {},
     "output_type": "display_data"
    },
    {
     "name": "stdout",
     "output_type": "stream",
     "text": [
      "mukul_dev\n",
      "mukul_dev\n",
      "mukul_dev\n",
      "mukul_dev\n",
      "mukul_dev\n",
      "mukul_dev\n",
      "mukul_dev\n",
      "mukul_dev\n",
      "mukul_dev\n",
      "mukul_dev\n",
      "mukul_dev\n",
      "mukul_dev\n",
      "mukul_dev\n",
      "mukul_dev\n",
      "mukul_dev\n",
      "mukul_dev\n",
      "mukul_dev\n",
      "mukul_dev\n",
      "mukul_dev\n",
      "mukul_dev\n",
      "mukul_dev\n",
      "mukul_dev\n",
      "mukul_dev\n",
      "mukul_dev\n",
      "mukul_dev\n",
      "mukul_dev\n",
      "mukul_dev\n",
      "mukul_dev\n",
      "mukul_dev\n",
      "mukul_dev\n",
      "mukul_dev\n",
      "mukul_dev\n",
      "mukul_dev\n",
      "mukul_dev\n",
      "mukul_dev\n",
      "mukul_dev\n",
      "mukul_dev\n"
     ]
    },
    {
     "data": {
      "application/vnd.jupyter.widget-view+json": {
       "model_id": "fe20c365ce8b4a96943a2f5b65196815",
       "version_major": 2,
       "version_minor": 0
      },
      "text/plain": [
       "Images:   0%|          | 0/45 [00:00<?, ?it/s]"
      ]
     },
     "metadata": {},
     "output_type": "display_data"
    },
    {
     "name": "stdout",
     "output_type": "stream",
     "text": [
      "nagarjuna_akkineni\n",
      "nagarjuna_akkineni\n",
      "nagarjuna_akkineni\n",
      "nagarjuna_akkineni\n",
      "nagarjuna_akkineni\n",
      "nagarjuna_akkineni\n",
      "nagarjuna_akkineni\n",
      "nagarjuna_akkineni\n",
      "nagarjuna_akkineni\n",
      "nagarjuna_akkineni\n",
      "nagarjuna_akkineni\n",
      "nagarjuna_akkineni\n",
      "nagarjuna_akkineni\n",
      "nagarjuna_akkineni\n",
      "nagarjuna_akkineni\n",
      "nagarjuna_akkineni\n",
      "nagarjuna_akkineni\n",
      "nagarjuna_akkineni\n",
      "nagarjuna_akkineni\n",
      "nagarjuna_akkineni\n",
      "nagarjuna_akkineni\n",
      "nagarjuna_akkineni\n",
      "nagarjuna_akkineni\n",
      "nagarjuna_akkineni\n",
      "nagarjuna_akkineni\n",
      "nagarjuna_akkineni\n",
      "nagarjuna_akkineni\n",
      "nagarjuna_akkineni\n",
      "nagarjuna_akkineni\n",
      "nagarjuna_akkineni\n",
      "nagarjuna_akkineni\n",
      "nagarjuna_akkineni\n",
      "nagarjuna_akkineni\n",
      "nagarjuna_akkineni\n",
      "nagarjuna_akkineni\n"
     ]
    },
    {
     "data": {
      "application/vnd.jupyter.widget-view+json": {
       "model_id": "7807fd132bf14ae6b9daab41a3bf8301",
       "version_major": 2,
       "version_minor": 0
      },
      "text/plain": [
       "Images:   0%|          | 0/44 [00:00<?, ?it/s]"
      ]
     },
     "metadata": {},
     "output_type": "display_data"
    },
    {
     "name": "stdout",
     "output_type": "stream",
     "text": [
      "nana_patekar\n",
      "nana_patekar\n",
      "nana_patekar\n",
      "nana_patekar\n",
      "nana_patekar\n",
      "nana_patekar\n",
      "nana_patekar\n",
      "nana_patekar\n",
      "nana_patekar\n",
      "nana_patekar\n",
      "nana_patekar\n",
      "nana_patekar\n",
      "nana_patekar\n",
      "nana_patekar\n",
      "nana_patekar\n",
      "nana_patekar\n",
      "nana_patekar\n",
      "nana_patekar\n",
      "nana_patekar\n",
      "nana_patekar\n",
      "nana_patekar\n",
      "nana_patekar\n",
      "nana_patekar\n",
      "nana_patekar\n",
      "nana_patekar\n",
      "nana_patekar\n",
      "nana_patekar\n",
      "nana_patekar\n",
      "nana_patekar\n",
      "nana_patekar\n",
      "nana_patekar\n",
      "nana_patekar\n",
      "nana_patekar\n",
      "nana_patekar\n"
     ]
    },
    {
     "data": {
      "application/vnd.jupyter.widget-view+json": {
       "model_id": "cca5c54c5164480797e5db629b63da0f",
       "version_major": 2,
       "version_minor": 0
      },
      "text/plain": [
       "Images:   0%|          | 0/49 [00:00<?, ?it/s]"
      ]
     },
     "metadata": {},
     "output_type": "display_data"
    },
    {
     "name": "stdout",
     "output_type": "stream",
     "text": [
      "nandita_das\n",
      "nandita_das\n",
      "nandita_das\n",
      "nandita_das\n",
      "nandita_das\n",
      "nandita_das\n",
      "nandita_das\n",
      "nandita_das\n",
      "nandita_das\n",
      "nandita_das\n",
      "nandita_das\n",
      "nandita_das\n",
      "nandita_das\n",
      "nandita_das\n",
      "nandita_das\n",
      "nandita_das\n",
      "nandita_das\n",
      "nandita_das\n",
      "nandita_das\n",
      "nandita_das\n",
      "nandita_das\n",
      "nandita_das\n",
      "nandita_das\n",
      "nandita_das\n",
      "nandita_das\n",
      "nandita_das\n",
      "nandita_das\n",
      "nandita_das\n",
      "nandita_das\n",
      "nandita_das\n",
      "nandita_das\n",
      "nandita_das\n",
      "nandita_das\n",
      "nandita_das\n",
      "nandita_das\n",
      "nandita_das\n",
      "nandita_das\n",
      "nandita_das\n",
      "nandita_das\n",
      "nandita_das\n",
      "nandita_das\n",
      "nandita_das\n"
     ]
    },
    {
     "data": {
      "application/vnd.jupyter.widget-view+json": {
       "model_id": "31aadac11b924e1095f9f109baa2b7e2",
       "version_major": 2,
       "version_minor": 0
      },
      "text/plain": [
       "Images:   0%|          | 0/41 [00:00<?, ?it/s]"
      ]
     },
     "metadata": {},
     "output_type": "display_data"
    },
    {
     "name": "stdout",
     "output_type": "stream",
     "text": [
      "nargis\n",
      "nargis\n",
      "nargis\n",
      "nargis\n",
      "nargis\n",
      "nargis\n",
      "nargis\n",
      "nargis\n",
      "nargis\n",
      "nargis\n",
      "nargis\n",
      "nargis\n",
      "nargis\n",
      "nargis\n",
      "nargis\n",
      "nargis\n",
      "nargis\n",
      "nargis\n",
      "nargis\n",
      "nargis\n",
      "nargis\n",
      "nargis\n",
      "nargis\n",
      "nargis\n",
      "nargis\n",
      "nargis\n",
      "nargis\n",
      "nargis\n",
      "nargis\n",
      "nargis\n",
      "nargis\n",
      "nargis\n",
      "nargis\n"
     ]
    },
    {
     "data": {
      "application/vnd.jupyter.widget-view+json": {
       "model_id": "905f957c2292420d8487b4dddfd0b500",
       "version_major": 2,
       "version_minor": 0
      },
      "text/plain": [
       "Images:   0%|          | 0/50 [00:00<?, ?it/s]"
      ]
     },
     "metadata": {},
     "output_type": "display_data"
    },
    {
     "name": "stdout",
     "output_type": "stream",
     "text": [
      "naseeruddin_shah\n",
      "naseeruddin_shah\n",
      "naseeruddin_shah\n",
      "naseeruddin_shah\n",
      "naseeruddin_shah\n",
      "naseeruddin_shah\n",
      "naseeruddin_shah\n",
      "naseeruddin_shah\n",
      "naseeruddin_shah\n",
      "naseeruddin_shah\n",
      "naseeruddin_shah\n",
      "naseeruddin_shah\n",
      "naseeruddin_shah\n",
      "naseeruddin_shah\n",
      "naseeruddin_shah\n",
      "naseeruddin_shah\n",
      "naseeruddin_shah\n",
      "naseeruddin_shah\n",
      "naseeruddin_shah\n",
      "naseeruddin_shah\n",
      "naseeruddin_shah\n",
      "naseeruddin_shah\n",
      "naseeruddin_shah\n",
      "naseeruddin_shah\n",
      "naseeruddin_shah\n",
      "naseeruddin_shah\n",
      "naseeruddin_shah\n",
      "naseeruddin_shah\n",
      "naseeruddin_shah\n",
      "naseeruddin_shah\n",
      "naseeruddin_shah\n",
      "naseeruddin_shah\n"
     ]
    },
    {
     "data": {
      "application/vnd.jupyter.widget-view+json": {
       "model_id": "133cd539d4a141da93d63bc2d5974f4a",
       "version_major": 2,
       "version_minor": 0
      },
      "text/plain": [
       "Images:   0%|          | 0/41 [00:00<?, ?it/s]"
      ]
     },
     "metadata": {},
     "output_type": "display_data"
    },
    {
     "name": "stdout",
     "output_type": "stream",
     "text": [
      "navin_nischol\n",
      "navin_nischol\n",
      "navin_nischol\n",
      "navin_nischol\n",
      "navin_nischol\n",
      "navin_nischol\n",
      "navin_nischol\n",
      "navin_nischol\n",
      "navin_nischol\n",
      "navin_nischol\n",
      "navin_nischol\n",
      "navin_nischol\n",
      "navin_nischol\n",
      "navin_nischol\n",
      "navin_nischol\n",
      "navin_nischol\n",
      "navin_nischol\n",
      "navin_nischol\n",
      "navin_nischol\n",
      "navin_nischol\n",
      "navin_nischol\n",
      "navin_nischol\n",
      "navin_nischol\n",
      "navin_nischol\n",
      "navin_nischol\n",
      "navin_nischol\n",
      "navin_nischol\n",
      "navin_nischol\n",
      "navin_nischol\n",
      "navin_nischol\n",
      "navin_nischol\n",
      "navin_nischol\n",
      "navin_nischol\n",
      "navin_nischol\n"
     ]
    },
    {
     "data": {
      "application/vnd.jupyter.widget-view+json": {
       "model_id": "1e371906511d4a59b136e8cd50cf2790",
       "version_major": 2,
       "version_minor": 0
      },
      "text/plain": [
       "Images:   0%|          | 0/45 [00:00<?, ?it/s]"
      ]
     },
     "metadata": {},
     "output_type": "display_data"
    },
    {
     "name": "stdout",
     "output_type": "stream",
     "text": [
      "nawazuddin_siddiqui\n",
      "nawazuddin_siddiqui\n",
      "nawazuddin_siddiqui\n",
      "nawazuddin_siddiqui\n",
      "nawazuddin_siddiqui\n",
      "nawazuddin_siddiqui\n",
      "nawazuddin_siddiqui\n",
      "nawazuddin_siddiqui\n",
      "nawazuddin_siddiqui\n",
      "nawazuddin_siddiqui\n",
      "nawazuddin_siddiqui\n",
      "nawazuddin_siddiqui\n",
      "nawazuddin_siddiqui\n",
      "nawazuddin_siddiqui\n",
      "nawazuddin_siddiqui\n",
      "nawazuddin_siddiqui\n",
      "nawazuddin_siddiqui\n",
      "nawazuddin_siddiqui\n",
      "nawazuddin_siddiqui\n",
      "nawazuddin_siddiqui\n",
      "nawazuddin_siddiqui\n",
      "nawazuddin_siddiqui\n",
      "nawazuddin_siddiqui\n",
      "nawazuddin_siddiqui\n",
      "nawazuddin_siddiqui\n",
      "nawazuddin_siddiqui\n",
      "nawazuddin_siddiqui\n",
      "nawazuddin_siddiqui\n",
      "nawazuddin_siddiqui\n",
      "nawazuddin_siddiqui\n",
      "nawazuddin_siddiqui\n",
      "nawazuddin_siddiqui\n",
      "nawazuddin_siddiqui\n",
      "nawazuddin_siddiqui\n",
      "nawazuddin_siddiqui\n",
      "nawazuddin_siddiqui\n"
     ]
    },
    {
     "data": {
      "application/vnd.jupyter.widget-view+json": {
       "model_id": "3a6fa2d0242d408e811820131430e25e",
       "version_major": 2,
       "version_minor": 0
      },
      "text/plain": [
       "Images:   0%|          | 0/49 [00:00<?, ?it/s]"
      ]
     },
     "metadata": {},
     "output_type": "display_data"
    },
    {
     "name": "stdout",
     "output_type": "stream",
     "text": [
      "neeraj_kabi\n",
      "neeraj_kabi\n",
      "neeraj_kabi\n",
      "neeraj_kabi\n",
      "neeraj_kabi\n",
      "neeraj_kabi\n",
      "neeraj_kabi\n",
      "neeraj_kabi\n",
      "neeraj_kabi\n",
      "neeraj_kabi\n",
      "neeraj_kabi\n",
      "neeraj_kabi\n",
      "neeraj_kabi\n",
      "neeraj_kabi\n",
      "neeraj_kabi\n",
      "neeraj_kabi\n",
      "neeraj_kabi\n",
      "neeraj_kabi\n",
      "neeraj_kabi\n",
      "neeraj_kabi\n",
      "neeraj_kabi\n",
      "neeraj_kabi\n",
      "neeraj_kabi\n",
      "neeraj_kabi\n",
      "neeraj_kabi\n",
      "neeraj_kabi\n",
      "neeraj_kabi\n",
      "neeraj_kabi\n",
      "neeraj_kabi\n",
      "neeraj_kabi\n",
      "neeraj_kabi\n"
     ]
    },
    {
     "data": {
      "application/vnd.jupyter.widget-view+json": {
       "model_id": "7f6fbfa734a240888988c4e8003fb688",
       "version_major": 2,
       "version_minor": 0
      },
      "text/plain": [
       "Images:   0%|          | 0/42 [00:00<?, ?it/s]"
      ]
     },
     "metadata": {},
     "output_type": "display_data"
    },
    {
     "name": "stdout",
     "output_type": "stream",
     "text": [
      "nirupa_roy\n",
      "nirupa_roy\n",
      "nirupa_roy\n",
      "nirupa_roy\n",
      "nirupa_roy\n",
      "nirupa_roy\n",
      "nirupa_roy\n",
      "nirupa_roy\n",
      "nirupa_roy\n",
      "nirupa_roy\n",
      "nirupa_roy\n",
      "nirupa_roy\n",
      "nirupa_roy\n",
      "nirupa_roy\n",
      "nirupa_roy\n",
      "nirupa_roy\n",
      "nirupa_roy\n",
      "nirupa_roy\n",
      "nirupa_roy\n",
      "nirupa_roy\n",
      "nirupa_roy\n",
      "nirupa_roy\n",
      "nirupa_roy\n",
      "nirupa_roy\n",
      "nirupa_roy\n",
      "nirupa_roy\n",
      "nirupa_roy\n",
      "nirupa_roy\n",
      "nirupa_roy\n",
      "nirupa_roy\n",
      "nirupa_roy\n",
      "nirupa_roy\n",
      "nirupa_roy\n",
      "nirupa_roy\n",
      "nirupa_roy\n",
      "nirupa_roy\n"
     ]
    },
    {
     "data": {
      "application/vnd.jupyter.widget-view+json": {
       "model_id": "eca30e4d33df4758ba8a717cca96ea13",
       "version_major": 2,
       "version_minor": 0
      },
      "text/plain": [
       "Images:   0%|          | 0/41 [00:00<?, ?it/s]"
      ]
     },
     "metadata": {},
     "output_type": "display_data"
    },
    {
     "name": "stdout",
     "output_type": "stream",
     "text": [
      "om_puri\n",
      "om_puri\n",
      "om_puri\n",
      "om_puri\n",
      "om_puri\n",
      "om_puri\n",
      "om_puri\n",
      "om_puri\n",
      "om_puri\n",
      "om_puri\n",
      "om_puri\n",
      "om_puri\n",
      "om_puri\n",
      "om_puri\n",
      "om_puri\n",
      "om_puri\n",
      "om_puri\n",
      "om_puri\n",
      "om_puri\n",
      "om_puri\n",
      "om_puri\n",
      "om_puri\n",
      "om_puri\n",
      "om_puri\n",
      "om_puri\n",
      "om_puri\n",
      "om_puri\n",
      "om_puri\n",
      "om_puri\n",
      "om_puri\n",
      "om_puri\n",
      "om_puri\n",
      "om_puri\n"
     ]
    },
    {
     "data": {
      "application/vnd.jupyter.widget-view+json": {
       "model_id": "1a5b897f44604b889095377b0f858c69",
       "version_major": 2,
       "version_minor": 0
      },
      "text/plain": [
       "Images:   0%|          | 0/45 [00:00<?, ?it/s]"
      ]
     },
     "metadata": {},
     "output_type": "display_data"
    },
    {
     "name": "stdout",
     "output_type": "stream",
     "text": [
      "pankaj_kapur\n",
      "pankaj_kapur\n",
      "pankaj_kapur\n",
      "pankaj_kapur\n",
      "pankaj_kapur\n",
      "pankaj_kapur\n",
      "pankaj_kapur\n",
      "pankaj_kapur\n",
      "pankaj_kapur\n",
      "pankaj_kapur\n",
      "pankaj_kapur\n",
      "pankaj_kapur\n",
      "pankaj_kapur\n",
      "pankaj_kapur\n",
      "pankaj_kapur\n",
      "pankaj_kapur\n",
      "pankaj_kapur\n",
      "pankaj_kapur\n",
      "pankaj_kapur\n",
      "pankaj_kapur\n",
      "pankaj_kapur\n",
      "pankaj_kapur\n",
      "pankaj_kapur\n",
      "pankaj_kapur\n",
      "pankaj_kapur\n",
      "pankaj_kapur\n",
      "pankaj_kapur\n",
      "pankaj_kapur\n",
      "pankaj_kapur\n",
      "pankaj_kapur\n",
      "pankaj_kapur\n",
      "pankaj_kapur\n",
      "pankaj_kapur\n"
     ]
    },
    {
     "data": {
      "application/vnd.jupyter.widget-view+json": {
       "model_id": "1a69ebdd26c94e8ebb011f4b1ad7a844",
       "version_major": 2,
       "version_minor": 0
      },
      "text/plain": [
       "Images:   0%|          | 0/46 [00:00<?, ?it/s]"
      ]
     },
     "metadata": {},
     "output_type": "display_data"
    },
    {
     "name": "stdout",
     "output_type": "stream",
     "text": [
      "pankaj_tripathi\n",
      "pankaj_tripathi\n",
      "pankaj_tripathi\n",
      "pankaj_tripathi\n",
      "pankaj_tripathi\n",
      "pankaj_tripathi\n",
      "pankaj_tripathi\n",
      "pankaj_tripathi\n",
      "pankaj_tripathi\n",
      "pankaj_tripathi\n",
      "pankaj_tripathi\n",
      "pankaj_tripathi\n",
      "pankaj_tripathi\n",
      "pankaj_tripathi\n",
      "pankaj_tripathi\n",
      "pankaj_tripathi\n",
      "pankaj_tripathi\n",
      "pankaj_tripathi\n",
      "pankaj_tripathi\n",
      "pankaj_tripathi\n",
      "pankaj_tripathi\n",
      "pankaj_tripathi\n",
      "pankaj_tripathi\n",
      "pankaj_tripathi\n",
      "pankaj_tripathi\n",
      "pankaj_tripathi\n",
      "pankaj_tripathi\n",
      "pankaj_tripathi\n",
      "pankaj_tripathi\n",
      "pankaj_tripathi\n",
      "pankaj_tripathi\n",
      "pankaj_tripathi\n",
      "pankaj_tripathi\n",
      "pankaj_tripathi\n",
      "pankaj_tripathi\n"
     ]
    },
    {
     "data": {
      "application/vnd.jupyter.widget-view+json": {
       "model_id": "e992dd3c169f4fcb9634d483f3aef39b",
       "version_major": 2,
       "version_minor": 0
      },
      "text/plain": [
       "Images:   0%|          | 0/44 [00:00<?, ?it/s]"
      ]
     },
     "metadata": {},
     "output_type": "display_data"
    },
    {
     "name": "stdout",
     "output_type": "stream",
     "text": [
      "paresh_rawal\n",
      "paresh_rawal\n",
      "paresh_rawal\n",
      "paresh_rawal\n",
      "paresh_rawal\n",
      "paresh_rawal\n",
      "paresh_rawal\n",
      "paresh_rawal\n",
      "paresh_rawal\n",
      "paresh_rawal\n",
      "paresh_rawal\n",
      "paresh_rawal\n",
      "paresh_rawal\n",
      "paresh_rawal\n",
      "paresh_rawal\n",
      "paresh_rawal\n",
      "paresh_rawal\n",
      "paresh_rawal\n",
      "paresh_rawal\n",
      "paresh_rawal\n",
      "paresh_rawal\n",
      "paresh_rawal\n",
      "paresh_rawal\n",
      "paresh_rawal\n",
      "paresh_rawal\n",
      "paresh_rawal\n",
      "paresh_rawal\n",
      "paresh_rawal\n",
      "paresh_rawal\n",
      "paresh_rawal\n",
      "paresh_rawal\n",
      "paresh_rawal\n",
      "paresh_rawal\n",
      "paresh_rawal\n",
      "paresh_rawal\n",
      "paresh_rawal\n"
     ]
    },
    {
     "data": {
      "application/vnd.jupyter.widget-view+json": {
       "model_id": "d8d14d6d3663486fa3b322d68ee9c632",
       "version_major": 2,
       "version_minor": 0
      },
      "text/plain": [
       "Images:   0%|          | 0/47 [00:00<?, ?it/s]"
      ]
     },
     "metadata": {},
     "output_type": "display_data"
    },
    {
     "name": "stdout",
     "output_type": "stream",
     "text": [
      "pawan_malhotra\n",
      "pawan_malhotra\n",
      "pawan_malhotra\n",
      "pawan_malhotra\n",
      "pawan_malhotra\n",
      "pawan_malhotra\n",
      "pawan_malhotra\n",
      "pawan_malhotra\n",
      "pawan_malhotra\n",
      "pawan_malhotra\n",
      "pawan_malhotra\n",
      "pawan_malhotra\n",
      "pawan_malhotra\n",
      "pawan_malhotra\n",
      "pawan_malhotra\n",
      "pawan_malhotra\n",
      "pawan_malhotra\n",
      "pawan_malhotra\n",
      "pawan_malhotra\n",
      "pawan_malhotra\n",
      "pawan_malhotra\n",
      "pawan_malhotra\n",
      "pawan_malhotra\n",
      "pawan_malhotra\n"
     ]
    },
    {
     "data": {
      "application/vnd.jupyter.widget-view+json": {
       "model_id": "f7926f9cf222448a946c0fd733e522b3",
       "version_major": 2,
       "version_minor": 0
      },
      "text/plain": [
       "Images:   0%|          | 0/41 [00:00<?, ?it/s]"
      ]
     },
     "metadata": {},
     "output_type": "display_data"
    },
    {
     "name": "stdout",
     "output_type": "stream",
     "text": [
      "pooja_bhatt\n",
      "pooja_bhatt\n",
      "pooja_bhatt\n",
      "pooja_bhatt\n",
      "pooja_bhatt\n",
      "pooja_bhatt\n",
      "pooja_bhatt\n",
      "pooja_bhatt\n",
      "pooja_bhatt\n",
      "pooja_bhatt\n",
      "pooja_bhatt\n",
      "pooja_bhatt\n",
      "pooja_bhatt\n",
      "pooja_bhatt\n",
      "pooja_bhatt\n",
      "pooja_bhatt\n",
      "pooja_bhatt\n",
      "pooja_bhatt\n",
      "pooja_bhatt\n",
      "pooja_bhatt\n",
      "pooja_bhatt\n",
      "pooja_bhatt\n",
      "pooja_bhatt\n",
      "pooja_bhatt\n",
      "pooja_bhatt\n",
      "pooja_bhatt\n",
      "pooja_bhatt\n",
      "pooja_bhatt\n",
      "pooja_bhatt\n",
      "pooja_bhatt\n",
      "pooja_bhatt\n",
      "pooja_bhatt\n"
     ]
    },
    {
     "data": {
      "application/vnd.jupyter.widget-view+json": {
       "model_id": "825de599b6aa4e6a8ae253c97495266b",
       "version_major": 2,
       "version_minor": 0
      },
      "text/plain": [
       "Images:   0%|          | 0/44 [00:00<?, ?it/s]"
      ]
     },
     "metadata": {},
     "output_type": "display_data"
    },
    {
     "name": "stdout",
     "output_type": "stream",
     "text": [
      "prabhas\n",
      "prabhas\n",
      "prabhas\n",
      "prabhas\n",
      "prabhas\n",
      "prabhas\n",
      "prabhas\n",
      "prabhas\n",
      "prabhas\n",
      "prabhas\n",
      "prabhas\n",
      "prabhas\n",
      "prabhas\n",
      "prabhas\n",
      "prabhas\n",
      "prabhas\n",
      "prabhas\n",
      "prabhas\n",
      "prabhas\n",
      "prabhas\n",
      "prabhas\n",
      "prabhas\n",
      "prabhas\n",
      "prabhas\n",
      "prabhas\n",
      "prabhas\n",
      "prabhas\n",
      "prabhas\n",
      "prabhas\n",
      "prabhas\n",
      "prabhas\n",
      "prabhas\n",
      "prabhas\n"
     ]
    },
    {
     "data": {
      "application/vnd.jupyter.widget-view+json": {
       "model_id": "5b4a56d4df804aba9ddc4aa919a772ec",
       "version_major": 2,
       "version_minor": 0
      },
      "text/plain": [
       "Images:   0%|          | 0/47 [00:00<?, ?it/s]"
      ]
     },
     "metadata": {},
     "output_type": "display_data"
    },
    {
     "name": "stdout",
     "output_type": "stream",
     "text": [
      "prabhu_deva\n",
      "prabhu_deva\n",
      "prabhu_deva\n",
      "prabhu_deva\n",
      "prabhu_deva\n",
      "prabhu_deva\n",
      "prabhu_deva\n",
      "prabhu_deva\n",
      "prabhu_deva\n",
      "prabhu_deva\n",
      "prabhu_deva\n",
      "prabhu_deva\n",
      "prabhu_deva\n",
      "prabhu_deva\n",
      "prabhu_deva\n",
      "prabhu_deva\n",
      "prabhu_deva\n",
      "prabhu_deva\n",
      "prabhu_deva\n",
      "prabhu_deva\n",
      "prabhu_deva\n",
      "prabhu_deva\n",
      "prabhu_deva\n",
      "prabhu_deva\n",
      "prabhu_deva\n",
      "prabhu_deva\n",
      "prabhu_deva\n",
      "prabhu_deva\n",
      "prabhu_deva\n",
      "prabhu_deva\n",
      "prabhu_deva\n",
      "prabhu_deva\n",
      "prabhu_deva\n",
      "prabhu_deva\n",
      "prabhu_deva\n",
      "prabhu_deva\n",
      "prabhu_deva\n"
     ]
    },
    {
     "data": {
      "application/vnd.jupyter.widget-view+json": {
       "model_id": "2c2aa531fd5441e2873cd4d917e72d02",
       "version_major": 2,
       "version_minor": 0
      },
      "text/plain": [
       "Images:   0%|          | 0/45 [00:00<?, ?it/s]"
      ]
     },
     "metadata": {},
     "output_type": "display_data"
    },
    {
     "name": "stdout",
     "output_type": "stream",
     "text": [
      "prakash_raj\n",
      "prakash_raj\n",
      "prakash_raj\n",
      "prakash_raj\n",
      "prakash_raj\n",
      "prakash_raj\n",
      "prakash_raj\n",
      "prakash_raj\n",
      "prakash_raj\n",
      "prakash_raj\n",
      "prakash_raj\n",
      "prakash_raj\n",
      "prakash_raj\n",
      "prakash_raj\n",
      "prakash_raj\n",
      "prakash_raj\n",
      "prakash_raj\n",
      "prakash_raj\n",
      "prakash_raj\n",
      "prakash_raj\n",
      "prakash_raj\n",
      "prakash_raj\n",
      "prakash_raj\n",
      "prakash_raj\n",
      "prakash_raj\n",
      "prakash_raj\n",
      "prakash_raj\n",
      "prakash_raj\n",
      "prakash_raj\n",
      "prakash_raj\n",
      "prakash_raj\n",
      "prakash_raj\n",
      "prakash_raj\n",
      "prakash_raj\n",
      "prakash_raj\n",
      "prakash_raj\n",
      "prakash_raj\n"
     ]
    },
    {
     "data": {
      "application/vnd.jupyter.widget-view+json": {
       "model_id": "740d808636004d6abf0db81c592dfdde",
       "version_major": 2,
       "version_minor": 0
      },
      "text/plain": [
       "Images:   0%|          | 0/46 [00:00<?, ?it/s]"
      ]
     },
     "metadata": {},
     "output_type": "display_data"
    },
    {
     "name": "stdout",
     "output_type": "stream",
     "text": [
      "pran\n",
      "pran\n",
      "pran\n",
      "pran\n",
      "pran\n",
      "pran\n",
      "pran\n",
      "pran\n",
      "pran\n",
      "pran\n",
      "pran\n",
      "pran\n",
      "pran\n",
      "pran\n",
      "pran\n",
      "pran\n",
      "pran\n",
      "pran\n",
      "pran\n",
      "pran\n",
      "pran\n",
      "pran\n",
      "pran\n",
      "pran\n",
      "pran\n",
      "pran\n",
      "pran\n",
      "pran\n",
      "pran\n",
      "pran\n",
      "pran\n",
      "pran\n",
      "pran\n",
      "pran\n",
      "pran\n",
      "pran\n",
      "pran\n"
     ]
    },
    {
     "data": {
      "application/vnd.jupyter.widget-view+json": {
       "model_id": "8ac66d60154840c7b059c54556b98269",
       "version_major": 2,
       "version_minor": 0
      },
      "text/plain": [
       "Images:   0%|          | 0/42 [00:00<?, ?it/s]"
      ]
     },
     "metadata": {},
     "output_type": "display_data"
    },
    {
     "name": "stdout",
     "output_type": "stream",
     "text": [
      "prem_chopra\n",
      "prem_chopra\n",
      "prem_chopra\n",
      "prem_chopra\n",
      "prem_chopra\n",
      "prem_chopra\n",
      "prem_chopra\n",
      "prem_chopra\n",
      "prem_chopra\n",
      "prem_chopra\n",
      "prem_chopra\n",
      "prem_chopra\n",
      "prem_chopra\n",
      "prem_chopra\n",
      "prem_chopra\n",
      "prem_chopra\n",
      "prem_chopra\n",
      "prem_chopra\n",
      "prem_chopra\n",
      "prem_chopra\n",
      "prem_chopra\n",
      "prem_chopra\n",
      "prem_chopra\n",
      "prem_chopra\n",
      "prem_chopra\n",
      "prem_chopra\n",
      "prem_chopra\n",
      "prem_chopra\n",
      "prem_chopra\n"
     ]
    },
    {
     "data": {
      "application/vnd.jupyter.widget-view+json": {
       "model_id": "1901ba0f9eba494ea79eddd1134953e7",
       "version_major": 2,
       "version_minor": 0
      },
      "text/plain": [
       "Images:   0%|          | 0/41 [00:00<?, ?it/s]"
      ]
     },
     "metadata": {},
     "output_type": "display_data"
    },
    {
     "name": "stdout",
     "output_type": "stream",
     "text": [
      "priyanka_chopra\n",
      "priyanka_chopra\n",
      "priyanka_chopra\n",
      "priyanka_chopra\n",
      "priyanka_chopra\n",
      "priyanka_chopra\n",
      "priyanka_chopra\n",
      "priyanka_chopra\n",
      "priyanka_chopra\n",
      "priyanka_chopra\n",
      "priyanka_chopra\n",
      "priyanka_chopra\n",
      "priyanka_chopra\n",
      "priyanka_chopra\n",
      "priyanka_chopra\n",
      "priyanka_chopra\n",
      "priyanka_chopra\n",
      "priyanka_chopra\n",
      "priyanka_chopra\n",
      "priyanka_chopra\n",
      "priyanka_chopra\n",
      "priyanka_chopra\n",
      "priyanka_chopra\n",
      "priyanka_chopra\n",
      "priyanka_chopra\n",
      "priyanka_chopra\n",
      "priyanka_chopra\n",
      "priyanka_chopra\n",
      "priyanka_chopra\n",
      "priyanka_chopra\n",
      "priyanka_chopra\n",
      "priyanka_chopra\n",
      "priyanka_chopra\n",
      "priyanka_chopra\n",
      "priyanka_chopra\n",
      "priyanka_chopra\n",
      "priyanka_chopra\n",
      "priyanka_chopra\n",
      "priyanka_chopra\n",
      "priyanka_chopra\n",
      "priyanka_chopra\n"
     ]
    },
    {
     "data": {
      "application/vnd.jupyter.widget-view+json": {
       "model_id": "6c556b1d3742408f9ba96b9d170dd87f",
       "version_major": 2,
       "version_minor": 0
      },
      "text/plain": [
       "Images:   0%|          | 0/47 [00:00<?, ?it/s]"
      ]
     },
     "metadata": {},
     "output_type": "display_data"
    },
    {
     "name": "stdout",
     "output_type": "stream",
     "text": [
      "raaj_kumar\n",
      "raaj_kumar\n",
      "raaj_kumar\n",
      "raaj_kumar\n",
      "raaj_kumar\n",
      "raaj_kumar\n",
      "raaj_kumar\n",
      "raaj_kumar\n",
      "raaj_kumar\n",
      "raaj_kumar\n",
      "raaj_kumar\n",
      "raaj_kumar\n",
      "raaj_kumar\n",
      "raaj_kumar\n",
      "raaj_kumar\n",
      "raaj_kumar\n",
      "raaj_kumar\n",
      "raaj_kumar\n",
      "raaj_kumar\n",
      "raaj_kumar\n",
      "raaj_kumar\n",
      "raaj_kumar\n",
      "raaj_kumar\n",
      "raaj_kumar\n",
      "raaj_kumar\n",
      "raaj_kumar\n",
      "raaj_kumar\n",
      "raaj_kumar\n",
      "raaj_kumar\n",
      "raaj_kumar\n",
      "raaj_kumar\n",
      "raaj_kumar\n",
      "raaj_kumar\n",
      "raaj_kumar\n",
      "raaj_kumar\n",
      "raaj_kumar\n",
      "raaj_kumar\n",
      "raaj_kumar\n",
      "raaj_kumar\n"
     ]
    },
    {
     "data": {
      "application/vnd.jupyter.widget-view+json": {
       "model_id": "ea299e8bb3854a4ca5738473df95a64a",
       "version_major": 2,
       "version_minor": 0
      },
      "text/plain": [
       "Images:   0%|          | 0/46 [00:00<?, ?it/s]"
      ]
     },
     "metadata": {},
     "output_type": "display_data"
    },
    {
     "name": "stdout",
     "output_type": "stream",
     "text": [
      "radhika_apte\n",
      "radhika_apte\n",
      "radhika_apte\n",
      "radhika_apte\n",
      "radhika_apte\n",
      "radhika_apte\n",
      "radhika_apte\n",
      "radhika_apte\n",
      "radhika_apte\n",
      "radhika_apte\n",
      "radhika_apte\n",
      "radhika_apte\n",
      "radhika_apte\n",
      "radhika_apte\n",
      "radhika_apte\n",
      "radhika_apte\n",
      "radhika_apte\n",
      "radhika_apte\n",
      "radhika_apte\n",
      "radhika_apte\n",
      "radhika_apte\n",
      "radhika_apte\n",
      "radhika_apte\n",
      "radhika_apte\n",
      "radhika_apte\n",
      "radhika_apte\n",
      "radhika_apte\n",
      "radhika_apte\n",
      "radhika_apte\n",
      "radhika_apte\n",
      "radhika_apte\n",
      "radhika_apte\n",
      "radhika_apte\n",
      "radhika_apte\n",
      "radhika_apte\n",
      "radhika_apte\n",
      "radhika_apte\n",
      "radhika_apte\n",
      "radhika_apte\n",
      "radhika_apte\n",
      "radhika_apte\n",
      "radhika_apte\n",
      "radhika_apte\n"
     ]
    },
    {
     "data": {
      "application/vnd.jupyter.widget-view+json": {
       "model_id": "e4f593a8ebd249e8bf6a007cbc402486",
       "version_major": 2,
       "version_minor": 0
      },
      "text/plain": [
       "Images:   0%|          | 0/48 [00:00<?, ?it/s]"
      ]
     },
     "metadata": {},
     "output_type": "display_data"
    },
    {
     "name": "stdout",
     "output_type": "stream",
     "text": [
      "rahul_bose\n",
      "rahul_bose\n",
      "rahul_bose\n",
      "rahul_bose\n",
      "rahul_bose\n",
      "rahul_bose\n",
      "rahul_bose\n",
      "rahul_bose\n",
      "rahul_bose\n",
      "rahul_bose\n",
      "rahul_bose\n",
      "rahul_bose\n",
      "rahul_bose\n",
      "rahul_bose\n",
      "rahul_bose\n",
      "rahul_bose\n",
      "rahul_bose\n",
      "rahul_bose\n",
      "rahul_bose\n",
      "rahul_bose\n",
      "rahul_bose\n",
      "rahul_bose\n",
      "rahul_bose\n",
      "rahul_bose\n",
      "rahul_bose\n",
      "rahul_bose\n",
      "rahul_bose\n",
      "rahul_bose\n",
      "rahul_bose\n",
      "rahul_bose\n",
      "rahul_bose\n",
      "rahul_bose\n",
      "rahul_bose\n",
      "rahul_bose\n",
      "rahul_bose\n",
      "rahul_bose\n"
     ]
    },
    {
     "data": {
      "application/vnd.jupyter.widget-view+json": {
       "model_id": "0d4dd53e67f64fddb99eef6268f79de8",
       "version_major": 2,
       "version_minor": 0
      },
      "text/plain": [
       "Images:   0%|          | 0/43 [00:00<?, ?it/s]"
      ]
     },
     "metadata": {},
     "output_type": "display_data"
    },
    {
     "name": "stdout",
     "output_type": "stream",
     "text": [
      "rajat_kapoor\n",
      "rajat_kapoor\n",
      "rajat_kapoor\n",
      "rajat_kapoor\n",
      "rajat_kapoor\n",
      "rajat_kapoor\n",
      "rajat_kapoor\n",
      "rajat_kapoor\n",
      "rajat_kapoor\n",
      "rajat_kapoor\n",
      "rajat_kapoor\n",
      "rajat_kapoor\n",
      "rajat_kapoor\n",
      "rajat_kapoor\n",
      "rajat_kapoor\n",
      "rajat_kapoor\n",
      "rajat_kapoor\n",
      "rajat_kapoor\n",
      "rajat_kapoor\n",
      "rajat_kapoor\n",
      "rajat_kapoor\n",
      "rajat_kapoor\n",
      "rajat_kapoor\n",
      "rajat_kapoor\n",
      "rajat_kapoor\n",
      "rajat_kapoor\n",
      "rajat_kapoor\n",
      "rajat_kapoor\n",
      "rajat_kapoor\n",
      "rajat_kapoor\n"
     ]
    },
    {
     "data": {
      "application/vnd.jupyter.widget-view+json": {
       "model_id": "bbbe96f68a8040f6ba46df147258de47",
       "version_major": 2,
       "version_minor": 0
      },
      "text/plain": [
       "Images:   0%|          | 0/45 [00:00<?, ?it/s]"
      ]
     },
     "metadata": {},
     "output_type": "display_data"
    },
    {
     "name": "stdout",
     "output_type": "stream",
     "text": [
      "rajesh_khanna\n",
      "rajesh_khanna\n",
      "rajesh_khanna\n",
      "rajesh_khanna\n",
      "rajesh_khanna\n",
      "rajesh_khanna\n",
      "rajesh_khanna\n",
      "rajesh_khanna\n",
      "rajesh_khanna\n",
      "rajesh_khanna\n",
      "rajesh_khanna\n",
      "rajesh_khanna\n",
      "rajesh_khanna\n",
      "rajesh_khanna\n",
      "rajesh_khanna\n",
      "rajesh_khanna\n",
      "rajesh_khanna\n",
      "rajesh_khanna\n",
      "rajesh_khanna\n",
      "rajesh_khanna\n",
      "rajesh_khanna\n",
      "rajesh_khanna\n",
      "rajesh_khanna\n",
      "rajesh_khanna\n",
      "rajesh_khanna\n",
      "rajesh_khanna\n",
      "rajesh_khanna\n",
      "rajesh_khanna\n",
      "rajesh_khanna\n",
      "rajesh_khanna\n",
      "rajesh_khanna\n",
      "rajesh_khanna\n",
      "rajesh_khanna\n",
      "rajesh_khanna\n"
     ]
    },
    {
     "data": {
      "application/vnd.jupyter.widget-view+json": {
       "model_id": "8b8be2200a2948adb9d0b0a5aaa3cb8f",
       "version_major": 2,
       "version_minor": 0
      },
      "text/plain": [
       "Images:   0%|          | 0/42 [00:00<?, ?it/s]"
      ]
     },
     "metadata": {},
     "output_type": "display_data"
    },
    {
     "name": "stdout",
     "output_type": "stream",
     "text": [
      "rajinikanth\n",
      "rajinikanth\n",
      "rajinikanth\n",
      "rajinikanth\n",
      "rajinikanth\n",
      "rajinikanth\n",
      "rajinikanth\n",
      "rajinikanth\n",
      "rajinikanth\n",
      "rajinikanth\n",
      "rajinikanth\n",
      "rajinikanth\n",
      "rajinikanth\n",
      "rajinikanth\n",
      "rajinikanth\n",
      "rajinikanth\n",
      "rajinikanth\n",
      "rajinikanth\n",
      "rajinikanth\n",
      "rajinikanth\n",
      "rajinikanth\n",
      "rajinikanth\n"
     ]
    },
    {
     "data": {
      "application/vnd.jupyter.widget-view+json": {
       "model_id": "28b365d936974f7487517fc96bc24fd7",
       "version_major": 2,
       "version_minor": 0
      },
      "text/plain": [
       "Images:   0%|          | 0/38 [00:00<?, ?it/s]"
      ]
     },
     "metadata": {},
     "output_type": "display_data"
    },
    {
     "name": "stdout",
     "output_type": "stream",
     "text": [
      "rajit_kapoor\n",
      "rajit_kapoor\n",
      "rajit_kapoor\n",
      "rajit_kapoor\n",
      "rajit_kapoor\n",
      "rajit_kapoor\n",
      "rajit_kapoor\n",
      "rajit_kapoor\n",
      "rajit_kapoor\n",
      "rajit_kapoor\n",
      "rajit_kapoor\n",
      "rajit_kapoor\n",
      "rajit_kapoor\n",
      "rajit_kapoor\n",
      "rajit_kapoor\n",
      "rajit_kapoor\n",
      "rajit_kapoor\n",
      "rajit_kapoor\n",
      "rajit_kapoor\n",
      "rajit_kapoor\n",
      "rajit_kapoor\n",
      "rajit_kapoor\n",
      "rajit_kapoor\n",
      "rajit_kapoor\n"
     ]
    },
    {
     "data": {
      "application/vnd.jupyter.widget-view+json": {
       "model_id": "5452422ee56b4ca19fa37b64f4c430e5",
       "version_major": 2,
       "version_minor": 0
      },
      "text/plain": [
       "Images:   0%|          | 0/49 [00:00<?, ?it/s]"
      ]
     },
     "metadata": {},
     "output_type": "display_data"
    },
    {
     "name": "stdout",
     "output_type": "stream",
     "text": [
      "rajkummar_rao\n",
      "rajkummar_rao\n",
      "rajkummar_rao\n",
      "rajkummar_rao\n",
      "rajkummar_rao\n",
      "rajkummar_rao\n",
      "rajkummar_rao\n",
      "rajkummar_rao\n",
      "rajkummar_rao\n",
      "rajkummar_rao\n",
      "rajkummar_rao\n",
      "rajkummar_rao\n",
      "rajkummar_rao\n",
      "rajkummar_rao\n",
      "rajkummar_rao\n",
      "rajkummar_rao\n",
      "rajkummar_rao\n",
      "rajkummar_rao\n",
      "rajkummar_rao\n",
      "rajkummar_rao\n",
      "rajkummar_rao\n",
      "rajkummar_rao\n",
      "rajkummar_rao\n",
      "rajkummar_rao\n",
      "rajkummar_rao\n",
      "rajkummar_rao\n",
      "rajkummar_rao\n",
      "rajkummar_rao\n",
      "rajkummar_rao\n",
      "rajkummar_rao\n",
      "rajkummar_rao\n",
      "rajkummar_rao\n",
      "rajkummar_rao\n"
     ]
    },
    {
     "data": {
      "application/vnd.jupyter.widget-view+json": {
       "model_id": "9176761027fd41feb5ad03ce65146332",
       "version_major": 2,
       "version_minor": 0
      },
      "text/plain": [
       "Images:   0%|          | 0/47 [00:00<?, ?it/s]"
      ]
     },
     "metadata": {},
     "output_type": "display_data"
    },
    {
     "name": "stdout",
     "output_type": "stream",
     "text": [
      "rajpal_yadav\n",
      "rajpal_yadav\n",
      "rajpal_yadav\n",
      "rajpal_yadav\n",
      "rajpal_yadav\n",
      "rajpal_yadav\n",
      "rajpal_yadav\n",
      "rajpal_yadav\n",
      "rajpal_yadav\n",
      "rajpal_yadav\n",
      "rajpal_yadav\n",
      "rajpal_yadav\n",
      "rajpal_yadav\n",
      "rajpal_yadav\n",
      "rajpal_yadav\n",
      "rajpal_yadav\n",
      "rajpal_yadav\n",
      "rajpal_yadav\n",
      "rajpal_yadav\n",
      "rajpal_yadav\n",
      "rajpal_yadav\n",
      "rajpal_yadav\n",
      "rajpal_yadav\n",
      "rajpal_yadav\n",
      "rajpal_yadav\n",
      "rajpal_yadav\n",
      "rajpal_yadav\n",
      "rajpal_yadav\n",
      "rajpal_yadav\n",
      "rajpal_yadav\n",
      "rajpal_yadav\n",
      "rajpal_yadav\n",
      "rajpal_yadav\n",
      "rajpal_yadav\n",
      "rajpal_yadav\n",
      "rajpal_yadav\n",
      "rajpal_yadav\n",
      "rajpal_yadav\n",
      "rajpal_yadav\n"
     ]
    },
    {
     "data": {
      "application/vnd.jupyter.widget-view+json": {
       "model_id": "757ddfbb8edd4a099b71f9f2baccb85d",
       "version_major": 2,
       "version_minor": 0
      },
      "text/plain": [
       "Images:   0%|          | 0/46 [00:00<?, ?it/s]"
      ]
     },
     "metadata": {},
     "output_type": "display_data"
    },
    {
     "name": "stdout",
     "output_type": "stream",
     "text": [
      "raj_babbar\n",
      "raj_babbar\n",
      "raj_babbar\n",
      "raj_babbar\n",
      "raj_babbar\n",
      "raj_babbar\n",
      "raj_babbar\n",
      "raj_babbar\n",
      "raj_babbar\n",
      "raj_babbar\n",
      "raj_babbar\n",
      "raj_babbar\n",
      "raj_babbar\n",
      "raj_babbar\n",
      "raj_babbar\n",
      "raj_babbar\n",
      "raj_babbar\n",
      "raj_babbar\n",
      "raj_babbar\n",
      "raj_babbar\n",
      "raj_babbar\n",
      "raj_babbar\n",
      "raj_babbar\n",
      "raj_babbar\n",
      "raj_babbar\n",
      "raj_babbar\n",
      "raj_babbar\n",
      "raj_babbar\n",
      "raj_babbar\n",
      "raj_babbar\n",
      "raj_babbar\n",
      "raj_babbar\n",
      "raj_babbar\n",
      "raj_babbar\n",
      "raj_babbar\n",
      "raj_babbar\n",
      "raj_babbar\n",
      "raj_babbar\n",
      "raj_babbar\n",
      "raj_babbar\n",
      "raj_babbar\n",
      "raj_babbar\n",
      "raj_babbar\n",
      "raj_babbar\n"
     ]
    },
    {
     "data": {
      "application/vnd.jupyter.widget-view+json": {
       "model_id": "f49491f980554a1f8cf64556622fea13",
       "version_major": 2,
       "version_minor": 0
      },
      "text/plain": [
       "Images:   0%|          | 0/45 [00:00<?, ?it/s]"
      ]
     },
     "metadata": {},
     "output_type": "display_data"
    },
    {
     "name": "stdout",
     "output_type": "stream",
     "text": [
      "raj_kapoor\n",
      "raj_kapoor\n",
      "raj_kapoor\n",
      "raj_kapoor\n",
      "raj_kapoor\n",
      "raj_kapoor\n",
      "raj_kapoor\n",
      "raj_kapoor\n",
      "raj_kapoor\n",
      "raj_kapoor\n",
      "raj_kapoor\n",
      "raj_kapoor\n",
      "raj_kapoor\n",
      "raj_kapoor\n",
      "raj_kapoor\n",
      "raj_kapoor\n",
      "raj_kapoor\n",
      "raj_kapoor\n",
      "raj_kapoor\n",
      "raj_kapoor\n",
      "raj_kapoor\n",
      "raj_kapoor\n",
      "raj_kapoor\n",
      "raj_kapoor\n",
      "raj_kapoor\n",
      "raj_kapoor\n",
      "raj_kapoor\n",
      "raj_kapoor\n",
      "raj_kapoor\n",
      "raj_kapoor\n",
      "raj_kapoor\n",
      "raj_kapoor\n",
      "raj_kapoor\n",
      "raj_kapoor\n",
      "raj_kapoor\n",
      "raj_kapoor\n",
      "raj_kapoor\n",
      "raj_kapoor\n",
      "raj_kapoor\n",
      "raj_kapoor\n"
     ]
    },
    {
     "data": {
      "application/vnd.jupyter.widget-view+json": {
       "model_id": "05653d63e24b4cd79b4c1465fce73d91",
       "version_major": 2,
       "version_minor": 0
      },
      "text/plain": [
       "Images:   0%|          | 0/44 [00:00<?, ?it/s]"
      ]
     },
     "metadata": {},
     "output_type": "display_data"
    },
    {
     "name": "stdout",
     "output_type": "stream",
     "text": [
      "rakhee_gulzar\n",
      "rakhee_gulzar\n",
      "rakhee_gulzar\n",
      "rakhee_gulzar\n",
      "rakhee_gulzar\n",
      "rakhee_gulzar\n",
      "rakhee_gulzar\n",
      "rakhee_gulzar\n",
      "rakhee_gulzar\n",
      "rakhee_gulzar\n",
      "rakhee_gulzar\n",
      "rakhee_gulzar\n",
      "rakhee_gulzar\n",
      "rakhee_gulzar\n",
      "rakhee_gulzar\n",
      "rakhee_gulzar\n",
      "rakhee_gulzar\n",
      "rakhee_gulzar\n",
      "rakhee_gulzar\n",
      "rakhee_gulzar\n",
      "rakhee_gulzar\n",
      "rakhee_gulzar\n",
      "rakhee_gulzar\n",
      "rakhee_gulzar\n",
      "rakhee_gulzar\n",
      "rakhee_gulzar\n",
      "rakhee_gulzar\n",
      "rakhee_gulzar\n",
      "rakhee_gulzar\n",
      "rakhee_gulzar\n",
      "rakhee_gulzar\n",
      "rakhee_gulzar\n",
      "rakhee_gulzar\n",
      "rakhee_gulzar\n",
      "rakhee_gulzar\n",
      "rakhee_gulzar\n",
      "rakhee_gulzar\n",
      "rakhee_gulzar\n",
      "rakhee_gulzar\n",
      "rakhee_gulzar\n"
     ]
    },
    {
     "data": {
      "application/vnd.jupyter.widget-view+json": {
       "model_id": "638031c6c5c34979a0f6beebf5fbeb37",
       "version_major": 2,
       "version_minor": 0
      },
      "text/plain": [
       "Images:   0%|          | 0/40 [00:00<?, ?it/s]"
      ]
     },
     "metadata": {},
     "output_type": "display_data"
    },
    {
     "name": "stdout",
     "output_type": "stream",
     "text": [
      "ramya_krishnan\n",
      "ramya_krishnan\n",
      "ramya_krishnan\n",
      "ramya_krishnan\n",
      "ramya_krishnan\n",
      "ramya_krishnan\n",
      "ramya_krishnan\n",
      "ramya_krishnan\n",
      "ramya_krishnan\n",
      "ramya_krishnan\n",
      "ramya_krishnan\n",
      "ramya_krishnan\n",
      "ramya_krishnan\n",
      "ramya_krishnan\n",
      "ramya_krishnan\n",
      "ramya_krishnan\n",
      "ramya_krishnan\n",
      "ramya_krishnan\n",
      "ramya_krishnan\n",
      "ramya_krishnan\n",
      "ramya_krishnan\n",
      "ramya_krishnan\n",
      "ramya_krishnan\n",
      "ramya_krishnan\n",
      "ramya_krishnan\n",
      "ramya_krishnan\n",
      "ramya_krishnan\n",
      "ramya_krishnan\n",
      "ramya_krishnan\n",
      "ramya_krishnan\n",
      "ramya_krishnan\n",
      "ramya_krishnan\n",
      "ramya_krishnan\n",
      "ramya_krishnan\n",
      "ramya_krishnan\n",
      "ramya_krishnan\n"
     ]
    },
    {
     "data": {
      "application/vnd.jupyter.widget-view+json": {
       "model_id": "e2103b14ea2245a0ab54426cdf2e9883",
       "version_major": 2,
       "version_minor": 0
      },
      "text/plain": [
       "Images:   0%|          | 0/47 [00:00<?, ?it/s]"
      ]
     },
     "metadata": {},
     "output_type": "display_data"
    },
    {
     "name": "stdout",
     "output_type": "stream",
     "text": [
      "ranbir_kapoor\n",
      "ranbir_kapoor\n",
      "ranbir_kapoor\n",
      "ranbir_kapoor\n",
      "ranbir_kapoor\n",
      "ranbir_kapoor\n",
      "ranbir_kapoor\n",
      "ranbir_kapoor\n",
      "ranbir_kapoor\n",
      "ranbir_kapoor\n",
      "ranbir_kapoor\n",
      "ranbir_kapoor\n",
      "ranbir_kapoor\n",
      "ranbir_kapoor\n",
      "ranbir_kapoor\n",
      "ranbir_kapoor\n",
      "ranbir_kapoor\n",
      "ranbir_kapoor\n",
      "ranbir_kapoor\n",
      "ranbir_kapoor\n",
      "ranbir_kapoor\n",
      "ranbir_kapoor\n",
      "ranbir_kapoor\n",
      "ranbir_kapoor\n",
      "ranbir_kapoor\n",
      "ranbir_kapoor\n",
      "ranbir_kapoor\n",
      "ranbir_kapoor\n",
      "ranbir_kapoor\n",
      "ranbir_kapoor\n",
      "ranbir_kapoor\n",
      "ranbir_kapoor\n",
      "ranbir_kapoor\n",
      "ranbir_kapoor\n",
      "ranbir_kapoor\n",
      "ranbir_kapoor\n",
      "ranbir_kapoor\n",
      "ranbir_kapoor\n",
      "ranbir_kapoor\n"
     ]
    },
    {
     "data": {
      "application/vnd.jupyter.widget-view+json": {
       "model_id": "92560d181d6547279bc0bdfbd3549e4b",
       "version_major": 2,
       "version_minor": 0
      },
      "text/plain": [
       "Images:   0%|          | 0/46 [00:00<?, ?it/s]"
      ]
     },
     "metadata": {},
     "output_type": "display_data"
    },
    {
     "name": "stdout",
     "output_type": "stream",
     "text": [
      "randeep_hooda\n",
      "randeep_hooda\n",
      "randeep_hooda\n",
      "randeep_hooda\n",
      "randeep_hooda\n",
      "randeep_hooda\n",
      "randeep_hooda\n",
      "randeep_hooda\n",
      "randeep_hooda\n",
      "randeep_hooda\n",
      "randeep_hooda\n",
      "randeep_hooda\n",
      "randeep_hooda\n",
      "randeep_hooda\n",
      "randeep_hooda\n",
      "randeep_hooda\n",
      "randeep_hooda\n",
      "randeep_hooda\n",
      "randeep_hooda\n",
      "randeep_hooda\n",
      "randeep_hooda\n",
      "randeep_hooda\n",
      "randeep_hooda\n",
      "randeep_hooda\n",
      "randeep_hooda\n",
      "randeep_hooda\n",
      "randeep_hooda\n",
      "randeep_hooda\n",
      "randeep_hooda\n",
      "randeep_hooda\n",
      "randeep_hooda\n",
      "randeep_hooda\n",
      "randeep_hooda\n",
      "randeep_hooda\n"
     ]
    },
    {
     "data": {
      "application/vnd.jupyter.widget-view+json": {
       "model_id": "64a12ebe768446f3afe6e37281cd265b",
       "version_major": 2,
       "version_minor": 0
      },
      "text/plain": [
       "Images:   0%|          | 0/44 [00:00<?, ?it/s]"
      ]
     },
     "metadata": {},
     "output_type": "display_data"
    },
    {
     "name": "stdout",
     "output_type": "stream",
     "text": [
      "rani_mukerji\n",
      "rani_mukerji\n",
      "rani_mukerji\n",
      "rani_mukerji\n",
      "rani_mukerji\n",
      "rani_mukerji\n",
      "rani_mukerji\n",
      "rani_mukerji\n",
      "rani_mukerji\n",
      "rani_mukerji\n",
      "rani_mukerji\n",
      "rani_mukerji\n",
      "rani_mukerji\n",
      "rani_mukerji\n",
      "rani_mukerji\n",
      "rani_mukerji\n",
      "rani_mukerji\n",
      "rani_mukerji\n",
      "rani_mukerji\n",
      "rani_mukerji\n",
      "rani_mukerji\n",
      "rani_mukerji\n",
      "rani_mukerji\n",
      "rani_mukerji\n",
      "rani_mukerji\n",
      "rani_mukerji\n",
      "rani_mukerji\n",
      "rani_mukerji\n",
      "rani_mukerji\n",
      "rani_mukerji\n",
      "rani_mukerji\n",
      "rani_mukerji\n",
      "rani_mukerji\n",
      "rani_mukerji\n",
      "rani_mukerji\n",
      "rani_mukerji\n",
      "rani_mukerji\n",
      "rani_mukerji\n",
      "rani_mukerji\n",
      "rani_mukerji\n",
      "rani_mukerji\n",
      "rani_mukerji\n"
     ]
    },
    {
     "data": {
      "application/vnd.jupyter.widget-view+json": {
       "model_id": "ddce7870bb334d93b1f58d3191c4073b",
       "version_major": 2,
       "version_minor": 0
      },
      "text/plain": [
       "Images:   0%|          | 0/45 [00:00<?, ?it/s]"
      ]
     },
     "metadata": {},
     "output_type": "display_data"
    },
    {
     "name": "stdout",
     "output_type": "stream",
     "text": [
      "ranveer_singh\n",
      "ranveer_singh\n",
      "ranveer_singh\n",
      "ranveer_singh\n",
      "ranveer_singh\n",
      "ranveer_singh\n",
      "ranveer_singh\n",
      "ranveer_singh\n",
      "ranveer_singh\n",
      "ranveer_singh\n",
      "ranveer_singh\n",
      "ranveer_singh\n",
      "ranveer_singh\n",
      "ranveer_singh\n",
      "ranveer_singh\n",
      "ranveer_singh\n",
      "ranveer_singh\n",
      "ranveer_singh\n",
      "ranveer_singh\n",
      "ranveer_singh\n",
      "ranveer_singh\n",
      "ranveer_singh\n",
      "ranveer_singh\n",
      "ranveer_singh\n",
      "ranveer_singh\n",
      "ranveer_singh\n",
      "ranveer_singh\n",
      "ranveer_singh\n",
      "ranveer_singh\n",
      "ranveer_singh\n",
      "ranveer_singh\n",
      "ranveer_singh\n",
      "ranveer_singh\n",
      "ranveer_singh\n"
     ]
    },
    {
     "data": {
      "application/vnd.jupyter.widget-view+json": {
       "model_id": "a92a9403f3a54023a1fa1e63dbd96f3a",
       "version_major": 2,
       "version_minor": 0
      },
      "text/plain": [
       "Images:   0%|          | 0/45 [00:00<?, ?it/s]"
      ]
     },
     "metadata": {},
     "output_type": "display_data"
    },
    {
     "name": "stdout",
     "output_type": "stream",
     "text": [
      "ranvir_shorey\n",
      "ranvir_shorey\n",
      "ranvir_shorey\n",
      "ranvir_shorey\n",
      "ranvir_shorey\n",
      "ranvir_shorey\n",
      "ranvir_shorey\n",
      "ranvir_shorey\n",
      "ranvir_shorey\n",
      "ranvir_shorey\n",
      "ranvir_shorey\n",
      "ranvir_shorey\n",
      "ranvir_shorey\n",
      "ranvir_shorey\n",
      "ranvir_shorey\n",
      "ranvir_shorey\n",
      "ranvir_shorey\n",
      "ranvir_shorey\n",
      "ranvir_shorey\n",
      "ranvir_shorey\n",
      "ranvir_shorey\n",
      "ranvir_shorey\n",
      "ranvir_shorey\n",
      "ranvir_shorey\n",
      "ranvir_shorey\n",
      "ranvir_shorey\n",
      "ranvir_shorey\n",
      "ranvir_shorey\n",
      "ranvir_shorey\n",
      "ranvir_shorey\n",
      "ranvir_shorey\n",
      "ranvir_shorey\n",
      "ranvir_shorey\n",
      "ranvir_shorey\n",
      "ranvir_shorey\n"
     ]
    },
    {
     "data": {
      "application/vnd.jupyter.widget-view+json": {
       "model_id": "932c83f7888847b1ab2e82a8a222d2db",
       "version_major": 2,
       "version_minor": 0
      },
      "text/plain": [
       "Images:   0%|          | 0/42 [00:00<?, ?it/s]"
      ]
     },
     "metadata": {},
     "output_type": "display_data"
    },
    {
     "name": "stdout",
     "output_type": "stream",
     "text": [
      "ratna_pathak_shah\n",
      "ratna_pathak_shah\n",
      "ratna_pathak_shah\n",
      "ratna_pathak_shah\n",
      "ratna_pathak_shah\n",
      "ratna_pathak_shah\n",
      "ratna_pathak_shah\n",
      "ratna_pathak_shah\n",
      "ratna_pathak_shah\n",
      "ratna_pathak_shah\n",
      "ratna_pathak_shah\n",
      "ratna_pathak_shah\n",
      "ratna_pathak_shah\n",
      "ratna_pathak_shah\n",
      "ratna_pathak_shah\n",
      "ratna_pathak_shah\n",
      "ratna_pathak_shah\n",
      "ratna_pathak_shah\n",
      "ratna_pathak_shah\n",
      "ratna_pathak_shah\n",
      "ratna_pathak_shah\n",
      "ratna_pathak_shah\n",
      "ratna_pathak_shah\n",
      "ratna_pathak_shah\n",
      "ratna_pathak_shah\n",
      "ratna_pathak_shah\n",
      "ratna_pathak_shah\n",
      "ratna_pathak_shah\n",
      "ratna_pathak_shah\n",
      "ratna_pathak_shah\n",
      "ratna_pathak_shah\n",
      "ratna_pathak_shah\n",
      "ratna_pathak_shah\n",
      "ratna_pathak_shah\n",
      "ratna_pathak_shah\n"
     ]
    },
    {
     "data": {
      "application/vnd.jupyter.widget-view+json": {
       "model_id": "d10a9350c3fd4963ba5cba308abe541a",
       "version_major": 2,
       "version_minor": 0
      },
      "text/plain": [
       "Images:   0%|          | 0/37 [00:00<?, ?it/s]"
      ]
     },
     "metadata": {},
     "output_type": "display_data"
    },
    {
     "name": "stdout",
     "output_type": "stream",
     "text": [
      "rekha\n",
      "rekha\n",
      "rekha\n",
      "rekha\n",
      "rekha\n",
      "rekha\n",
      "rekha\n",
      "rekha\n",
      "rekha\n",
      "rekha\n",
      "rekha\n",
      "rekha\n",
      "rekha\n",
      "rekha\n",
      "rekha\n",
      "rekha\n",
      "rekha\n",
      "rekha\n",
      "rekha\n",
      "rekha\n",
      "rekha\n",
      "rekha\n",
      "rekha\n",
      "rekha\n",
      "rekha\n",
      "rekha\n",
      "rekha\n"
     ]
    },
    {
     "data": {
      "application/vnd.jupyter.widget-view+json": {
       "model_id": "67f9f9c6d51141fcb45a40a6aa960d74",
       "version_major": 2,
       "version_minor": 0
      },
      "text/plain": [
       "Images:   0%|          | 0/47 [00:00<?, ?it/s]"
      ]
     },
     "metadata": {},
     "output_type": "display_data"
    },
    {
     "name": "stdout",
     "output_type": "stream",
     "text": [
      "richa_chadha\n",
      "richa_chadha\n",
      "richa_chadha\n",
      "richa_chadha\n",
      "richa_chadha\n",
      "richa_chadha\n",
      "richa_chadha\n",
      "richa_chadha\n",
      "richa_chadha\n",
      "richa_chadha\n",
      "richa_chadha\n",
      "richa_chadha\n",
      "richa_chadha\n",
      "richa_chadha\n",
      "richa_chadha\n",
      "richa_chadha\n",
      "richa_chadha\n",
      "richa_chadha\n",
      "richa_chadha\n",
      "richa_chadha\n",
      "richa_chadha\n",
      "richa_chadha\n",
      "richa_chadha\n",
      "richa_chadha\n",
      "richa_chadha\n",
      "richa_chadha\n",
      "richa_chadha\n",
      "richa_chadha\n",
      "richa_chadha\n",
      "richa_chadha\n",
      "richa_chadha\n",
      "richa_chadha\n",
      "richa_chadha\n",
      "richa_chadha\n",
      "richa_chadha\n",
      "richa_chadha\n",
      "richa_chadha\n",
      "richa_chadha\n",
      "richa_chadha\n",
      "richa_chadha\n"
     ]
    },
    {
     "data": {
      "application/vnd.jupyter.widget-view+json": {
       "model_id": "e0731d56d8774115b715417843599d1a",
       "version_major": 2,
       "version_minor": 0
      },
      "text/plain": [
       "Images:   0%|          | 0/43 [00:00<?, ?it/s]"
      ]
     },
     "metadata": {},
     "output_type": "display_data"
    },
    {
     "name": "stdout",
     "output_type": "stream",
     "text": [
      "rishi_kapoor\n",
      "rishi_kapoor\n",
      "rishi_kapoor\n",
      "rishi_kapoor\n",
      "rishi_kapoor\n",
      "rishi_kapoor\n",
      "rishi_kapoor\n",
      "rishi_kapoor\n",
      "rishi_kapoor\n",
      "rishi_kapoor\n",
      "rishi_kapoor\n",
      "rishi_kapoor\n",
      "rishi_kapoor\n",
      "rishi_kapoor\n",
      "rishi_kapoor\n",
      "rishi_kapoor\n",
      "rishi_kapoor\n",
      "rishi_kapoor\n",
      "rishi_kapoor\n",
      "rishi_kapoor\n",
      "rishi_kapoor\n",
      "rishi_kapoor\n",
      "rishi_kapoor\n",
      "rishi_kapoor\n",
      "rishi_kapoor\n",
      "rishi_kapoor\n",
      "rishi_kapoor\n",
      "rishi_kapoor\n",
      "rishi_kapoor\n",
      "rishi_kapoor\n",
      "rishi_kapoor\n",
      "rishi_kapoor\n",
      "rishi_kapoor\n",
      "rishi_kapoor\n",
      "rishi_kapoor\n",
      "rishi_kapoor\n"
     ]
    },
    {
     "data": {
      "application/vnd.jupyter.widget-view+json": {
       "model_id": "9af0ebc3b0ad45878f5be9b1630017ca",
       "version_major": 2,
       "version_minor": 0
      },
      "text/plain": [
       "Images:   0%|          | 0/48 [00:00<?, ?it/s]"
      ]
     },
     "metadata": {},
     "output_type": "display_data"
    },
    {
     "name": "stdout",
     "output_type": "stream",
     "text": [
      "riteish_deshmukh\n",
      "riteish_deshmukh\n",
      "riteish_deshmukh\n",
      "riteish_deshmukh\n",
      "riteish_deshmukh\n",
      "riteish_deshmukh\n",
      "riteish_deshmukh\n",
      "riteish_deshmukh\n",
      "riteish_deshmukh\n",
      "riteish_deshmukh\n",
      "riteish_deshmukh\n",
      "riteish_deshmukh\n",
      "riteish_deshmukh\n",
      "riteish_deshmukh\n",
      "riteish_deshmukh\n",
      "riteish_deshmukh\n",
      "riteish_deshmukh\n",
      "riteish_deshmukh\n",
      "riteish_deshmukh\n",
      "riteish_deshmukh\n",
      "riteish_deshmukh\n",
      "riteish_deshmukh\n",
      "riteish_deshmukh\n",
      "riteish_deshmukh\n",
      "riteish_deshmukh\n",
      "riteish_deshmukh\n",
      "riteish_deshmukh\n",
      "riteish_deshmukh\n",
      "riteish_deshmukh\n",
      "riteish_deshmukh\n",
      "riteish_deshmukh\n",
      "riteish_deshmukh\n",
      "riteish_deshmukh\n",
      "riteish_deshmukh\n",
      "riteish_deshmukh\n",
      "riteish_deshmukh\n"
     ]
    },
    {
     "data": {
      "application/vnd.jupyter.widget-view+json": {
       "model_id": "0346cd9b614c4ec9b575b19a612650ba",
       "version_major": 2,
       "version_minor": 0
      },
      "text/plain": [
       "Images:   0%|          | 0/47 [00:00<?, ?it/s]"
      ]
     },
     "metadata": {},
     "output_type": "display_data"
    },
    {
     "name": "stdout",
     "output_type": "stream",
     "text": [
      "sachin_khedekar\n",
      "sachin_khedekar\n",
      "sachin_khedekar\n",
      "sachin_khedekar\n",
      "sachin_khedekar\n",
      "sachin_khedekar\n",
      "sachin_khedekar\n",
      "sachin_khedekar\n",
      "sachin_khedekar\n",
      "sachin_khedekar\n",
      "sachin_khedekar\n",
      "sachin_khedekar\n",
      "sachin_khedekar\n",
      "sachin_khedekar\n",
      "sachin_khedekar\n",
      "sachin_khedekar\n",
      "sachin_khedekar\n",
      "sachin_khedekar\n",
      "sachin_khedekar\n",
      "sachin_khedekar\n",
      "sachin_khedekar\n",
      "sachin_khedekar\n",
      "sachin_khedekar\n",
      "sachin_khedekar\n",
      "sachin_khedekar\n",
      "sachin_khedekar\n",
      "sachin_khedekar\n",
      "sachin_khedekar\n",
      "sachin_khedekar\n",
      "sachin_khedekar\n",
      "sachin_khedekar\n",
      "sachin_khedekar\n",
      "sachin_khedekar\n",
      "sachin_khedekar\n",
      "sachin_khedekar\n",
      "sachin_khedekar\n",
      "sachin_khedekar\n",
      "sachin_khedekar\n",
      "sachin_khedekar\n",
      "sachin_khedekar\n"
     ]
    },
    {
     "data": {
      "application/vnd.jupyter.widget-view+json": {
       "model_id": "5539adfa4585476c9476784b153e1d0c",
       "version_major": 2,
       "version_minor": 0
      },
      "text/plain": [
       "Images:   0%|          | 0/41 [00:00<?, ?it/s]"
      ]
     },
     "metadata": {},
     "output_type": "display_data"
    },
    {
     "name": "stdout",
     "output_type": "stream",
     "text": [
      "saeed_jaffrey\n",
      "saeed_jaffrey\n",
      "saeed_jaffrey\n",
      "saeed_jaffrey\n",
      "saeed_jaffrey\n",
      "saeed_jaffrey\n",
      "saeed_jaffrey\n",
      "saeed_jaffrey\n",
      "saeed_jaffrey\n",
      "saeed_jaffrey\n",
      "saeed_jaffrey\n",
      "saeed_jaffrey\n",
      "saeed_jaffrey\n",
      "saeed_jaffrey\n",
      "saeed_jaffrey\n",
      "saeed_jaffrey\n",
      "saeed_jaffrey\n",
      "saeed_jaffrey\n",
      "saeed_jaffrey\n",
      "saeed_jaffrey\n",
      "saeed_jaffrey\n",
      "saeed_jaffrey\n",
      "saeed_jaffrey\n",
      "saeed_jaffrey\n",
      "saeed_jaffrey\n",
      "saeed_jaffrey\n",
      "saeed_jaffrey\n",
      "saeed_jaffrey\n",
      "saeed_jaffrey\n",
      "saeed_jaffrey\n",
      "saeed_jaffrey\n",
      "saeed_jaffrey\n",
      "saeed_jaffrey\n",
      "saeed_jaffrey\n",
      "saeed_jaffrey\n"
     ]
    },
    {
     "data": {
      "application/vnd.jupyter.widget-view+json": {
       "model_id": "97cd00a26cec449591bb96dfddda7d59",
       "version_major": 2,
       "version_minor": 0
      },
      "text/plain": [
       "Images:   0%|          | 0/44 [00:00<?, ?it/s]"
      ]
     },
     "metadata": {},
     "output_type": "display_data"
    },
    {
     "name": "stdout",
     "output_type": "stream",
     "text": [
      "saif_ali_khan\n",
      "saif_ali_khan\n",
      "saif_ali_khan\n",
      "saif_ali_khan\n",
      "saif_ali_khan\n",
      "saif_ali_khan\n",
      "saif_ali_khan\n",
      "saif_ali_khan\n",
      "saif_ali_khan\n",
      "saif_ali_khan\n",
      "saif_ali_khan\n",
      "saif_ali_khan\n",
      "saif_ali_khan\n",
      "saif_ali_khan\n",
      "saif_ali_khan\n",
      "saif_ali_khan\n",
      "saif_ali_khan\n",
      "saif_ali_khan\n",
      "saif_ali_khan\n",
      "saif_ali_khan\n",
      "saif_ali_khan\n",
      "saif_ali_khan\n",
      "saif_ali_khan\n",
      "saif_ali_khan\n",
      "saif_ali_khan\n",
      "saif_ali_khan\n",
      "saif_ali_khan\n",
      "saif_ali_khan\n",
      "saif_ali_khan\n",
      "saif_ali_khan\n",
      "saif_ali_khan\n",
      "saif_ali_khan\n",
      "saif_ali_khan\n",
      "saif_ali_khan\n",
      "saif_ali_khan\n",
      "saif_ali_khan\n",
      "saif_ali_khan\n",
      "saif_ali_khan\n",
      "saif_ali_khan\n"
     ]
    },
    {
     "data": {
      "application/vnd.jupyter.widget-view+json": {
       "model_id": "ec4ba004d1fa4104b0a99438e8a040e4",
       "version_major": 2,
       "version_minor": 0
      },
      "text/plain": [
       "Images:   0%|          | 0/48 [00:00<?, ?it/s]"
      ]
     },
     "metadata": {},
     "output_type": "display_data"
    },
    {
     "name": "stdout",
     "output_type": "stream",
     "text": [
      "salman_khan\n",
      "salman_khan\n",
      "salman_khan\n",
      "salman_khan\n",
      "salman_khan\n",
      "salman_khan\n",
      "salman_khan\n",
      "salman_khan\n",
      "salman_khan\n",
      "salman_khan\n",
      "salman_khan\n",
      "salman_khan\n",
      "salman_khan\n",
      "salman_khan\n",
      "salman_khan\n",
      "salman_khan\n",
      "salman_khan\n",
      "salman_khan\n",
      "salman_khan\n",
      "salman_khan\n",
      "salman_khan\n",
      "salman_khan\n",
      "salman_khan\n",
      "salman_khan\n",
      "salman_khan\n",
      "salman_khan\n",
      "salman_khan\n",
      "salman_khan\n",
      "salman_khan\n",
      "salman_khan\n",
      "salman_khan\n",
      "salman_khan\n",
      "salman_khan\n",
      "salman_khan\n",
      "salman_khan\n",
      "salman_khan\n",
      "salman_khan\n",
      "salman_khan\n",
      "salman_khan\n"
     ]
    },
    {
     "data": {
      "application/vnd.jupyter.widget-view+json": {
       "model_id": "f67ad70bda1e44c58be32df2868dd1c1",
       "version_major": 2,
       "version_minor": 0
      },
      "text/plain": [
       "Images:   0%|          | 0/47 [00:00<?, ?it/s]"
      ]
     },
     "metadata": {},
     "output_type": "display_data"
    },
    {
     "name": "stdout",
     "output_type": "stream",
     "text": [
      "sanjay_dutt\n",
      "sanjay_dutt\n",
      "sanjay_dutt\n",
      "sanjay_dutt\n",
      "sanjay_dutt\n",
      "sanjay_dutt\n",
      "sanjay_dutt\n",
      "sanjay_dutt\n",
      "sanjay_dutt\n",
      "sanjay_dutt\n",
      "sanjay_dutt\n",
      "sanjay_dutt\n",
      "sanjay_dutt\n",
      "sanjay_dutt\n",
      "sanjay_dutt\n",
      "sanjay_dutt\n",
      "sanjay_dutt\n",
      "sanjay_dutt\n",
      "sanjay_dutt\n",
      "sanjay_dutt\n",
      "sanjay_dutt\n",
      "sanjay_dutt\n",
      "sanjay_dutt\n",
      "sanjay_dutt\n",
      "sanjay_dutt\n",
      "sanjay_dutt\n",
      "sanjay_dutt\n",
      "sanjay_dutt\n",
      "sanjay_dutt\n",
      "sanjay_dutt\n"
     ]
    },
    {
     "data": {
      "application/vnd.jupyter.widget-view+json": {
       "model_id": "0b2d6afd8fb94783ad828d1950095c75",
       "version_major": 2,
       "version_minor": 0
      },
      "text/plain": [
       "Images:   0%|          | 0/43 [00:00<?, ?it/s]"
      ]
     },
     "metadata": {},
     "output_type": "display_data"
    },
    {
     "name": "stdout",
     "output_type": "stream",
     "text": [
      "sanjay_mishra\n",
      "sanjay_mishra\n",
      "sanjay_mishra\n",
      "sanjay_mishra\n",
      "sanjay_mishra\n",
      "sanjay_mishra\n",
      "sanjay_mishra\n",
      "sanjay_mishra\n",
      "sanjay_mishra\n",
      "sanjay_mishra\n",
      "sanjay_mishra\n",
      "sanjay_mishra\n",
      "sanjay_mishra\n",
      "sanjay_mishra\n",
      "sanjay_mishra\n",
      "sanjay_mishra\n",
      "sanjay_mishra\n",
      "sanjay_mishra\n",
      "sanjay_mishra\n",
      "sanjay_mishra\n"
     ]
    },
    {
     "data": {
      "application/vnd.jupyter.widget-view+json": {
       "model_id": "3a030488961d408987e86765e3501ed6",
       "version_major": 2,
       "version_minor": 0
      },
      "text/plain": [
       "Images:   0%|          | 0/46 [00:00<?, ?it/s]"
      ]
     },
     "metadata": {},
     "output_type": "display_data"
    },
    {
     "name": "stdout",
     "output_type": "stream",
     "text": [
      "shabana_azmi\n",
      "shabana_azmi\n",
      "shabana_azmi\n",
      "shabana_azmi\n",
      "shabana_azmi\n",
      "shabana_azmi\n",
      "shabana_azmi\n",
      "shabana_azmi\n",
      "shabana_azmi\n",
      "shabana_azmi\n",
      "shabana_azmi\n",
      "shabana_azmi\n",
      "shabana_azmi\n",
      "shabana_azmi\n",
      "shabana_azmi\n",
      "shabana_azmi\n",
      "shabana_azmi\n",
      "shabana_azmi\n",
      "shabana_azmi\n",
      "shabana_azmi\n",
      "shabana_azmi\n",
      "shabana_azmi\n",
      "shabana_azmi\n",
      "shabana_azmi\n",
      "shabana_azmi\n",
      "shabana_azmi\n",
      "shabana_azmi\n",
      "shabana_azmi\n",
      "shabana_azmi\n",
      "shabana_azmi\n",
      "shabana_azmi\n",
      "shabana_azmi\n",
      "shabana_azmi\n",
      "shabana_azmi\n",
      "shabana_azmi\n",
      "shabana_azmi\n",
      "shabana_azmi\n",
      "shabana_azmi\n",
      "shabana_azmi\n",
      "shabana_azmi\n",
      "shabana_azmi\n"
     ]
    },
    {
     "data": {
      "application/vnd.jupyter.widget-view+json": {
       "model_id": "fc8bbe9159dd4f25b6d16353c9f8351a",
       "version_major": 2,
       "version_minor": 0
      },
      "text/plain": [
       "Images:   0%|          | 0/41 [00:00<?, ?it/s]"
      ]
     },
     "metadata": {},
     "output_type": "display_data"
    },
    {
     "name": "stdout",
     "output_type": "stream",
     "text": [
      "shah_rukh_khan\n",
      "shah_rukh_khan\n",
      "shah_rukh_khan\n",
      "shah_rukh_khan\n",
      "shah_rukh_khan\n",
      "shah_rukh_khan\n",
      "shah_rukh_khan\n",
      "shah_rukh_khan\n",
      "shah_rukh_khan\n",
      "shah_rukh_khan\n",
      "shah_rukh_khan\n",
      "shah_rukh_khan\n",
      "shah_rukh_khan\n",
      "shah_rukh_khan\n",
      "shah_rukh_khan\n",
      "shah_rukh_khan\n",
      "shah_rukh_khan\n",
      "shah_rukh_khan\n",
      "shah_rukh_khan\n",
      "shah_rukh_khan\n",
      "shah_rukh_khan\n",
      "shah_rukh_khan\n",
      "shah_rukh_khan\n",
      "shah_rukh_khan\n",
      "shah_rukh_khan\n",
      "shah_rukh_khan\n",
      "shah_rukh_khan\n",
      "shah_rukh_khan\n",
      "shah_rukh_khan\n",
      "shah_rukh_khan\n",
      "shah_rukh_khan\n",
      "shah_rukh_khan\n"
     ]
    },
    {
     "data": {
      "application/vnd.jupyter.widget-view+json": {
       "model_id": "af4d0415435e44fba9ffdafb58390c8e",
       "version_major": 2,
       "version_minor": 0
      },
      "text/plain": [
       "Images:   0%|          | 0/44 [00:00<?, ?it/s]"
      ]
     },
     "metadata": {},
     "output_type": "display_data"
    },
    {
     "name": "stdout",
     "output_type": "stream",
     "text": [
      "sharman_joshi\n",
      "sharman_joshi\n",
      "sharman_joshi\n",
      "sharman_joshi\n",
      "sharman_joshi\n",
      "sharman_joshi\n",
      "sharman_joshi\n",
      "sharman_joshi\n",
      "sharman_joshi\n",
      "sharman_joshi\n",
      "sharman_joshi\n",
      "sharman_joshi\n",
      "sharman_joshi\n",
      "sharman_joshi\n",
      "sharman_joshi\n",
      "sharman_joshi\n",
      "sharman_joshi\n",
      "sharman_joshi\n",
      "sharman_joshi\n",
      "sharman_joshi\n",
      "sharman_joshi\n",
      "sharman_joshi\n",
      "sharman_joshi\n",
      "sharman_joshi\n",
      "sharman_joshi\n",
      "sharman_joshi\n",
      "sharman_joshi\n",
      "sharman_joshi\n",
      "sharman_joshi\n",
      "sharman_joshi\n",
      "sharman_joshi\n",
      "sharman_joshi\n",
      "sharman_joshi\n",
      "sharman_joshi\n",
      "sharman_joshi\n",
      "sharman_joshi\n"
     ]
    },
    {
     "data": {
      "application/vnd.jupyter.widget-view+json": {
       "model_id": "de29429434a9427d8d4e44efce7b8273",
       "version_major": 2,
       "version_minor": 0
      },
      "text/plain": [
       "Images:   0%|          | 0/42 [00:00<?, ?it/s]"
      ]
     },
     "metadata": {},
     "output_type": "display_data"
    },
    {
     "name": "stdout",
     "output_type": "stream",
     "text": [
      "sharmila_tagore\n",
      "sharmila_tagore\n",
      "sharmila_tagore\n",
      "sharmila_tagore\n",
      "sharmila_tagore\n",
      "sharmila_tagore\n",
      "sharmila_tagore\n",
      "sharmila_tagore\n",
      "sharmila_tagore\n",
      "sharmila_tagore\n",
      "sharmila_tagore\n",
      "sharmila_tagore\n",
      "sharmila_tagore\n",
      "sharmila_tagore\n",
      "sharmila_tagore\n",
      "sharmila_tagore\n",
      "sharmila_tagore\n",
      "sharmila_tagore\n",
      "sharmila_tagore\n",
      "sharmila_tagore\n",
      "sharmila_tagore\n",
      "sharmila_tagore\n",
      "sharmila_tagore\n",
      "sharmila_tagore\n",
      "sharmila_tagore\n",
      "sharmila_tagore\n",
      "sharmila_tagore\n",
      "sharmila_tagore\n",
      "sharmila_tagore\n",
      "sharmila_tagore\n",
      "sharmila_tagore\n",
      "sharmila_tagore\n",
      "sharmila_tagore\n",
      "sharmila_tagore\n"
     ]
    },
    {
     "data": {
      "application/vnd.jupyter.widget-view+json": {
       "model_id": "26c9a79f302e41f28664090aeb78a4b5",
       "version_major": 2,
       "version_minor": 0
      },
      "text/plain": [
       "Images:   0%|          | 0/46 [00:00<?, ?it/s]"
      ]
     },
     "metadata": {},
     "output_type": "display_data"
    },
    {
     "name": "stdout",
     "output_type": "stream",
     "text": [
      "shashi_kapoor\n",
      "shashi_kapoor\n",
      "shashi_kapoor\n",
      "shashi_kapoor\n",
      "shashi_kapoor\n",
      "shashi_kapoor\n",
      "shashi_kapoor\n",
      "shashi_kapoor\n",
      "shashi_kapoor\n",
      "shashi_kapoor\n",
      "shashi_kapoor\n",
      "shashi_kapoor\n",
      "shashi_kapoor\n",
      "shashi_kapoor\n",
      "shashi_kapoor\n",
      "shashi_kapoor\n",
      "shashi_kapoor\n",
      "shashi_kapoor\n",
      "shashi_kapoor\n",
      "shashi_kapoor\n",
      "shashi_kapoor\n",
      "shashi_kapoor\n",
      "shashi_kapoor\n",
      "shashi_kapoor\n",
      "shashi_kapoor\n",
      "shashi_kapoor\n",
      "shashi_kapoor\n",
      "shashi_kapoor\n"
     ]
    },
    {
     "data": {
      "application/vnd.jupyter.widget-view+json": {
       "model_id": "cc6d5ea2f0e148ffb6c40b542ef4973f",
       "version_major": 2,
       "version_minor": 0
      },
      "text/plain": [
       "Images:   0%|          | 0/43 [00:00<?, ?it/s]"
      ]
     },
     "metadata": {},
     "output_type": "display_data"
    },
    {
     "name": "stdout",
     "output_type": "stream",
     "text": [
      "shreyas_talpade\n",
      "shreyas_talpade\n",
      "shreyas_talpade\n",
      "shreyas_talpade\n",
      "shreyas_talpade\n",
      "shreyas_talpade\n",
      "shreyas_talpade\n",
      "shreyas_talpade\n",
      "shreyas_talpade\n",
      "shreyas_talpade\n",
      "shreyas_talpade\n",
      "shreyas_talpade\n",
      "shreyas_talpade\n",
      "shreyas_talpade\n",
      "shreyas_talpade\n",
      "shreyas_talpade\n",
      "shreyas_talpade\n",
      "shreyas_talpade\n",
      "shreyas_talpade\n",
      "shreyas_talpade\n",
      "shreyas_talpade\n",
      "shreyas_talpade\n",
      "shreyas_talpade\n",
      "shreyas_talpade\n",
      "shreyas_talpade\n",
      "shreyas_talpade\n",
      "shreyas_talpade\n",
      "shreyas_talpade\n",
      "shreyas_talpade\n",
      "shreyas_talpade\n",
      "shreyas_talpade\n",
      "shreyas_talpade\n",
      "shreyas_talpade\n",
      "shreyas_talpade\n"
     ]
    },
    {
     "data": {
      "application/vnd.jupyter.widget-view+json": {
       "model_id": "d72ee739dd4f4451b233ce2c5354a995",
       "version_major": 2,
       "version_minor": 0
      },
      "text/plain": [
       "Images:   0%|          | 0/42 [00:00<?, ?it/s]"
      ]
     },
     "metadata": {},
     "output_type": "display_data"
    },
    {
     "name": "stdout",
     "output_type": "stream",
     "text": [
      "smita_patil\n",
      "smita_patil\n",
      "smita_patil\n",
      "smita_patil\n",
      "smita_patil\n",
      "smita_patil\n",
      "smita_patil\n",
      "smita_patil\n",
      "smita_patil\n",
      "smita_patil\n",
      "smita_patil\n",
      "smita_patil\n",
      "smita_patil\n",
      "smita_patil\n",
      "smita_patil\n",
      "smita_patil\n",
      "smita_patil\n",
      "smita_patil\n",
      "smita_patil\n",
      "smita_patil\n",
      "smita_patil\n",
      "smita_patil\n",
      "smita_patil\n",
      "smita_patil\n",
      "smita_patil\n",
      "smita_patil\n",
      "smita_patil\n",
      "smita_patil\n",
      "smita_patil\n",
      "smita_patil\n",
      "smita_patil\n",
      "smita_patil\n",
      "smita_patil\n",
      "smita_patil\n",
      "smita_patil\n",
      "smita_patil\n",
      "smita_patil\n",
      "smita_patil\n",
      "smita_patil\n"
     ]
    },
    {
     "data": {
      "application/vnd.jupyter.widget-view+json": {
       "model_id": "f38f1169be7742e99d7a9e8fa3506b4a",
       "version_major": 2,
       "version_minor": 0
      },
      "text/plain": [
       "Images:   0%|          | 0/45 [00:00<?, ?it/s]"
      ]
     },
     "metadata": {},
     "output_type": "display_data"
    },
    {
     "name": "stdout",
     "output_type": "stream",
     "text": [
      "soumitra_chatterjee\n",
      "soumitra_chatterjee\n",
      "soumitra_chatterjee\n",
      "soumitra_chatterjee\n",
      "soumitra_chatterjee\n",
      "soumitra_chatterjee\n",
      "soumitra_chatterjee\n",
      "soumitra_chatterjee\n",
      "soumitra_chatterjee\n",
      "soumitra_chatterjee\n",
      "soumitra_chatterjee\n",
      "soumitra_chatterjee\n",
      "soumitra_chatterjee\n",
      "soumitra_chatterjee\n",
      "soumitra_chatterjee\n",
      "soumitra_chatterjee\n",
      "soumitra_chatterjee\n",
      "soumitra_chatterjee\n",
      "soumitra_chatterjee\n",
      "soumitra_chatterjee\n",
      "soumitra_chatterjee\n",
      "soumitra_chatterjee\n",
      "soumitra_chatterjee\n",
      "soumitra_chatterjee\n",
      "soumitra_chatterjee\n",
      "soumitra_chatterjee\n"
     ]
    },
    {
     "data": {
      "application/vnd.jupyter.widget-view+json": {
       "model_id": "cf9de9c093a4480bb99fd8c0a22d82a0",
       "version_major": 2,
       "version_minor": 0
      },
      "text/plain": [
       "Images:   0%|          | 0/40 [00:00<?, ?it/s]"
      ]
     },
     "metadata": {},
     "output_type": "display_data"
    },
    {
     "name": "stdout",
     "output_type": "stream",
     "text": [
      "sridevi\n",
      "sridevi\n",
      "sridevi\n",
      "sridevi\n",
      "sridevi\n",
      "sridevi\n",
      "sridevi\n",
      "sridevi\n",
      "sridevi\n",
      "sridevi\n",
      "sridevi\n",
      "sridevi\n",
      "sridevi\n",
      "sridevi\n",
      "sridevi\n",
      "sridevi\n",
      "sridevi\n",
      "sridevi\n",
      "sridevi\n",
      "sridevi\n",
      "sridevi\n",
      "sridevi\n",
      "sridevi\n",
      "sridevi\n",
      "sridevi\n",
      "sridevi\n",
      "sridevi\n",
      "sridevi\n",
      "sridevi\n",
      "sridevi\n",
      "sridevi\n",
      "sridevi\n",
      "sridevi\n",
      "sridevi\n",
      "sridevi\n",
      "sridevi\n"
     ]
    },
    {
     "data": {
      "application/vnd.jupyter.widget-view+json": {
       "model_id": "ee230de4ea104c3faafd1c88c282f701",
       "version_major": 2,
       "version_minor": 0
      },
      "text/plain": [
       "Images:   0%|          | 0/49 [00:00<?, ?it/s]"
      ]
     },
     "metadata": {},
     "output_type": "display_data"
    },
    {
     "name": "stdout",
     "output_type": "stream",
     "text": [
      "sunil_shetty\n",
      "sunil_shetty\n",
      "sunil_shetty\n",
      "sunil_shetty\n",
      "sunil_shetty\n",
      "sunil_shetty\n",
      "sunil_shetty\n",
      "sunil_shetty\n",
      "sunil_shetty\n",
      "sunil_shetty\n",
      "sunil_shetty\n",
      "sunil_shetty\n",
      "sunil_shetty\n",
      "sunil_shetty\n",
      "sunil_shetty\n",
      "sunil_shetty\n",
      "sunil_shetty\n",
      "sunil_shetty\n",
      "sunil_shetty\n",
      "sunil_shetty\n",
      "sunil_shetty\n",
      "sunil_shetty\n",
      "sunil_shetty\n"
     ]
    },
    {
     "data": {
      "application/vnd.jupyter.widget-view+json": {
       "model_id": "ea7ae84694d84ebd9ced19ae270966eb",
       "version_major": 2,
       "version_minor": 0
      },
      "text/plain": [
       "Images:   0%|          | 0/47 [00:00<?, ?it/s]"
      ]
     },
     "metadata": {},
     "output_type": "display_data"
    },
    {
     "name": "stdout",
     "output_type": "stream",
     "text": [
      "sunny_deol\n",
      "sunny_deol\n",
      "sunny_deol\n",
      "sunny_deol\n",
      "sunny_deol\n",
      "sunny_deol\n",
      "sunny_deol\n",
      "sunny_deol\n",
      "sunny_deol\n",
      "sunny_deol\n",
      "sunny_deol\n",
      "sunny_deol\n",
      "sunny_deol\n",
      "sunny_deol\n",
      "sunny_deol\n",
      "sunny_deol\n",
      "sunny_deol\n",
      "sunny_deol\n",
      "sunny_deol\n",
      "sunny_deol\n",
      "sunny_deol\n",
      "sunny_deol\n",
      "sunny_deol\n",
      "sunny_deol\n",
      "sunny_deol\n",
      "sunny_deol\n",
      "sunny_deol\n",
      "sunny_deol\n",
      "sunny_deol\n",
      "sunny_deol\n",
      "sunny_deol\n",
      "sunny_deol\n",
      "sunny_deol\n",
      "sunny_deol\n",
      "sunny_deol\n",
      "sunny_deol\n",
      "sunny_deol\n",
      "sunny_deol\n",
      "sunny_deol\n",
      "sunny_deol\n",
      "sunny_deol\n",
      "sunny_deol\n",
      "sunny_deol\n"
     ]
    },
    {
     "data": {
      "application/vnd.jupyter.widget-view+json": {
       "model_id": "e28b0795a87f433babac937c77fc88f6",
       "version_major": 2,
       "version_minor": 0
      },
      "text/plain": [
       "Images:   0%|          | 0/49 [00:00<?, ?it/s]"
      ]
     },
     "metadata": {},
     "output_type": "display_data"
    },
    {
     "name": "stdout",
     "output_type": "stream",
     "text": [
      "tabu\n",
      "tabu\n",
      "tabu\n",
      "tabu\n",
      "tabu\n",
      "tabu\n",
      "tabu\n",
      "tabu\n",
      "tabu\n",
      "tabu\n",
      "tabu\n",
      "tabu\n",
      "tabu\n",
      "tabu\n",
      "tabu\n",
      "tabu\n",
      "tabu\n",
      "tabu\n",
      "tabu\n",
      "tabu\n",
      "tabu\n",
      "tabu\n",
      "tabu\n",
      "tabu\n",
      "tabu\n",
      "tabu\n",
      "tabu\n",
      "tabu\n",
      "tabu\n",
      "tabu\n",
      "tabu\n",
      "tabu\n",
      "tabu\n",
      "tabu\n",
      "tabu\n",
      "tabu\n",
      "tabu\n",
      "tabu\n",
      "tabu\n",
      "tabu\n",
      "tabu\n",
      "tabu\n",
      "tabu\n",
      "tabu\n"
     ]
    },
    {
     "data": {
      "application/vnd.jupyter.widget-view+json": {
       "model_id": "8920e862d6bd465191c624c475618cfe",
       "version_major": 2,
       "version_minor": 0
      },
      "text/plain": [
       "Images:   0%|          | 0/43 [00:00<?, ?it/s]"
      ]
     },
     "metadata": {},
     "output_type": "display_data"
    },
    {
     "name": "stdout",
     "output_type": "stream",
     "text": [
      "tinnu_anand\n",
      "tinnu_anand\n",
      "tinnu_anand\n",
      "tinnu_anand\n",
      "tinnu_anand\n",
      "tinnu_anand\n",
      "tinnu_anand\n",
      "tinnu_anand\n",
      "tinnu_anand\n",
      "tinnu_anand\n",
      "tinnu_anand\n",
      "tinnu_anand\n",
      "tinnu_anand\n",
      "tinnu_anand\n",
      "tinnu_anand\n",
      "tinnu_anand\n",
      "tinnu_anand\n",
      "tinnu_anand\n",
      "tinnu_anand\n",
      "tinnu_anand\n",
      "tinnu_anand\n",
      "tinnu_anand\n",
      "tinnu_anand\n",
      "tinnu_anand\n"
     ]
    },
    {
     "data": {
      "application/vnd.jupyter.widget-view+json": {
       "model_id": "fecb9e45ff7340509cba654922bc37bc",
       "version_major": 2,
       "version_minor": 0
      },
      "text/plain": [
       "Images:   0%|          | 0/41 [00:00<?, ?it/s]"
      ]
     },
     "metadata": {},
     "output_type": "display_data"
    },
    {
     "name": "stdout",
     "output_type": "stream",
     "text": [
      "utpal_dutt\n",
      "utpal_dutt\n",
      "utpal_dutt\n",
      "utpal_dutt\n",
      "utpal_dutt\n",
      "utpal_dutt\n",
      "utpal_dutt\n",
      "utpal_dutt\n",
      "utpal_dutt\n",
      "utpal_dutt\n",
      "utpal_dutt\n",
      "utpal_dutt\n",
      "utpal_dutt\n",
      "utpal_dutt\n",
      "utpal_dutt\n",
      "utpal_dutt\n",
      "utpal_dutt\n",
      "utpal_dutt\n",
      "utpal_dutt\n",
      "utpal_dutt\n",
      "utpal_dutt\n"
     ]
    },
    {
     "data": {
      "application/vnd.jupyter.widget-view+json": {
       "model_id": "c4154ac5cf38422a89cbaf40f9555898",
       "version_major": 2,
       "version_minor": 0
      },
      "text/plain": [
       "Images:   0%|          | 0/45 [00:00<?, ?it/s]"
      ]
     },
     "metadata": {},
     "output_type": "display_data"
    },
    {
     "name": "stdout",
     "output_type": "stream",
     "text": [
      "varun_dhawan\n",
      "varun_dhawan\n",
      "varun_dhawan\n",
      "varun_dhawan\n",
      "varun_dhawan\n",
      "varun_dhawan\n",
      "varun_dhawan\n",
      "varun_dhawan\n",
      "varun_dhawan\n",
      "varun_dhawan\n",
      "varun_dhawan\n",
      "varun_dhawan\n",
      "varun_dhawan\n",
      "varun_dhawan\n",
      "varun_dhawan\n",
      "varun_dhawan\n",
      "varun_dhawan\n",
      "varun_dhawan\n",
      "varun_dhawan\n",
      "varun_dhawan\n",
      "varun_dhawan\n",
      "varun_dhawan\n",
      "varun_dhawan\n",
      "varun_dhawan\n",
      "varun_dhawan\n",
      "varun_dhawan\n",
      "varun_dhawan\n",
      "varun_dhawan\n",
      "varun_dhawan\n",
      "varun_dhawan\n",
      "varun_dhawan\n",
      "varun_dhawan\n",
      "varun_dhawan\n",
      "varun_dhawan\n",
      "varun_dhawan\n"
     ]
    },
    {
     "data": {
      "application/vnd.jupyter.widget-view+json": {
       "model_id": "2926388217bb49ebb1baa135eb9ce849",
       "version_major": 2,
       "version_minor": 0
      },
      "text/plain": [
       "Images:   0%|          | 0/47 [00:00<?, ?it/s]"
      ]
     },
     "metadata": {},
     "output_type": "display_data"
    },
    {
     "name": "stdout",
     "output_type": "stream",
     "text": [
      "vidya_balan\n",
      "vidya_balan\n",
      "vidya_balan\n",
      "vidya_balan\n",
      "vidya_balan\n",
      "vidya_balan\n",
      "vidya_balan\n",
      "vidya_balan\n",
      "vidya_balan\n",
      "vidya_balan\n",
      "vidya_balan\n",
      "vidya_balan\n",
      "vidya_balan\n",
      "vidya_balan\n",
      "vidya_balan\n",
      "vidya_balan\n",
      "vidya_balan\n",
      "vidya_balan\n",
      "vidya_balan\n",
      "vidya_balan\n",
      "vidya_balan\n",
      "vidya_balan\n",
      "vidya_balan\n",
      "vidya_balan\n",
      "vidya_balan\n",
      "vidya_balan\n",
      "vidya_balan\n",
      "vidya_balan\n",
      "vidya_balan\n",
      "vidya_balan\n",
      "vidya_balan\n",
      "vidya_balan\n",
      "vidya_balan\n",
      "vidya_balan\n",
      "vidya_balan\n",
      "vidya_balan\n",
      "vidya_balan\n",
      "vidya_balan\n",
      "vidya_balan\n",
      "vidya_balan\n",
      "vidya_balan\n",
      "vidya_balan\n",
      "vidya_balan\n",
      "vidya_balan\n"
     ]
    },
    {
     "data": {
      "application/vnd.jupyter.widget-view+json": {
       "model_id": "b0c8a3ca573141949c77a5cb3fc2fc8e",
       "version_major": 2,
       "version_minor": 0
      },
      "text/plain": [
       "Images:   0%|          | 0/43 [00:00<?, ?it/s]"
      ]
     },
     "metadata": {},
     "output_type": "display_data"
    },
    {
     "name": "stdout",
     "output_type": "stream",
     "text": [
      "vinod_khanna\n",
      "vinod_khanna\n",
      "vinod_khanna\n",
      "vinod_khanna\n",
      "vinod_khanna\n",
      "vinod_khanna\n",
      "vinod_khanna\n",
      "vinod_khanna\n",
      "vinod_khanna\n",
      "vinod_khanna\n",
      "vinod_khanna\n",
      "vinod_khanna\n",
      "vinod_khanna\n",
      "vinod_khanna\n",
      "vinod_khanna\n",
      "vinod_khanna\n",
      "vinod_khanna\n",
      "vinod_khanna\n",
      "vinod_khanna\n",
      "vinod_khanna\n",
      "vinod_khanna\n",
      "vinod_khanna\n",
      "vinod_khanna\n",
      "vinod_khanna\n",
      "vinod_khanna\n",
      "vinod_khanna\n",
      "vinod_khanna\n",
      "vinod_khanna\n",
      "vinod_khanna\n",
      "vinod_khanna\n",
      "vinod_khanna\n",
      "vinod_khanna\n",
      "vinod_khanna\n",
      "vinod_khanna\n",
      "vinod_khanna\n"
     ]
    },
    {
     "data": {
      "application/vnd.jupyter.widget-view+json": {
       "model_id": "83fee63cef284997b5e5aadc5ae544ce",
       "version_major": 2,
       "version_minor": 0
      },
      "text/plain": [
       "Images:   0%|          | 0/48 [00:00<?, ?it/s]"
      ]
     },
     "metadata": {},
     "output_type": "display_data"
    },
    {
     "name": "stdout",
     "output_type": "stream",
     "text": [
      "waheeda_rehman\n",
      "waheeda_rehman\n",
      "waheeda_rehman\n",
      "waheeda_rehman\n",
      "waheeda_rehman\n",
      "waheeda_rehman\n",
      "waheeda_rehman\n",
      "waheeda_rehman\n",
      "waheeda_rehman\n",
      "waheeda_rehman\n",
      "waheeda_rehman\n",
      "waheeda_rehman\n",
      "waheeda_rehman\n",
      "waheeda_rehman\n",
      "waheeda_rehman\n",
      "waheeda_rehman\n",
      "waheeda_rehman\n",
      "waheeda_rehman\n",
      "waheeda_rehman\n",
      "waheeda_rehman\n",
      "waheeda_rehman\n",
      "waheeda_rehman\n",
      "waheeda_rehman\n",
      "waheeda_rehman\n",
      "waheeda_rehman\n",
      "waheeda_rehman\n",
      "waheeda_rehman\n",
      "waheeda_rehman\n",
      "waheeda_rehman\n",
      "waheeda_rehman\n",
      "waheeda_rehman\n",
      "waheeda_rehman\n",
      "waheeda_rehman\n",
      "waheeda_rehman\n",
      "waheeda_rehman\n",
      "waheeda_rehman\n",
      "waheeda_rehman\n",
      "waheeda_rehman\n",
      "waheeda_rehman\n",
      "waheeda_rehman\n"
     ]
    },
    {
     "data": {
      "application/vnd.jupyter.widget-view+json": {
       "model_id": "233037abdbdb45d29505ec86533374c8",
       "version_major": 2,
       "version_minor": 0
      },
      "text/plain": [
       "Images:   0%|          | 0/46 [00:00<?, ?it/s]"
      ]
     },
     "metadata": {},
     "output_type": "display_data"
    },
    {
     "name": "stdout",
     "output_type": "stream",
     "text": [
      "zarina_wahab\n",
      "zarina_wahab\n",
      "zarina_wahab\n",
      "zarina_wahab\n",
      "zarina_wahab\n",
      "zarina_wahab\n",
      "zarina_wahab\n",
      "zarina_wahab\n",
      "zarina_wahab\n",
      "zarina_wahab\n",
      "zarina_wahab\n",
      "zarina_wahab\n",
      "zarina_wahab\n",
      "zarina_wahab\n",
      "zarina_wahab\n",
      "zarina_wahab\n",
      "zarina_wahab\n",
      "zarina_wahab\n",
      "zarina_wahab\n",
      "zarina_wahab\n",
      "zarina_wahab\n",
      "zarina_wahab\n",
      "zarina_wahab\n",
      "zarina_wahab\n",
      "zarina_wahab\n",
      "zarina_wahab\n",
      "zarina_wahab\n",
      "zarina_wahab\n",
      "zarina_wahab\n",
      "zarina_wahab\n",
      "zarina_wahab\n",
      "zarina_wahab\n",
      "zarina_wahab\n",
      "zarina_wahab\n",
      "zarina_wahab\n",
      "zarina_wahab\n",
      "zarina_wahab\n"
     ]
    },
    {
     "data": {
      "application/vnd.jupyter.widget-view+json": {
       "model_id": "d791cb07bed14dd3a38fd87c706cd122",
       "version_major": 2,
       "version_minor": 0
      },
      "text/plain": [
       "Images:   0%|          | 0/40 [00:00<?, ?it/s]"
      ]
     },
     "metadata": {},
     "output_type": "display_data"
    },
    {
     "name": "stdout",
     "output_type": "stream",
     "text": [
      "zeenat_aman\n",
      "zeenat_aman\n",
      "zeenat_aman\n",
      "zeenat_aman\n",
      "zeenat_aman\n",
      "zeenat_aman\n",
      "zeenat_aman\n",
      "zeenat_aman\n",
      "zeenat_aman\n",
      "zeenat_aman\n",
      "zeenat_aman\n",
      "zeenat_aman\n",
      "zeenat_aman\n",
      "zeenat_aman\n",
      "zeenat_aman\n",
      "zeenat_aman\n",
      "zeenat_aman\n",
      "zeenat_aman\n",
      "zeenat_aman\n",
      "zeenat_aman\n",
      "zeenat_aman\n",
      "zeenat_aman\n",
      "zeenat_aman\n",
      "zeenat_aman\n",
      "zeenat_aman\n",
      "zeenat_aman\n",
      "zeenat_aman\n",
      "zeenat_aman\n",
      "zeenat_aman\n",
      "zeenat_aman\n",
      "zeenat_aman\n",
      "zeenat_aman\n",
      "zeenat_aman\n",
      "zeenat_aman\n",
      "zeenat_aman\n",
      "zeenat_aman\n",
      "Encoding complete.\n"
     ]
    }
   ],
   "source": [
    "dataset_path = 'indianActors-dataset/actors_dataset/Indian_actors_faces'\n",
    "\n",
    "known_face_encodings = []\n",
    "known_face_names = []\n",
    "\n",
    "for folder in tqdm(os.listdir(dataset_path), desc = \"Folders\"):\n",
    "    folder_path = os.path.join(dataset_path, folder)\n",
    "    for filename in tqdm(os.listdir(folder_path), desc = \"Images\", leave = False):\n",
    "        if filename.endswith('.jpg') or filename.endswith('.png'):\n",
    "            image_path = os.path.join(folder_path, filename)\n",
    "            # print(image_path)\n",
    "            image = face_recognition.load_image_file(image_path)\n",
    "\n",
    "            if image.any():\n",
    "                face_locations = face_recognition.face_locations(image)\n",
    "                face_encodings = face_recognition.face_encodings(image, face_locations)\n",
    "            \n",
    "                if face_encodings:\n",
    "                    known_face_encodings.append(face_encodings[0])\n",
    "                    actor_name = str(os.path.basename(os.path.dirname(image_path)))\n",
    "                    known_face_names.append(actor_name)\n",
    "                    print(actor_name)\n",
    "\n",
    "print(\"Encoding complete.\")"
   ]
  },
  {
   "cell_type": "code",
   "execution_count": null,
   "id": "9773de92-51b7-4dae-9165-97fff5321362",
   "metadata": {},
   "outputs": [],
   "source": [
    "# test_images_path = \"testImages\"\n",
    "\n",
    "# for test_image_path in os.listdir(test_images_path):\n",
    "#     test_image = face_recognition.load_image_file(os.path.join(test_images_path, test_image_path))\n",
    "    \n",
    "#     test_face_locations = face_recognition.face_locations(test_image)\n",
    "#     test_face_encodings = face_recognition.face_encodings(test_image, test_face_locations)\n",
    "    \n",
    "#     matches = face_recognition.compare_faces(known_face_encodings, test_face_encodings[0])\n",
    "#     face_distances = face_recognition.face_distance(known_face_encodings, test_face_encodings[0])\n",
    "#     best_match = np.argmin(face_distances)\n",
    "#     if matches[best_match]:\n",
    "#         print(known_face_names[best_match])"
   ]
  },
  {
   "cell_type": "code",
   "execution_count": 4,
   "id": "1be32329-4e9f-47ac-9a26-0be2b689778c",
   "metadata": {},
   "outputs": [
    {
     "name": "stdout",
     "output_type": "stream",
     "text": [
      "FAISS index saved to faiss_index.pkl\n"
     ]
    }
   ],
   "source": [
    "known_face_encodings_array = np.array(known_face_encodings, dtype = 'float32')\n",
    "\n",
    "index = faiss.IndexFlatL2(known_face_encodings_array.shape[1])  # L2 distance\n",
    "index.add(known_face_encodings_array)\n",
    "\n",
    "with open('faiss_index.pkl', 'wb') as f:\n",
    "    pickle.dump((index, known_face_names), f)\n",
    "\n",
    "print(\"FAISS index saved to faiss_index.pkl\")"
   ]
  }
 ],
 "metadata": {
  "kernelspec": {
   "display_name": "Python 3 (ipykernel)",
   "language": "python",
   "name": "python3"
  },
  "language_info": {
   "codemirror_mode": {
    "name": "ipython",
    "version": 3
   },
   "file_extension": ".py",
   "mimetype": "text/x-python",
   "name": "python",
   "nbconvert_exporter": "python",
   "pygments_lexer": "ipython3",
   "version": "3.12.8"
  }
 },
 "nbformat": 4,
 "nbformat_minor": 5
}
